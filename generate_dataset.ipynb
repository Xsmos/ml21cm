{
 "cells": [
  {
   "cell_type": "code",
   "execution_count": 1,
   "metadata": {},
   "outputs": [],
   "source": [
    "# Packages \n",
    "import warnings\n",
    "warnings.simplefilter('ignore')\n",
    "\n",
    "import matplotlib.pyplot as plt\n",
    "import numpy as np\n",
    "import glob\n",
    "import h5py\n",
    "\n",
    "# We change the default level of the logger so that\n",
    "# we can see what's happening with caching.\n",
    "import sys, os\n",
    "import logging\n",
    "logger = logging.getLogger('21cmFAST')\n",
    "logger.setLevel(logging.INFO)\n",
    "\n",
    "import py21cmfast as p21c\n",
    "\n",
    "# For plotting the cubes, we use the plotting submodule:\n",
    "# from py21cmfast import plotting\n",
    "\n",
    "# For interacting with the cache\n",
    "from py21cmfast import cache_tools"
   ]
  },
  {
   "cell_type": "code",
   "execution_count": 2,
   "metadata": {},
   "outputs": [],
   "source": [
    "# Cache for intermediate process\n",
    "cache_direc = \"/storage/home/hcoda1/3/bxia34/scratch/_cache\"\n",
    "\n",
    "if not os.path.exists(cache_direc):\n",
    "    os.mkdir(cache_direc)\n",
    "\n",
    "p21c.config['direc'] = cache_direc"
   ]
  },
  {
   "cell_type": "code",
   "execution_count": 14,
   "metadata": {},
   "outputs": [],
   "source": [
    "# What to sample\n",
    "my_params = dict(\n",
    "    ION_Tvir_MIN = 5,\n",
    "    HII_EFF_FACTOR = 10,\n",
    ") #############################################################"
   ]
  },
  {
   "cell_type": "code",
   "execution_count": 15,
   "metadata": {},
   "outputs": [],
   "source": [
    "# All parameters\n",
    "redshift = 11.93 \n",
    "\n",
    "user_params = {\n",
    "    \"HII_DIM\":60, \n",
    "    \"BOX_LEN\":150, \n",
    "    \"USE_INTERPOLATION_TABLE\":True\n",
    "    }\n",
    "cosmo_params = dict(\n",
    "    SIGMA_8 = 0.810,\n",
    "    hlittle = 0.677,\n",
    "    OMm = 0.310,\n",
    "    OMb = 0.0490,\n",
    "    POWER_INDEX = 0.967,\n",
    ")\n",
    "astro_params = dict(\n",
    "    ION_Tvir_MIN = my_params['ION_Tvir_MIN'],\n",
    "    HII_EFF_FACTOR = my_params['HII_EFF_FACTOR'],\n",
    ")"
   ]
  },
  {
   "cell_type": "code",
   "execution_count": 16,
   "metadata": {},
   "outputs": [],
   "source": [
    "# Simulation\n",
    "coeval = p21c.run_coeval(\n",
    "    redshift = redshift,\n",
    "    user_params = user_params,\n",
    "    cosmo_params = p21c.CosmoParams(cosmo_params),\n",
    "    astro_params = p21c.AstroParams(astro_params),\n",
    "    random_seed = np.random.randint(1,2**32)\n",
    ")\n",
    "\n",
    "pattern = os.path.join(cache_direc, f\"*{coeval.random_seed}*\")\n",
    "for filename in glob.glob(pattern):\n",
    "    # print(filename)\n",
    "    os.remove(filename)"
   ]
  },
  {
   "cell_type": "code",
   "execution_count": 17,
   "metadata": {},
   "outputs": [],
   "source": [
    "# cache_tools.clear_cache(direc=cache_direc)"
   ]
  },
  {
   "cell_type": "code",
   "execution_count": 18,
   "metadata": {},
   "outputs": [],
   "source": [
    "# plotting.coeval_sliceplot(coeval)\n",
    "# plt.title(f\"seed = {coeval.random_seed}\")"
   ]
  },
  {
   "cell_type": "code",
   "execution_count": 19,
   "metadata": {},
   "outputs": [],
   "source": [
    "# Save as hdf5\n",
    "save_direc_name = \"./test.h5\"\n",
    "# os.remove(save_direc_name)\n",
    "\n",
    "image = np.expand_dims(coeval.brightness_temp, axis=0)\n",
    "HII_DIM = image.shape[-1]\n",
    "params = np.array(list(my_params.values()))\n",
    "params = np.expand_dims(params, axis=0)\n",
    "random_seed = np.array(coeval.random_seed).reshape(1,1)\n",
    "\n",
    "with h5py.File(save_direc_name, 'a') as f:\n",
    "    if 'images' not in f.keys():\n",
    "        f.create_dataset(\n",
    "            'images', \n",
    "            data=image, \n",
    "            maxshape=(None, HII_DIM, HII_DIM, HII_DIM)\n",
    "        )\n",
    "        f.create_dataset(\n",
    "            'params',\n",
    "            data = params,\n",
    "            maxshape = (None, params.shape[-1]))\n",
    "        f.create_dataset(\n",
    "            'random_seed',\n",
    "            data=random_seed,\n",
    "            maxshape=(None,1)\n",
    "        )\n",
    "    else:\n",
    "        # print(image.shape)\n",
    "        new_size = f['images'].shape[0] + 1\n",
    "        f['images'].resize(new_size, axis=0)\n",
    "        f['images'][-1] = image\n",
    "        f['params'].resize(new_size, axis=0)\n",
    "        f['params'][-1] = params\n",
    "        f['random_seed'].resize(new_size, axis=0)\n",
    "        f['random_seed'][-1] = random_seed"
   ]
  },
  {
   "cell_type": "code",
   "execution_count": 25,
   "metadata": {},
   "outputs": [],
   "source": [
    "# How to read images, params, and random_seed\n",
    "# with h5py.File(save_direc_name, 'a') as f:\n",
    "#     images = np.array(f['images'])\n",
    "#     labels = np.array(f['params'])\n",
    "#     seed = np.array(f['random_seed'])\n",
    "# print(images.shape)\n",
    "# print(labels)\n",
    "# print(seed)"
   ]
  }
 ],
 "metadata": {
  "kernelspec": {
   "display_name": "21cmFAST",
   "language": "python",
   "name": "python3"
  },
  "language_info": {
   "codemirror_mode": {
    "name": "ipython",
    "version": 3
   },
   "file_extension": ".py",
   "mimetype": "text/x-python",
   "name": "python",
   "nbconvert_exporter": "python",
   "pygments_lexer": "ipython3",
   "version": "3.11.8"
  },
  "orig_nbformat": 4
 },
 "nbformat": 4,
 "nbformat_minor": 2
}
