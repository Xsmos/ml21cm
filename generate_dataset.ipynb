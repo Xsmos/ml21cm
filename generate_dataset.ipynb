{
 "cells": [
  {
   "cell_type": "code",
   "execution_count": 1,
   "metadata": {},
   "outputs": [
    {
     "name": "stderr",
     "output_type": "stream",
     "text": [
      "/storage/home/hcoda1/3/bxia34/.conda/envs/21cmFAST/lib/python3.11/site-packages/py21cmfast/_cfg.py:57: UserWarning: Your configuration file is out of date. Updating...\n",
      "  warnings.warn(\n",
      "/storage/home/hcoda1/3/bxia34/.conda/envs/21cmFAST/lib/python3.11/site-packages/py21cmfast/_cfg.py:41: UserWarning: Your configuration file is out of date. Updating...\n",
      "  warnings.warn(\"Your configuration file is out of date. Updating...\")\n",
      "--------------------------------------------------------------------------\n",
      "WARNING: There was an error initializing an OpenFabrics device.\n",
      "\n",
      "  Local host:   atl1-1-02-002-26-2\n",
      "  Local device: mlx5_0\n",
      "--------------------------------------------------------------------------\n"
     ]
    }
   ],
   "source": [
    "# Packages \n",
    "# import warnings\n",
    "# warnings.simplefilter('ignore')\n",
    "\n",
    "import matplotlib.pyplot as plt\n",
    "import numpy as np\n",
    "from scipy.stats import qmc\n",
    "import glob\n",
    "import h5py\n",
    "import time\n",
    "from datetime import timedelta\n",
    "\n",
    "# We change the default level of the logger so that\n",
    "# we can see what's happening with caching.\n",
    "import sys, os\n",
    "import logging\n",
    "logger = logging.getLogger('21cmFAST')\n",
    "logger.setLevel(logging.INFO)\n",
    "\n",
    "import py21cmfast as p21c\n",
    "\n",
    "# For plotting the cubes, we use the plotting submodule:\n",
    "# from py21cmfast import plotting\n",
    "\n",
    "# For interacting with the cache\n",
    "from py21cmfast import cache_tools\n",
    "\n",
    "# Parallize\n",
    "from mpi4py import MPI\n",
    "import multiprocessing\n",
    "from multiprocessing import Pool\n",
    "\n",
    "# Cache for intermediate process\n",
    "cache_direc = \"/storage/home/hcoda1/3/bxia34/scratch/_cache\"\n",
    "\n",
    "if not os.path.exists(cache_direc):\n",
    "    os.mkdir(cache_direc)\n",
    "\n",
    "p21c.config['direc'] = cache_direc\n",
    "\n",
    "string_pad_length = 80"
   ]
  },
  {
   "cell_type": "code",
   "execution_count": 2,
   "metadata": {},
   "outputs": [],
   "source": [
    "comm = MPI.COMM_WORLD\n",
    "rank = comm.Get_rank()\n",
    "size = comm.Get_size()"
   ]
  },
  {
   "cell_type": "code",
   "execution_count": 39,
   "metadata": {},
   "outputs": [
    {
     "name": "stdout",
     "output_type": "stream",
     "text": [
      "-------------Process 0 scatters data (shape = (1, 9, 2)) to 1 nodes-------------\n",
      "--------------------Process 0/1 recvs data (shape = (9, 2))---------------------\n"
     ]
    }
   ],
   "source": [
    "if rank == 0:\n",
    "    sampler = qmc.LatinHypercube(d=2, strength=2)\n",
    "    sample = sampler.random(n=9)\n",
    "    # send_data = np.random.normal(size=(10,2))\n",
    "    send_data = sample[:int(sample.shape[0]//size * size),:]\n",
    "    send_data = send_data.reshape(size, int(send_data.shape[0]/size), send_data.shape[1])\n",
    "    print(f\"Process {rank} scatters data (shape = {send_data.shape}) to {size} nodes\".center(string_pad_length,'-'))\n",
    "else:\n",
    "    send_data = None\n",
    "recv_data = comm.scatter(send_data, root=0)\n",
    "print(f\"Process {rank}/{size} recvs data (shape = {recv_data.shape})\".center(string_pad_length, '-'))"
   ]
  },
  {
   "cell_type": "code",
   "execution_count": 4,
   "metadata": {},
   "outputs": [],
   "source": [
    "# plt.scatter(recv_data.T[0], recv_data.T[1])"
   ]
  },
  {
   "cell_type": "code",
   "execution_count": 5,
   "metadata": {},
   "outputs": [],
   "source": [
    "def denormalize(norm, kind):\n",
    "    if kind == 'ION_Tvir_MIN':\n",
    "        value = norm*2 + 4\n",
    "    elif kind == 'HII_EFF_FACTOR':\n",
    "        value = norm*np.log10(25) + 1\n",
    "        value = 10**value\n",
    "    else:\n",
    "        raise TypeError(f\"kind \\'{kind}\\' is not supported.\")\n",
    "    return value"
   ]
  },
  {
   "cell_type": "code",
   "execution_count": 40,
   "metadata": {},
   "outputs": [],
   "source": [
    "# What to sample\n",
    "params_node = dict(\n",
    "    ION_Tvir_MIN = None,\n",
    "    HII_EFF_FACTOR = None,\n",
    ")\n",
    "\n",
    "for i, kind in enumerate(params_node.keys()):\n",
    "    params_node[kind] = denormalize(recv_data.T[i], kind)\n",
    "# params_node.values()"
   ]
  },
  {
   "cell_type": "code",
   "execution_count": 7,
   "metadata": {},
   "outputs": [
    {
     "name": "stdout",
     "output_type": "stream",
     "text": [
      "-------------node 167085: 2 CPUs are working on 9 groups of params--------------\n"
     ]
    },
    {
     "name": "stderr",
     "output_type": "stream",
     "text": [
      "/storage/home/hcoda1/3/bxia34/.conda/envs/21cmFAST/lib/python3.11/site-packages/py21cmfast/_utils.py:400: UserWarning: The following parameters to UserParams are not supported: ['USE_INTERPOLATION_TABLE']\n",
      "  warnings.warn(\n",
      "/storage/home/hcoda1/3/bxia34/.conda/envs/21cmFAST/lib/python3.11/site-packages/py21cmfast/_utils.py:400: UserWarning: The following parameters to UserParams are not supported: ['USE_INTERPOLATION_TABLE']\n",
      "  warnings.warn(\n",
      "/storage/home/hcoda1/3/bxia34/.conda/envs/21cmFAST/lib/python3.11/site-packages/py21cmfast/_utils.py:400: UserWarning: The following parameters to FlagOptions are not supported: ['USE_VELS_AUX']\n",
      "  warnings.warn(\n",
      "/storage/home/hcoda1/3/bxia34/.conda/envs/21cmFAST/lib/python3.11/site-packages/py21cmfast/_utils.py:400: UserWarning: The following parameters to FlagOptions are not supported: ['USE_VELS_AUX']\n",
      "  warnings.warn(\n",
      "/storage/home/hcoda1/3/bxia34/.conda/envs/21cmFAST/lib/python3.11/site-packages/py21cmfast/inputs.py:491: UserWarning: The USE_INTERPOLATION_TABLES setting has changed in v3.1.2 to be default True. You can likely ignore this warning, but if you relied onhaving USE_INTERPOLATION_TABLES=False by *default*, please set it explicitly. To silence this warning, set it explicitly to True. Thiswarning will be removed in v4.\n",
      "  warnings.warn(\n",
      "/storage/home/hcoda1/3/bxia34/.conda/envs/21cmFAST/lib/python3.11/site-packages/py21cmfast/inputs.py:491: UserWarning: The USE_INTERPOLATION_TABLES setting has changed in v3.1.2 to be default True. You can likely ignore this warning, but if you relied onhaving USE_INTERPOLATION_TABLES=False by *default*, please set it explicitly. To silence this warning, set it explicitly to True. Thiswarning will be removed in v4.\n",
      "  warnings.warn(\n",
      "/storage/home/hcoda1/3/bxia34/.conda/envs/21cmFAST/lib/python3.11/site-packages/py21cmfast/_utils.py:815: UserWarning: Trying to remove array that isn't yet created: hires_vx\n",
      "  warnings.warn(f\"Trying to remove array that isn't yet created: {k}\")\n",
      "/storage/home/hcoda1/3/bxia34/.conda/envs/21cmFAST/lib/python3.11/site-packages/py21cmfast/_utils.py:815: UserWarning: Trying to remove array that isn't yet created: hires_vy\n",
      "  warnings.warn(f\"Trying to remove array that isn't yet created: {k}\")\n",
      "/storage/home/hcoda1/3/bxia34/.conda/envs/21cmFAST/lib/python3.11/site-packages/py21cmfast/_utils.py:815: UserWarning: Trying to remove array that isn't yet created: hires_vz\n",
      "  warnings.warn(f\"Trying to remove array that isn't yet created: {k}\")\n",
      "/storage/home/hcoda1/3/bxia34/.conda/envs/21cmFAST/lib/python3.11/site-packages/py21cmfast/_utils.py:815: UserWarning: Trying to remove array that isn't yet created: hires_vx_2LPT\n",
      "  warnings.warn(f\"Trying to remove array that isn't yet created: {k}\")\n",
      "/storage/home/hcoda1/3/bxia34/.conda/envs/21cmFAST/lib/python3.11/site-packages/py21cmfast/_utils.py:815: UserWarning: Trying to remove array that isn't yet created: hires_vy_2LPT\n",
      "  warnings.warn(f\"Trying to remove array that isn't yet created: {k}\")\n",
      "/storage/home/hcoda1/3/bxia34/.conda/envs/21cmFAST/lib/python3.11/site-packages/py21cmfast/_utils.py:815: UserWarning: Trying to remove array that isn't yet created: hires_vz_2LPT\n",
      "  warnings.warn(f\"Trying to remove array that isn't yet created: {k}\")\n",
      "/storage/home/hcoda1/3/bxia34/.conda/envs/21cmFAST/lib/python3.11/site-packages/py21cmfast/_utils.py:815: UserWarning: Trying to remove array that isn't yet created: hires_vx\n",
      "  warnings.warn(f\"Trying to remove array that isn't yet created: {k}\")\n",
      "/storage/home/hcoda1/3/bxia34/.conda/envs/21cmFAST/lib/python3.11/site-packages/py21cmfast/_utils.py:815: UserWarning: Trying to remove array that isn't yet created: hires_vy\n",
      "  warnings.warn(f\"Trying to remove array that isn't yet created: {k}\")\n",
      "/storage/home/hcoda1/3/bxia34/.conda/envs/21cmFAST/lib/python3.11/site-packages/py21cmfast/_utils.py:815: UserWarning: Trying to remove array that isn't yet created: hires_vz\n",
      "  warnings.warn(f\"Trying to remove array that isn't yet created: {k}\")\n",
      "/storage/home/hcoda1/3/bxia34/.conda/envs/21cmFAST/lib/python3.11/site-packages/py21cmfast/_utils.py:815: UserWarning: Trying to remove array that isn't yet created: hires_vx_2LPT\n",
      "  warnings.warn(f\"Trying to remove array that isn't yet created: {k}\")\n",
      "/storage/home/hcoda1/3/bxia34/.conda/envs/21cmFAST/lib/python3.11/site-packages/py21cmfast/_utils.py:815: UserWarning: Trying to remove array that isn't yet created: hires_vy_2LPT\n",
      "  warnings.warn(f\"Trying to remove array that isn't yet created: {k}\")\n",
      "/storage/home/hcoda1/3/bxia34/.conda/envs/21cmFAST/lib/python3.11/site-packages/py21cmfast/_utils.py:815: UserWarning: Trying to remove array that isn't yet created: hires_vz_2LPT\n",
      "  warnings.warn(f\"Trying to remove array that isn't yet created: {k}\")\n"
     ]
    },
    {
     "name": "stdout",
     "output_type": "stream",
     "text": [
      "cpu 167155 in 167085, seed 2352081998, {'ION_Tvir_MIN': 4.565850736820181, 'HII_EFF_FACTOR': 24.860662168060824}, cost 0:00:09.851730\n",
      "cpu 167156 in 167085, seed 2352081999, {'ION_Tvir_MIN': 5.899184070153515, 'HII_EFF_FACTOR': 12.965212356596512}, cost 0:00:10.210185\n",
      "cpu 167155 in 167085, seed 2720883129, {'ION_Tvir_MIN': 5.232517403486848, 'HII_EFF_FACTOR': 20.226310871581912}, cost 0:00:09.195817\n",
      "cpu 167156 in 167085, seed 2720883130, {'ION_Tvir_MIN': 4.437667819817743, 'HII_EFF_FACTOR': 72.69301716312737}, cost 0:00:09.605201\n",
      "cpu 167156 in 167085, seed 1629976822, {'ION_Tvir_MIN': 4.161351179238974, 'HII_EFF_FACTOR': 212.55567162919678}, cost 0:00:09.161497\n",
      "cpu 167155 in 167085, seed 1629976821, {'ION_Tvir_MIN': 5.104334486484409, 'HII_EFF_FACTOR': 59.14209176711326}, cost 0:00:12.338349\n",
      "cpu 167156 in 167085, seed 309723227, {'ION_Tvir_MIN': 4.828017845905641, 'HII_EFF_FACTOR': 172.93252540205214}, cost 0:00:09.366627\n",
      "cpu 167155 in 167085, seed 309723226, {'ION_Tvir_MIN': 5.771001153151076, 'HII_EFF_FACTOR': 37.91051091038484}, cost 0:00:08.818007\n",
      "cpu 167156 in 167085, seed 1778891459, {'ION_Tvir_MIN': 5.494684512572308, 'HII_EFF_FACTOR': 110.8510063666777}, cost 0:00:09.027268\n",
      "------images (9, 60, 60, 60) generated by node 167085 with 0:00:47.544274-------\n"
     ]
    }
   ],
   "source": [
    "def generate_brightness_temp(params_node_value):\n",
    "    # All parameters\n",
    "    generate_brightness_temp_start = time.perf_counter()\n",
    "\n",
    "    pid_cpu = multiprocessing.current_process().pid\n",
    "    random_seed = np.random.randint(1,2**32) + pid_cpu\n",
    "    params_cpu = {key: params_node_value[i] for (i, key) in enumerate(params_node.keys())}\n",
    "\n",
    "    redshift = 11.93 \n",
    "    user_params = {\n",
    "        \"HII_DIM\":60, \n",
    "        \"BOX_LEN\":150, \n",
    "        # \"USE_INTERPOLATION_TABLE\":True\n",
    "        }\n",
    "    cosmo_params = dict(\n",
    "        SIGMA_8 = 0.810,\n",
    "        hlittle = 0.677,\n",
    "        OMm = 0.310,\n",
    "        OMb = 0.0490,\n",
    "        POWER_INDEX = 0.967,\n",
    "    )\n",
    "    astro_params = dict(\n",
    "        ION_Tvir_MIN = params_cpu['ION_Tvir_MIN'],\n",
    "        HII_EFF_FACTOR = params_cpu['HII_EFF_FACTOR'],\n",
    "    )\n",
    "    # Simulation\n",
    "    coeval = p21c.run_coeval(\n",
    "        redshift = redshift,\n",
    "        user_params = user_params,\n",
    "        cosmo_params = p21c.CosmoParams(cosmo_params),\n",
    "        astro_params = p21c.AstroParams(astro_params),\n",
    "        random_seed = random_seed\n",
    "    )\n",
    "\n",
    "    cache_pattern = os.path.join(cache_direc, f\"*{coeval.random_seed}*\")\n",
    "    for filename in glob.glob(cache_pattern):\n",
    "        # print(filename)\n",
    "        os.remove(filename)\n",
    "\n",
    "    generate_brightness_temp_end = time.perf_counter()\n",
    "    time_elapsed = generate_brightness_temp_end - generate_brightness_temp_start\n",
    "    print(f'cpu {pid_cpu} in {pid_node}, seed {random_seed}, {params_cpu}, cost {timedelta(seconds=time_elapsed)}')\n",
    "    \n",
    "    return coeval.brightness_temp\n",
    "\n",
    "pid_node = os.getpid()\n",
    "CPU_num = len(os.sched_getaffinity(pid_node))\n",
    "print(f\"node {pid_node}: {CPU_num} CPUs are working on {np.shape(list(params_node.values()))[-1]} groups of params\".center(string_pad_length,'-'))\n",
    "\n",
    "with Pool(CPU_num) as p:\n",
    "    Pool_start = time.perf_counter()\n",
    "    images_node = np.array(p.map(generate_brightness_temp, np.array(list(params_node.values())).T))\n",
    "    Pool_end = time.perf_counter()\n",
    "    time_elapsed = Pool_end - Pool_start\n",
    "    print(f\"images {images_node.shape} generated by node {pid_node} with {timedelta(seconds=time_elapsed)}\".center(string_pad_length,'-'))"
   ]
  },
  {
   "cell_type": "code",
   "execution_count": 35,
   "metadata": {},
   "outputs": [],
   "source": [
    "# Save as hdf5\n",
    "save_direc_name = \"./test.h5\"\n",
    "\n",
    "# if os.path.exists(save_direc_name):\n",
    "#     os.remove(save_direc_name)\n",
    "# images = np.expand_dims(images_node, axis=0)\n",
    "images = images_node\n",
    "params = np.array(list(params_node.values())).T\n",
    "\n",
    "HII_DIM = images.shape[-1]\n",
    "# params = np.expand_dims(params, axis=0)\n",
    "# random_seed = np.array(coeval.random_seed).reshape(1,1)\n",
    "\n",
    "with h5py.File(save_direc_name, 'a') as f:\n",
    "    if 'images' not in f.keys():\n",
    "        f.create_dataset(\n",
    "            'images', \n",
    "            data=images, \n",
    "            maxshape=(None, HII_DIM, HII_DIM, HII_DIM)\n",
    "        )\n",
    "        f.create_dataset(\n",
    "            'params',\n",
    "            data = params,\n",
    "            maxshape = (None, params.shape[-1]))\n",
    "        # f.create_dataset(\n",
    "        #     'random_seed',\n",
    "        #     data=random_seed,\n",
    "        #     maxshape=(None,1)\n",
    "        # )\n",
    "    else:\n",
    "        # print(image.shape)\n",
    "        new_size = f['images'].shape[0] + images.shape[0]\n",
    "        f['images'].resize(new_size, axis=0)\n",
    "        f['images'][-images.shape[0]:] = images\n",
    "        f['params'].resize(new_size, axis=0)\n",
    "        f['params'][-images.shape[0]:] = params\n",
    "        # f['random_seed'].resize(new_size, axis=0)\n",
    "        # f['random_seed'][-1] = random_seed"
   ]
  },
  {
   "cell_type": "code",
   "execution_count": 43,
   "metadata": {},
   "outputs": [],
   "source": [
    "# fig, axes = plt.subplots(3,3, figsize=(10,10))\n",
    "# for i, ax in enumerate(axes.flat):\n",
    "#     ax.imshow(images_node[i][0])\n",
    "#     ax.set_xlabel('')\n",
    "#     ax.set_ylabel('')\n",
    "#     ax.axis('off')\n",
    "#     ax.set_title(np.array(list(params_node.values())).T[i])\n",
    "# # plt.margins(x=0, y=0)\n",
    "# plt.suptitle(params_node.keys())\n",
    "# plt.tight_layout(w_pad=0.2)\n",
    "# # plt.close()"
   ]
  },
  {
   "cell_type": "code",
   "execution_count": null,
   "metadata": {},
   "outputs": [],
   "source": [
    "# cache_tools.clear_cache(direc=cache_direc)"
   ]
  },
  {
   "cell_type": "code",
   "execution_count": 44,
   "metadata": {},
   "outputs": [],
   "source": [
    "# # How to read images, params, and random_seed\n",
    "# with h5py.File(save_direc_name, 'a') as f:\n",
    "#     images = np.array(f['images'])\n",
    "#     labels = np.array(f['params'])\n",
    "#     # seed = np.array(f['random_seed'])\n",
    "# print(images.shape)\n",
    "# print(labels.shape)\n",
    "# # print(seed)"
   ]
  }
 ],
 "metadata": {
  "kernelspec": {
   "display_name": "21cmFAST",
   "language": "python",
   "name": "python3"
  },
  "language_info": {
   "codemirror_mode": {
    "name": "ipython",
    "version": 3
   },
   "file_extension": ".py",
   "mimetype": "text/x-python",
   "name": "python",
   "nbconvert_exporter": "python",
   "pygments_lexer": "ipython3",
   "version": "3.11.8"
  },
  "orig_nbformat": 4
 },
 "nbformat": 4,
 "nbformat_minor": 2
}
