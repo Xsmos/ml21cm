{
 "cells": [
  {
   "attachments": {},
   "cell_type": "markdown",
   "metadata": {},
   "source": [
    "## 改編ContextUnet及相關代碼，使其首先對二維的情況適用。並於diffusers.Unet2DModel作比較並加以優化。最後再改寫爲3維的情形。\n",
    "- 經試用diffusers的Unet2DModel，發現loss從0.3降到0.2但仍然很高，説明存在非Unet2DModel的問題可以優化\n",
    "- 改用diffusers的DDMPScheduler和DDPMPipeline后，loss降低至0.1以下，有時甚至可以低至0.004，可見我的代碼問題主要出在DDPM部分。DDPMScheduler部分比較簡短，似乎沒有問題，所以問題應該在DDPMPipeline裏某一部分代碼是我代碼欠缺的。\n",
    "- 我在DDPMScheduler部分有一個typo，導致beta_t一直很小，修正后loss從0.2能降低至0.02, 維持在0.1以下\n",
    "- 用diffusers的DDPMScheduler似乎效果要好一些，loss總是比我的DDPMScheduler要小一點。儅epoch為19時，前者的loss約0.02，後者loss約0.07。而且前者還支持3維圖像的加噪，不如直接用別人的輪子。但我想知道爲什麽我的loss會高一些。\n",
    "- 我意識到別人的DDPMScheduler在sample函數中沒有兼容輸入參數，所以歸根結底還是需要我的DDPMscheduler。不過我可以先用別人的來debug我的ContextUnet.\n",
    "- 我需要將我的ContextUnet擴展兼容不同維度的照片，畢竟我本身也需要和原文獻對比完了再拓展到三維的情形\n",
    "- 我已將我的ContextUnet轉成了2維的模式，與diffusers.Unet2DModel的loss=0.037相比，我的Unet的loss=0.07。同時我的Unet生成的圖像看上去很奇怪，説明我的Unet也有問題。我需要將代碼退回原Unet，並檢查問題所在。\n",
    "- 我將紅移方向的像素的數量限制在了64.以此比較兩個Unet的差別。經比較：\\\n",
    "Unet2DModel loss：0.03, 0.0655, 0.05, 0.02, 0.05\\\n",
    "ContextUnet loss: 0.1, 0.16, 0.1, 0.2186, 0.06\n",
    "- 我把ContextUnet退回到了原作者的版本，結果loss=0.05，輸出的照片也不錯。我主要的改動是改回了他原用的normalization函數，其中還有個參數swish。有時間我可以研究一下具體是哪裏影響了訓練的結果。另外我發現了要想tensorboard的圖綫獨立美觀，需要把他們放在不同的文件夾下\n",
    "- 經過驗證，GroupNorm比batchNorm效果要好\n",
    "- 已擴展爲接受不同維度的情形\n",
    "- 融合cond, guide_w, drop_out這些參數\n",
    "- 生成的21cm圖像該暗的地方不夠暗，似乎換成MNIST的數字圖像就沒問題\n",
    "- 我用diffusion模型生成MNIST的數字時發現，儘管生成的數據的範圍也存在負數數值，如-0.1,但畫出來的圖像卻是理想的黑色。數據的分佈與21cm的結果的分佈沒多大差別，我現在打算把代碼退回到21cm的情形\n",
    "- 我統一了ddpm21cm這個module，能統一實現訓練和生成樣本，但目前有個bug， sample時總是會cuda out of memory，然而單獨resume model並sample就不會。\n",
    "- 解決了，問題出在我忘了寫with torch.no_grad():\n",
    "- 接下來就是生成800個lightcones，與此同時研究如何計算global signal以及power spectrum\n",
    "- 儅訓練圖片的數量達到5000時，生成的圖片與檢測數據的相似程度很高"
   ]
  },
  {
   "cell_type": "code",
   "execution_count": 1,
   "metadata": {},
   "outputs": [],
   "source": [
    "from dataclasses import dataclass\n",
    "import h5py\n",
    "import torch\n",
    "import torch.nn as nn\n",
    "from torch.utils.data import DataLoader, Dataset\n",
    "# from datasets import Dataset\n",
    "import matplotlib.pyplot as plt\n",
    "import numpy as np\n",
    "import random\n",
    "# from abc import ABC, abstractmethod\n",
    "import torch.nn.functional as F\n",
    "import math\n",
    "# from PIL import Image\n",
    "import os\n",
    "from torch.utils.tensorboard import SummaryWriter\n",
    "import copy\n",
    "from tqdm.auto import tqdm\n",
    "# from torchvision import transforms\n",
    "# from diffusers import UNet2DModel#, UNet3DConditionModel\n",
    "# from diffusers import DDPMScheduler\n",
    "from diffusers.utils import make_image_grid\n",
    "import datetime\n",
    "from pathlib import Path\n",
    "from diffusers.optimization import get_cosine_schedule_with_warmup\n",
    "from accelerate import notebook_launcher, Accelerator\n",
    "from huggingface_hub import create_repo, upload_folder\n",
    "\n",
    "from load_h5 import Dataset4h5\n",
    "from context_unet import ContextUnet\n",
    "\n",
    "from huggingface_hub import notebook_login"
   ]
  },
  {
   "attachments": {},
   "cell_type": "markdown",
   "metadata": {},
   "source": [
    "# Add noise:\n",
    "\n",
    "\\begin{align*}\n",
    "x_t &\\sim \\mathcal N\\left(\\sqrt{1-\\beta_t}\\ x_{t-1},\\ \\beta_t \\right) \\\\\n",
    "x_t &\\equiv \\sqrt{1-\\beta_t}\\ x_{t-1} + \\sqrt{\\beta_t}\\ \\epsilon\\\\\n",
    "\\epsilon &\\sim \\mathcal N(0,1)\\\\\n",
    "\\alpha_t & \\equiv 1 - \\beta_t\\\\\n",
    "& ...\\\\\n",
    "x_t &= \\sqrt{\\bar {\\alpha_t}} x_0 + \\epsilon\\ \\sqrt{1 - \\bar{\\alpha_t}}\\\\\n",
    "\\bar {\\alpha_t} &\\equiv \\prod_{i=1}^t \\alpha_i\\\\\n",
    "&= \\exp\\left({\\ln{\\prod_{i=1}^t \\alpha_i}}\\right)\\\\\n",
    "&= \\exp\\left({\\sum_{i=1}^t\\ln{ \\alpha_i}}\\right)\n",
    "\\end{align*}"
   ]
  },
  {
   "cell_type": "code",
   "execution_count": 2,
   "metadata": {},
   "outputs": [],
   "source": [
    "class DDPMScheduler(nn.Module):\n",
    "    def __init__(self, betas: tuple, num_timesteps: int, img_shape: list, device='cpu'):\n",
    "        super().__init__()\n",
    "        \n",
    "        beta_1, beta_T = betas\n",
    "        assert 0 < beta_1 <= beta_T <= 1, \"ensure 0 < beta_1 <= beta_T <= 1\"\n",
    "        self.device = device\n",
    "        self.num_timesteps = num_timesteps\n",
    "        self.img_shape = img_shape\n",
    "        self.beta_t = torch.linspace(beta_1, beta_T, self.num_timesteps) #* (beta_T-beta_1) + beta_1\n",
    "        self.beta_t = self.beta_t.to(self.device)\n",
    "\n",
    "        # self.drop_prob = drop_prob\n",
    "        # self.cond = cond\n",
    "        self.alpha_t = 1 - self.beta_t\n",
    "        # self.bar_alpha_t = torch.exp(torch.cumsum(torch.log(self.alpha_t), dim=0))\n",
    "        self.bar_alpha_t = torch.cumprod(self.alpha_t, dim=0)\n",
    "\n",
    "    def add_noise(self, clean_images):\n",
    "        shape = clean_images.shape\n",
    "        expand = torch.ones(len(shape)-1, dtype=int)\n",
    "        # ts_expand = ts.view(ts.shape[0], *expand.tolist())\n",
    "        # expand = [1 for i in range(len(shape)-1)]\n",
    "\n",
    "        noise = torch.randn_like(clean_images).to(self.device)\n",
    "        ts = torch.randint(0, self.num_timesteps, (shape[0],)).to(self.device)\n",
    "                \n",
    "        # test_expand = test.view(test.shape[0],*expand)\n",
    "        # extend_dim = [None for i in range(shape.dim()-1)]\n",
    "        noisy_images = (\n",
    "            clean_images * torch.sqrt(self.bar_alpha_t[ts]).view(shape[0], *expand.tolist())\n",
    "            + noise * torch.sqrt(1-self.bar_alpha_t[ts]).view(shape[0], *expand.tolist())\n",
    "            )\n",
    "        # print(x_t.shape)\n",
    "\n",
    "        return noisy_images, noise, ts\n",
    "\n",
    "    def sample(self, nn_model, params, device, guide_w = 0):\n",
    "        n_sample = len(params) #params.shape[0]\n",
    "        # print(\"params.shape[0], len(params)\", params.shape[0], len(params))\n",
    "        x_i = torch.randn(n_sample, *self.img_shape).to(device)\n",
    "        # print(\"x_i.shape =\", x_i.shape)\n",
    "        # print(\"x_i.shape =\", x_i.shape)\n",
    "        if guide_w != -1:\n",
    "            c_i = params\n",
    "            uncond_tokens = torch.zeros(int(n_sample), params.shape[1]).to(device)\n",
    "            # uncond_tokens = torch.tensor(np.float32(np.array([0,0]))).to(device)\n",
    "            # uncond_tokens = uncond_tokens.repeat(int(n_sample),1)\n",
    "            c_i = torch.cat((c_i, uncond_tokens), 0)\n",
    "\n",
    "        x_i_entire = [] # keep track of generated steps in case want to plot something\n",
    "        # print(\"self.num_timesteps =\", self.num_timesteps)\n",
    "        # for i in range(self.num_timesteps, 0, -1):\n",
    "        # print(f'sampling!!!')\n",
    "        pbar_sample = tqdm(total=self.num_timesteps)\n",
    "        pbar_sample.set_description(\"Sampling\")\n",
    "        for i in reversed(range(0, self.num_timesteps)):\n",
    "            # print(f'sampling timestep {i:4d}',end='\\r')\n",
    "            t_is = torch.tensor([i]).to(device)\n",
    "            t_is = t_is.repeat(n_sample)\n",
    "\n",
    "            z = torch.randn(n_sample, *self.img_shape).to(device) if i > 0 else 0\n",
    "\n",
    "            if guide_w == -1:\n",
    "                # eps = nn_model(x_i, t_is, return_dict=False)[0]\n",
    "                eps = nn_model(x_i, t_is)\n",
    "                # x_i = 1/torch.sqrt(self.alpha_t[i])*(x_i-eps*self.beta_t[i]/torch.sqrt(1-self.bar_alpha_t[i])) + torch.sqrt(self.beta_t[i])*z\n",
    "            else:\n",
    "                # double batch\n",
    "                x_i = x_i.repeat(2, *torch.ones(len(self.img_shape), dtype=int).tolist())\n",
    "                t_is = t_is.repeat(2)\n",
    "\n",
    "                # split predictions and compute weighting\n",
    "                # print(\"nn_model input shape\", x_i.shape, t_is.shape, c_i.shape)\n",
    "                eps = nn_model(x_i, t_is, c_i)\n",
    "                eps1 = eps[:n_sample]\n",
    "                eps2 = eps[n_sample:]\n",
    "                eps = eps1 + guide_w*(eps1 - eps2)\n",
    "                # eps = (1+guide_w)*eps1 - guide_w*eps2\n",
    "                x_i = x_i[:n_sample]\n",
    "                # x_i = 1/torch.sqrt(self.alpha_t[i])*(x_i-eps*self.beta_t[i]/torch.sqrt(1-self.bar_alpha_t[i])) + torch.sqrt(self.beta_t[i])*z\n",
    "            \n",
    "            # print(\"x_i.shape =\", x_i.shape)\n",
    "            x_i = 1/torch.sqrt(self.alpha_t[i])*(x_i-eps*self.beta_t[i]/torch.sqrt(1-self.bar_alpha_t[i])) + torch.sqrt(self.beta_t[i])*z\n",
    "            \n",
    "            pbar_sample.update(1)\n",
    "            # pbar_sample.set_postfix(step=i)\n",
    "            \n",
    "            # print(\"x_i.shape =\", x_i.shape)\n",
    "            # store only part of the intermediate steps\n",
    "            if i%20==0:# or i==0:# or i<8:\n",
    "                x_i_entire.append(x_i.detach().cpu().numpy())\n",
    "        x_i = x_i.detach().cpu().numpy()\n",
    "        x_i_entire = np.array(x_i_entire)\n",
    "        return x_i, x_i_entire\n",
    "\n",
    "\n",
    "# ddpm_scheduler = DDPMScheduler((1e-4,0.02),10)\n",
    "# noisy_images, noise, ts = ddpm_scheduler.add_noise(images)"
   ]
  },
  {
   "cell_type": "code",
   "execution_count": 3,
   "metadata": {},
   "outputs": [],
   "source": [
    "class EMA:\n",
    "    def __init__(self, beta):\n",
    "        super().__init__()\n",
    "        self.beta = beta\n",
    "        self.step = 0\n",
    "\n",
    "    def update_model_average(self, ma_model, current_model):\n",
    "        for current_params, ma_params in zip(current_model.parameters(), ma_model.parameters()):\n",
    "            old_weight, up_weight = ma_params.data, current_params.data\n",
    "            ma_params.data = self.update_average(old_weight, up_weight)\n",
    "\n",
    "    def update_average(self, old, new):\n",
    "        if old is None:\n",
    "            return new\n",
    "        return old * self.beta + (1 - self.beta) * new\n",
    "\n",
    "    def step_ema(self, ema_model, model):\n",
    "        self.update_model_average(ema_model, model)\n",
    "        self.step += 1\n",
    "\n",
    "    def reset_parameters(self, ema_model, model):\n",
    "        ema_model.load_state_dict(model.state_dict())\n",
    "        "
   ]
  },
  {
   "cell_type": "code",
   "execution_count": 4,
   "metadata": {},
   "outputs": [],
   "source": [
    "@dataclass\n",
    "class TrainConfig:\n",
    "    ###########################\n",
    "    ## hardcoding these here ##\n",
    "    ###########################\n",
    "    push_to_hub = True\n",
    "    hub_model_id = \"Xsmos/ml21cm\"\n",
    "    hub_private_repo = False\n",
    "    dataset_name = \"/storage/home/hcoda1/3/bxia34/scratch/LEN128-DIM64-CUB8.h5\"\n",
    "    device = 'cuda' if torch.cuda.is_available() else 'cpu'\n",
    "    # repeat = 2\n",
    "\n",
    "    # dim = 2\n",
    "    dim = 2\n",
    "    stride = (2,2) if dim == 2 else (2,2,4)\n",
    "    num_image = 2000#32000#20000#15000#7000#25600#3000#10000#1000#10000#5000#2560#800#2560\n",
    "    batch_size = 50#20#2#100 # 10\n",
    "    n_epoch = 50#20#20#2#5#25 # 120\n",
    "    HII_DIM = 64\n",
    "    num_redshift = 64#512#256#256#64#512#128\n",
    "    channel = 1\n",
    "    img_shape = (channel, HII_DIM, num_redshift) if dim == 2 else (channel, HII_DIM, HII_DIM, num_redshift)\n",
    "\n",
    "    ranges_dict = dict(\n",
    "        params = {\n",
    "            0: [4, 6], # ION_Tvir_MIN\n",
    "            1: [10, 250], # HII_EFF_FACTOR\n",
    "            },\n",
    "        images = {\n",
    "            0: [0, 80], # brightness_temp\n",
    "            }\n",
    "        )\n",
    "\n",
    "    num_timesteps = 1000#1000 # 1000, 500; DDPM time steps\n",
    "    # n_sample = 24 # 64, the number of samples in sampling process\n",
    "    n_param = 2\n",
    "    guide_w = 0#-1#0#-1#0#-1#0.1#[0,0.1] #[0,0.5,2] strength of generative guidance\n",
    "    drop_prob = 0#0.28 # only takes effect when guide_w != -1\n",
    "    ema=True # whether to use ema\n",
    "    ema_rate=0.995\n",
    "\n",
    "    # seed = 0\n",
    "    # save_dir = './outputs/'\n",
    "\n",
    "    save_freq = 0#.1 # the period of sampling\n",
    "    # general parameters for the name and logger    \n",
    "    # device = \"cuda\" if torch.cuda.is_available() else \"cpu\"\n",
    "    lrate = 1e-4\n",
    "    lr_warmup_steps = 0#5#00\n",
    "    output_dir = \"./outputs/\"\n",
    "    save_name = os.path.join(output_dir, 'model_state')\n",
    "    # save_freq = 1 #10 # the period of saving model\n",
    "    # cond = True # if training using the conditional information\n",
    "    # lr_decay = False #True# if using the learning rate decay\n",
    "    resume = save_name # if resume from the trained checkpoints\n",
    "    # params_single = torch.tensor([0.2,0.80000023])\n",
    "    # params = torch.tile(params_single,(n_sample,1)).to(device)\n",
    "    # params =  params\n",
    "    # data_dir = './data' # data directory\n",
    "\n",
    "\n",
    "    mixed_precision = \"fp16\"\n",
    "    gradient_accumulation_steps = 1\n",
    "\n",
    "    # date = datetime.datetime.now().strftime(\"%m%d-%H%M\")\n",
    "    # run_name = f'{date}' # the unique name of each experiment\n",
    "\n",
    "# config = TrainConfig()\n",
    "# print(\"device =\", config.device)"
   ]
  },
  {
   "cell_type": "code",
   "execution_count": 5,
   "metadata": {},
   "outputs": [],
   "source": [
    "# @dataclass\n",
    "class DDPM21CM:\n",
    "    def __init__(self, config):\n",
    "        # config = TrainConfig()\n",
    "        # date = datetime.datetime.now().strftime(\"%m%d-%H%M\")\n",
    "        config.run_name = datetime.datetime.now().strftime(\"%m%d-%H%M\") # the unique name of each experiment\n",
    "        self.config = config\n",
    "        # dataset = Dataset4h5(config.dataset_name, num_image=config.num_image, HII_DIM=config.HII_DIM, num_redshift=config.num_redshift, drop_prob=config.drop_prob, dim=config.dim)\n",
    "        # # self.shape_loaded = dataset.images.shape\n",
    "        # # print(\"shape_loaded =\", self.shape_loaded)\n",
    "        # self.dataloader = DataLoader(dataset, batch_size=config.batch_size, shuffle=True)\n",
    "        # del dataset\n",
    "        self.ddpm = DDPMScheduler(betas=(1e-4, 0.02), num_timesteps=config.num_timesteps, img_shape=config.img_shape, device=config.device)\n",
    "\n",
    "        # initialize the unet\n",
    "        self.nn_model = ContextUnet(n_param=config.n_param, image_size=config.HII_DIM, dim=config.dim, stride=config.stride)\n",
    "\n",
    "        if config.resume and os.path.exists(config.resume):\n",
    "            # resume_file = os.path.join(config.output_dir, f\"{config.resume}\")\n",
    "            self.nn_model.load_state_dict(torch.load(config.resume)['unet_state_dict'])\n",
    "            print(f\"resumed nn_model from {config.resume}\")\n",
    "        # nn_model = ContextUnet(n_param=1, image_size=28)\n",
    "        self.nn_model.train()\n",
    "        self.nn_model.to(self.ddpm.device)\n",
    "        # print(\"nn_model.device =\", ddpm.device)\n",
    "        # number of parameters to be trained\n",
    "        self.number_of_params = sum(x.numel() for x in self.nn_model.parameters())\n",
    "        print(f\"Number of parameters for nn_model: {self.number_of_params}\")\n",
    "\n",
    "        # whether to use ema\n",
    "        if config.ema:\n",
    "            self.ema = EMA(config.ema_rate)\n",
    "            if config.resume and os.path.exists(config.resume):\n",
    "                self.ema_model = ContextUnet(n_param=config.n_param, image_size=config.HII_DIM, dim=config.dim, stride=config.stride).to(config.device)\n",
    "                self.ema_model.load_state_dict(torch.load(config.resume)['ema_unet_state_dict'])\n",
    "                print(f\"resumed ema_model from {config.resume}\")\n",
    "            else:\n",
    "                self.ema_model = copy.deepcopy(self.nn_model).eval().requires_grad_(False)\n",
    "\n",
    "        self.optimizer = torch.optim.AdamW(self.nn_model.parameters(), lr=config.lrate)\n",
    "        self.lr_scheduler = get_cosine_schedule_with_warmup(\n",
    "            optimizer=self.optimizer,\n",
    "            num_warmup_steps=config.lr_warmup_steps,\n",
    "            num_training_steps=(int(config.num_image/config.batch_size) * config.n_epoch),\n",
    "            # num_training_steps=(len(self.dataloader) * config.n_epoch),\n",
    "        )\n",
    "\n",
    "        self.ranges_dict = config.ranges_dict\n",
    "\n",
    "    def load(self):\n",
    "        dataset = Dataset4h5(self.config.dataset_name, num_image=self.config.num_image, HII_DIM=self.config.HII_DIM, num_redshift=self.config.num_redshift, drop_prob=self.config.drop_prob, dim=self.config.dim, ranges_dict=self.ranges_dict)\n",
    "        # self.shape_loaded = dataset.images.shape\n",
    "        # print(\"shape_loaded =\", self.shape_loaded)\n",
    "        self.dataloader = DataLoader(dataset, batch_size=self.config.batch_size, shuffle=True)\n",
    "        # del dataset\n",
    "        # self.accelerate(self.config)\n",
    "        del dataset\n",
    "\n",
    "    # def accelerate(self):\n",
    "\n",
    "    def train(self):\n",
    "        ###################      \n",
    "        ## training loop ##\n",
    "        ###################\n",
    "        # plot_unet = True\n",
    "        self.load()\n",
    "        self.accelerator = Accelerator(\n",
    "            mixed_precision=self.config.mixed_precision,\n",
    "            gradient_accumulation_steps=self.config.gradient_accumulation_steps,\n",
    "            log_with=\"tensorboard\",\n",
    "            project_dir=os.path.join(self.config.output_dir, \"logs\"),\n",
    "        )\n",
    "        if self.accelerator.is_main_process:\n",
    "            if self.config.output_dir is not None:\n",
    "                os.makedirs(self.config.output_dir, exist_ok=True)\n",
    "            if self.config.push_to_hub:\n",
    "                self.repo_id = create_repo(\n",
    "                    repo_id=self.config.hub_model_id or Path(self.config.output_dir).name, exist_ok=True\n",
    "                ).repo_id\n",
    "            self.accelerator.init_trackers(f\"{self.config.run_name}\")\n",
    "\n",
    "        self.nn_model, self.optimizer, self.dataloader, self.lr_scheduler = \\\n",
    "            self.accelerator.prepare(\n",
    "            self.nn_model, self.optimizer, self.dataloader, self.lr_scheduler\n",
    "            )\n",
    "            \n",
    "        global_step = 0\n",
    "        for ep in range(self.config.n_epoch):\n",
    "            self.ddpm.train()\n",
    "\n",
    "            pbar_train = tqdm(total=len(self.dataloader), disable=not self.accelerator.is_local_main_process)\n",
    "            pbar_train.set_description(f\"Epoch {ep}\")\n",
    "            for i, (x, c) in enumerate(self.dataloader):\n",
    "                with self.accelerator.accumulate(self.nn_model):\n",
    "                    x = x.to(self.config.device)\n",
    "                    xt, noise, ts = self.ddpm.add_noise(x)\n",
    "                    \n",
    "                    if self.config.guide_w == -1:\n",
    "                        noise_pred = self.nn_model(xt, ts)\n",
    "                    else:\n",
    "                        c = c.to(self.config.device)\n",
    "                        noise_pred = self.nn_model(xt, ts, c)\n",
    "                    \n",
    "                    loss = F.mse_loss(noise, noise_pred)\n",
    "                    self.accelerator.backward(loss)\n",
    "                    self.accelerator.clip_grad_norm_(self.nn_model.parameters(), 1)\n",
    "                    self.optimizer.step()\n",
    "                    self.lr_scheduler.step()\n",
    "                    self.optimizer.zero_grad()\n",
    "\n",
    "                # ema update\n",
    "                if self.config.ema:\n",
    "                    self.ema.step_ema(self.ema_model, self.nn_model)\n",
    "\n",
    "                pbar_train.update(1)\n",
    "                logs = dict(\n",
    "                    loss=loss.detach().item(),\n",
    "                    lr=self.optimizer.param_groups[0]['lr'],\n",
    "                    step=global_step\n",
    "                )\n",
    "                pbar_train.set_postfix(**logs)\n",
    "\n",
    "                self.accelerator.log(logs, step=global_step)\n",
    "                global_step += 1\n",
    "\n",
    "            # if ep == config.n_epoch-1 or (ep+1)*config.save_freq==1:\n",
    "            self.save(ep)\n",
    "\n",
    "        del self.nn_model\n",
    "        if self.config.ema:\n",
    "            del self.ema_model\n",
    "        torch.cuda.empty_cache()\n",
    "\n",
    "    def save(self, ep):\n",
    "        # save model\n",
    "        if self.accelerator.is_main_process:\n",
    "            if ep == self.config.n_epoch-1 or (ep+1)*self.config.save_freq==1:\n",
    "                self.nn_model.eval()\n",
    "                with torch.no_grad():\n",
    "                    if self.config.push_to_hub:\n",
    "                        upload_folder(\n",
    "                            repo_id = self.repo_id,\n",
    "                            folder_path = \".\",#config.output_dir,\n",
    "                            commit_message = f\"{self.config.run_name}\",\n",
    "                            ignore_patterns = [\"step_*\", \"epoch_*\", \"*.npy\", \"__pycache__\"],\n",
    "                            )\n",
    "                    if self.config.save_name:\n",
    "                        model_state = {\n",
    "                            'epoch': ep,\n",
    "                            'unet_state_dict': self.nn_model.state_dict(),\n",
    "                            'ema_unet_state_dict': self.ema_model.state_dict(),\n",
    "                            }\n",
    "                        torch.save(model_state, self.config.save_name+f\"-N{self.config.num_image}\")\n",
    "                        print('saved model at ' + self.config.save_name+f\"-N{self.config.num_image}\")\n",
    "                        # print('saved model at ' + config.save_dir + f\"model_epoch_{ep}_test_{config.run_name}.pth\")\n",
    "\n",
    "    # def rescale(self, value, type='params', to_ranges=[0,1]):\n",
    "    #     for i, from_ranges in self.ranges_dict[type].items():\n",
    "    #         value[i] = (value[i] - from_ranges[0])/(from_ranges[1]-from_ranges[0]) # normalize\n",
    "    #         value[i] = \n",
    "    def rescale(self, value, ranges, to: list):\n",
    "        if value.ndim == 1:\n",
    "            value = value.view(-1,len(value))\n",
    "            \n",
    "        for i in range(np.shape(value)[1]):\n",
    "            value[:,i] = (value[:,i] - ranges[i][0]) / (ranges[i][1]-ranges[i][0])\n",
    "            # print(f\"i = {i}, value.min = {value[:,i].min()}, value.max = {value[:,i].max()}\")\n",
    "        value = value * (to[1]-to[0]) + to[0]\n",
    "        return value \n",
    "\n",
    "    def sample(self, file, params:torch.tensor=None, repeat=192, ema=False, entire=False):\n",
    "        # n_sample = params.shape[0]\n",
    "        \n",
    "        if params is None:\n",
    "            params = torch.tensor([0.20000000000000018, 0.5055875000000001])\n",
    "            params_backup = params.numpy().copy()\n",
    "        else:\n",
    "            params_backup = params.numpy().copy()\n",
    "            params = self.rescale(params, self.ranges_dict['params'], to=[0,1])\n",
    "\n",
    "        print(f\"sampling {repeat} images with normalized params = {params}\")\n",
    "        params = params.repeat(repeat,1)\n",
    "        assert params.dim() == 2, \"params must be a 2D torch.tensor\"\n",
    "        # print(\"params =\", params)\n",
    "        # print(\"params =\", params)\n",
    "        # print(\"len(params) =\", len(params))\n",
    "        # model = self.ema_model if ema else self.nn_model\n",
    "        # del self.ema_model, self.nn\n",
    "        # params = torch.tile(params, (n_sample,1)).to(device)\n",
    "\n",
    "        nn_model = ContextUnet(n_param=self.config.n_param, image_size=self.config.HII_DIM, dim=self.config.dim, stride=self.config.stride).to(self.config.device)\n",
    "        if ema:\n",
    "            nn_model.load_state_dict(torch.load(file)['ema_unet_state_dict'])\n",
    "        else:\n",
    "            nn_model.load_state_dict(torch.load(file)['unet_state_dict'])\n",
    "        print(f\"nn_model resumed from {file}\")\n",
    "        # nn_model = ContextUnet(n_param=1, image_size=28)\n",
    "        # nn_model.train()\n",
    "        nn_model.to(self.ddpm.device)\n",
    "        nn_model.eval()\n",
    "\n",
    "        # self.ema_model = ContextUnet(n_param=config.n_param, image_size=config.HII_DIM, dim=config.dim, stride=config.stride).to(config.device)\n",
    "        # self.ema_model.load_state_dict(torch.load(os.path.join(config.output_dir, f\"{config.resume}\"))['ema_unet_state_dict'])\n",
    "        # print(f\"resumed ema_model from {config.resume}\")\n",
    "\n",
    "        with torch.no_grad():\n",
    "            x_last, x_entire = self.ddpm.sample(\n",
    "                nn_model=nn_model, \n",
    "                params=params.to(self.config.device), \n",
    "                device=self.config.device, \n",
    "                guide_w=self.config.guide_w\n",
    "                )\n",
    "\n",
    "        # np.save(os.path.join(self.config.output_dir, f\"{self.config.run_name}{'ema' if ema else ''}.npy\"), x_last)\n",
    "        np.save(os.path.join(self.config.output_dir, f\"Tvir{params_backup[0]}-zeta{params_backup[1]}-N{self.config.num_image}{'ema' if ema else ''}.npy\"), x_last)\n",
    "\n",
    "        if entire:\n",
    "            np.save(os.path.join(self.config.output_dir, f\"Tvir{params_backup[0]}-zeta{params_backup[1]}-N{self.config.num_image}{'ema' if ema else ''}_entire.npy\"), x_last)\n",
    "# print(\"device =\", config.device)"
   ]
  },
  {
   "cell_type": "code",
   "execution_count": 6,
   "metadata": {},
   "outputs": [
    {
     "data": {
      "application/vnd.jupyter.widget-view+json": {
       "model_id": "af12f66f1d3c45b2a225371c70fc55ea",
       "version_major": 2,
       "version_minor": 0
      },
      "text/plain": [
       "VBox(children=(HTML(value='<center> <img\\nsrc=https://huggingface.co/front/assets/huggingface_logo-noborder.sv…"
      ]
     },
     "metadata": {},
     "output_type": "display_data"
    }
   ],
   "source": [
    "notebook_login()"
   ]
  },
  {
   "cell_type": "code",
   "execution_count": 7,
   "metadata": {},
   "outputs": [],
   "source": [
    "num_image_list = [1600,3200,6400,12800,25600]"
   ]
  },
  {
   "cell_type": "code",
   "execution_count": 8,
   "metadata": {},
   "outputs": [
    {
     "name": "stdout",
     "output_type": "stream",
     "text": [
      "Number of parameters for nn_model: 111048705\n",
      "---------------- num_image = 1600 ----------------\n",
      "run_name = 0702-1718\n",
      "Launching training on one GPU.\n",
      "dataset content: <KeysViewHDF5 ['brightness_temp', 'density', 'kwargs', 'params', 'redshifts_distances', 'seeds', 'xH_box']>\n",
      "51200 images can be loaded\n",
      "field.shape = (64, 64, 514)\n",
      "params keys = [b'ION_Tvir_MIN', b'HII_EFF_FACTOR']\n",
      "loading 1600 images randomly\n",
      "images loaded: (1600, 1, 64, 64)\n"
     ]
    },
    {
     "name": "stderr",
     "output_type": "stream",
     "text": [
      "Detected kernel version 3.10.0, which is below the recommended minimum of 5.5.0; this can cause the process to hang. It is recommended to upgrade the kernel to the minimum version or higher.\n"
     ]
    },
    {
     "name": "stdout",
     "output_type": "stream",
     "text": [
      "params loaded: (1600, 2)\n",
      "images rescaled to [-1.0, 1.119088888168335]\n",
      "params rescaled to [0.0001848356100438764, 0.9999958400767995]\n"
     ]
    },
    {
     "data": {
      "application/vnd.jupyter.widget-view+json": {
       "model_id": "fe5b9721d5d743e4a7628ad9232bf72d",
       "version_major": 2,
       "version_minor": 0
      },
      "text/plain": [
       "  0%|          | 0/32 [00:00<?, ?it/s]"
      ]
     },
     "metadata": {},
     "output_type": "display_data"
    },
    {
     "data": {
      "application/vnd.jupyter.widget-view+json": {
       "model_id": "561f62b97ede4f4dbd5153cfed56b72d",
       "version_major": 2,
       "version_minor": 0
      },
      "text/plain": [
       "  0%|          | 0/32 [00:00<?, ?it/s]"
      ]
     },
     "metadata": {},
     "output_type": "display_data"
    },
    {
     "data": {
      "application/vnd.jupyter.widget-view+json": {
       "model_id": "2df65647d9dd4843990231ebc184344a",
       "version_major": 2,
       "version_minor": 0
      },
      "text/plain": [
       "  0%|          | 0/32 [00:00<?, ?it/s]"
      ]
     },
     "metadata": {},
     "output_type": "display_data"
    },
    {
     "data": {
      "application/vnd.jupyter.widget-view+json": {
       "model_id": "98b05c506a6c4e2e9ba5c9cbafd11818",
       "version_major": 2,
       "version_minor": 0
      },
      "text/plain": [
       "  0%|          | 0/32 [00:00<?, ?it/s]"
      ]
     },
     "metadata": {},
     "output_type": "display_data"
    },
    {
     "data": {
      "application/vnd.jupyter.widget-view+json": {
       "model_id": "a2273b8655d74b3e8785f518a098f63e",
       "version_major": 2,
       "version_minor": 0
      },
      "text/plain": [
       "  0%|          | 0/32 [00:00<?, ?it/s]"
      ]
     },
     "metadata": {},
     "output_type": "display_data"
    },
    {
     "data": {
      "application/vnd.jupyter.widget-view+json": {
       "model_id": "5107917d669a42279e050372954b845e",
       "version_major": 2,
       "version_minor": 0
      },
      "text/plain": [
       "  0%|          | 0/32 [00:00<?, ?it/s]"
      ]
     },
     "metadata": {},
     "output_type": "display_data"
    },
    {
     "data": {
      "application/vnd.jupyter.widget-view+json": {
       "model_id": "b4f77a0574f04d3991adbd62e962f80f",
       "version_major": 2,
       "version_minor": 0
      },
      "text/plain": [
       "  0%|          | 0/32 [00:00<?, ?it/s]"
      ]
     },
     "metadata": {},
     "output_type": "display_data"
    },
    {
     "data": {
      "application/vnd.jupyter.widget-view+json": {
       "model_id": "68c69cac2d6f40c4af53f8a31caac370",
       "version_major": 2,
       "version_minor": 0
      },
      "text/plain": [
       "  0%|          | 0/32 [00:00<?, ?it/s]"
      ]
     },
     "metadata": {},
     "output_type": "display_data"
    },
    {
     "data": {
      "application/vnd.jupyter.widget-view+json": {
       "model_id": "374801feaad14d0c824bff08f00c34d6",
       "version_major": 2,
       "version_minor": 0
      },
      "text/plain": [
       "  0%|          | 0/32 [00:00<?, ?it/s]"
      ]
     },
     "metadata": {},
     "output_type": "display_data"
    },
    {
     "data": {
      "application/vnd.jupyter.widget-view+json": {
       "model_id": "e9a2f5c8b8614161b96397806d24408f",
       "version_major": 2,
       "version_minor": 0
      },
      "text/plain": [
       "  0%|          | 0/32 [00:00<?, ?it/s]"
      ]
     },
     "metadata": {},
     "output_type": "display_data"
    },
    {
     "data": {
      "application/vnd.jupyter.widget-view+json": {
       "model_id": "5efd0a2aed1748be824f7c0ec194bbf1",
       "version_major": 2,
       "version_minor": 0
      },
      "text/plain": [
       "  0%|          | 0/32 [00:00<?, ?it/s]"
      ]
     },
     "metadata": {},
     "output_type": "display_data"
    },
    {
     "data": {
      "application/vnd.jupyter.widget-view+json": {
       "model_id": "11763f061b8c4f85a2e8c01169e7ba29",
       "version_major": 2,
       "version_minor": 0
      },
      "text/plain": [
       "  0%|          | 0/32 [00:00<?, ?it/s]"
      ]
     },
     "metadata": {},
     "output_type": "display_data"
    },
    {
     "data": {
      "application/vnd.jupyter.widget-view+json": {
       "model_id": "0a51162af4754dfeb56ad6576951f6f3",
       "version_major": 2,
       "version_minor": 0
      },
      "text/plain": [
       "  0%|          | 0/32 [00:00<?, ?it/s]"
      ]
     },
     "metadata": {},
     "output_type": "display_data"
    },
    {
     "data": {
      "application/vnd.jupyter.widget-view+json": {
       "model_id": "011cd27257aa488d9ed6418cae7252d7",
       "version_major": 2,
       "version_minor": 0
      },
      "text/plain": [
       "  0%|          | 0/32 [00:00<?, ?it/s]"
      ]
     },
     "metadata": {},
     "output_type": "display_data"
    },
    {
     "data": {
      "application/vnd.jupyter.widget-view+json": {
       "model_id": "268d518ad6b24bbcb91c0ba4cad79ce5",
       "version_major": 2,
       "version_minor": 0
      },
      "text/plain": [
       "  0%|          | 0/32 [00:00<?, ?it/s]"
      ]
     },
     "metadata": {},
     "output_type": "display_data"
    },
    {
     "data": {
      "application/vnd.jupyter.widget-view+json": {
       "model_id": "ffede80b20774f8d95ed105a171829c7",
       "version_major": 2,
       "version_minor": 0
      },
      "text/plain": [
       "  0%|          | 0/32 [00:00<?, ?it/s]"
      ]
     },
     "metadata": {},
     "output_type": "display_data"
    },
    {
     "data": {
      "application/vnd.jupyter.widget-view+json": {
       "model_id": "0908d553e2dc474ba1e17f37b3ec0ca2",
       "version_major": 2,
       "version_minor": 0
      },
      "text/plain": [
       "  0%|          | 0/32 [00:00<?, ?it/s]"
      ]
     },
     "metadata": {},
     "output_type": "display_data"
    },
    {
     "data": {
      "application/vnd.jupyter.widget-view+json": {
       "model_id": "f0839a380799488398c37161f1c33c32",
       "version_major": 2,
       "version_minor": 0
      },
      "text/plain": [
       "  0%|          | 0/32 [00:00<?, ?it/s]"
      ]
     },
     "metadata": {},
     "output_type": "display_data"
    },
    {
     "data": {
      "application/vnd.jupyter.widget-view+json": {
       "model_id": "641575d247dc4f19821713d857836bbc",
       "version_major": 2,
       "version_minor": 0
      },
      "text/plain": [
       "  0%|          | 0/32 [00:00<?, ?it/s]"
      ]
     },
     "metadata": {},
     "output_type": "display_data"
    },
    {
     "data": {
      "application/vnd.jupyter.widget-view+json": {
       "model_id": "14815c4292be41b6922bba0423cac1c1",
       "version_major": 2,
       "version_minor": 0
      },
      "text/plain": [
       "  0%|          | 0/32 [00:00<?, ?it/s]"
      ]
     },
     "metadata": {},
     "output_type": "display_data"
    },
    {
     "data": {
      "application/vnd.jupyter.widget-view+json": {
       "model_id": "9c480c8e167d407da6b860940c9f4df0",
       "version_major": 2,
       "version_minor": 0
      },
      "text/plain": [
       "  0%|          | 0/32 [00:00<?, ?it/s]"
      ]
     },
     "metadata": {},
     "output_type": "display_data"
    },
    {
     "data": {
      "application/vnd.jupyter.widget-view+json": {
       "model_id": "c335431face94892a55146524933a2a8",
       "version_major": 2,
       "version_minor": 0
      },
      "text/plain": [
       "  0%|          | 0/32 [00:00<?, ?it/s]"
      ]
     },
     "metadata": {},
     "output_type": "display_data"
    },
    {
     "data": {
      "application/vnd.jupyter.widget-view+json": {
       "model_id": "6c65c569a9ef4900ba0fe20c1141d203",
       "version_major": 2,
       "version_minor": 0
      },
      "text/plain": [
       "  0%|          | 0/32 [00:00<?, ?it/s]"
      ]
     },
     "metadata": {},
     "output_type": "display_data"
    },
    {
     "data": {
      "application/vnd.jupyter.widget-view+json": {
       "model_id": "c168f618534b4924b6b2ee11596c5d19",
       "version_major": 2,
       "version_minor": 0
      },
      "text/plain": [
       "  0%|          | 0/32 [00:00<?, ?it/s]"
      ]
     },
     "metadata": {},
     "output_type": "display_data"
    },
    {
     "data": {
      "application/vnd.jupyter.widget-view+json": {
       "model_id": "b358120c2fb34869aad9840b5e52a48a",
       "version_major": 2,
       "version_minor": 0
      },
      "text/plain": [
       "  0%|          | 0/32 [00:00<?, ?it/s]"
      ]
     },
     "metadata": {},
     "output_type": "display_data"
    },
    {
     "data": {
      "application/vnd.jupyter.widget-view+json": {
       "model_id": "0d45b8d356a74764afb0a09a4f7e7b38",
       "version_major": 2,
       "version_minor": 0
      },
      "text/plain": [
       "  0%|          | 0/32 [00:00<?, ?it/s]"
      ]
     },
     "metadata": {},
     "output_type": "display_data"
    },
    {
     "data": {
      "application/vnd.jupyter.widget-view+json": {
       "model_id": "cb5c02e1bbf34b2fa5bb29dda3f483c8",
       "version_major": 2,
       "version_minor": 0
      },
      "text/plain": [
       "  0%|          | 0/32 [00:00<?, ?it/s]"
      ]
     },
     "metadata": {},
     "output_type": "display_data"
    },
    {
     "data": {
      "application/vnd.jupyter.widget-view+json": {
       "model_id": "b59572b300484b58816a213e8ebf7ecb",
       "version_major": 2,
       "version_minor": 0
      },
      "text/plain": [
       "  0%|          | 0/32 [00:00<?, ?it/s]"
      ]
     },
     "metadata": {},
     "output_type": "display_data"
    },
    {
     "data": {
      "application/vnd.jupyter.widget-view+json": {
       "model_id": "73c59564808e490e9e1a6ff166365f41",
       "version_major": 2,
       "version_minor": 0
      },
      "text/plain": [
       "  0%|          | 0/32 [00:00<?, ?it/s]"
      ]
     },
     "metadata": {},
     "output_type": "display_data"
    },
    {
     "data": {
      "application/vnd.jupyter.widget-view+json": {
       "model_id": "97a8d0968f65411b9c52718ab344a680",
       "version_major": 2,
       "version_minor": 0
      },
      "text/plain": [
       "  0%|          | 0/32 [00:00<?, ?it/s]"
      ]
     },
     "metadata": {},
     "output_type": "display_data"
    },
    {
     "data": {
      "application/vnd.jupyter.widget-view+json": {
       "model_id": "5e0fbab35c2a48b9add70cc6690960f5",
       "version_major": 2,
       "version_minor": 0
      },
      "text/plain": [
       "  0%|          | 0/32 [00:00<?, ?it/s]"
      ]
     },
     "metadata": {},
     "output_type": "display_data"
    },
    {
     "data": {
      "application/vnd.jupyter.widget-view+json": {
       "model_id": "e39a6332264344a19450ea9304ce7d8c",
       "version_major": 2,
       "version_minor": 0
      },
      "text/plain": [
       "  0%|          | 0/32 [00:00<?, ?it/s]"
      ]
     },
     "metadata": {},
     "output_type": "display_data"
    },
    {
     "data": {
      "application/vnd.jupyter.widget-view+json": {
       "model_id": "6b969529bd24430c96371972808c8e67",
       "version_major": 2,
       "version_minor": 0
      },
      "text/plain": [
       "  0%|          | 0/32 [00:00<?, ?it/s]"
      ]
     },
     "metadata": {},
     "output_type": "display_data"
    },
    {
     "data": {
      "application/vnd.jupyter.widget-view+json": {
       "model_id": "cd736ff127f547d589b773892bd3ff08",
       "version_major": 2,
       "version_minor": 0
      },
      "text/plain": [
       "  0%|          | 0/32 [00:00<?, ?it/s]"
      ]
     },
     "metadata": {},
     "output_type": "display_data"
    },
    {
     "data": {
      "application/vnd.jupyter.widget-view+json": {
       "model_id": "a4ca3c9c4e18413bac155a69f6bf967a",
       "version_major": 2,
       "version_minor": 0
      },
      "text/plain": [
       "  0%|          | 0/32 [00:00<?, ?it/s]"
      ]
     },
     "metadata": {},
     "output_type": "display_data"
    },
    {
     "data": {
      "application/vnd.jupyter.widget-view+json": {
       "model_id": "70adcf6937104ba3b80a6a41953318fe",
       "version_major": 2,
       "version_minor": 0
      },
      "text/plain": [
       "  0%|          | 0/32 [00:00<?, ?it/s]"
      ]
     },
     "metadata": {},
     "output_type": "display_data"
    },
    {
     "data": {
      "application/vnd.jupyter.widget-view+json": {
       "model_id": "7c49dd288f6e4d8a85e5e9b15f4dd3d2",
       "version_major": 2,
       "version_minor": 0
      },
      "text/plain": [
       "  0%|          | 0/32 [00:00<?, ?it/s]"
      ]
     },
     "metadata": {},
     "output_type": "display_data"
    },
    {
     "data": {
      "application/vnd.jupyter.widget-view+json": {
       "model_id": "c105d25a15de4c8a9de4fe83ce671f57",
       "version_major": 2,
       "version_minor": 0
      },
      "text/plain": [
       "  0%|          | 0/32 [00:00<?, ?it/s]"
      ]
     },
     "metadata": {},
     "output_type": "display_data"
    },
    {
     "data": {
      "application/vnd.jupyter.widget-view+json": {
       "model_id": "40223545bf004d6288f354696bbd9bee",
       "version_major": 2,
       "version_minor": 0
      },
      "text/plain": [
       "  0%|          | 0/32 [00:00<?, ?it/s]"
      ]
     },
     "metadata": {},
     "output_type": "display_data"
    },
    {
     "data": {
      "application/vnd.jupyter.widget-view+json": {
       "model_id": "e696b9312dd44739af9bdd218e1ffa0a",
       "version_major": 2,
       "version_minor": 0
      },
      "text/plain": [
       "  0%|          | 0/32 [00:00<?, ?it/s]"
      ]
     },
     "metadata": {},
     "output_type": "display_data"
    },
    {
     "data": {
      "application/vnd.jupyter.widget-view+json": {
       "model_id": "9f9ff4a333fa48b3bb500b8c6dd0e546",
       "version_major": 2,
       "version_minor": 0
      },
      "text/plain": [
       "  0%|          | 0/32 [00:00<?, ?it/s]"
      ]
     },
     "metadata": {},
     "output_type": "display_data"
    },
    {
     "data": {
      "application/vnd.jupyter.widget-view+json": {
       "model_id": "80bee9dff0554e2690910c54fd099604",
       "version_major": 2,
       "version_minor": 0
      },
      "text/plain": [
       "  0%|          | 0/32 [00:00<?, ?it/s]"
      ]
     },
     "metadata": {},
     "output_type": "display_data"
    },
    {
     "data": {
      "application/vnd.jupyter.widget-view+json": {
       "model_id": "595f8b30b2c54010bc45f906e5fd7148",
       "version_major": 2,
       "version_minor": 0
      },
      "text/plain": [
       "  0%|          | 0/32 [00:00<?, ?it/s]"
      ]
     },
     "metadata": {},
     "output_type": "display_data"
    },
    {
     "data": {
      "application/vnd.jupyter.widget-view+json": {
       "model_id": "98172d80b3a84c63836139c2cafe47d1",
       "version_major": 2,
       "version_minor": 0
      },
      "text/plain": [
       "  0%|          | 0/32 [00:00<?, ?it/s]"
      ]
     },
     "metadata": {},
     "output_type": "display_data"
    },
    {
     "data": {
      "application/vnd.jupyter.widget-view+json": {
       "model_id": "04b845a13bb6422d9bad982ff365006e",
       "version_major": 2,
       "version_minor": 0
      },
      "text/plain": [
       "  0%|          | 0/32 [00:00<?, ?it/s]"
      ]
     },
     "metadata": {},
     "output_type": "display_data"
    },
    {
     "data": {
      "application/vnd.jupyter.widget-view+json": {
       "model_id": "517580f0ffbb4fe5b2650de5355471f1",
       "version_major": 2,
       "version_minor": 0
      },
      "text/plain": [
       "  0%|          | 0/32 [00:00<?, ?it/s]"
      ]
     },
     "metadata": {},
     "output_type": "display_data"
    },
    {
     "data": {
      "application/vnd.jupyter.widget-view+json": {
       "model_id": "fac1c16c12bf4b86a5719314acefb248",
       "version_major": 2,
       "version_minor": 0
      },
      "text/plain": [
       "  0%|          | 0/32 [00:00<?, ?it/s]"
      ]
     },
     "metadata": {},
     "output_type": "display_data"
    },
    {
     "data": {
      "application/vnd.jupyter.widget-view+json": {
       "model_id": "95533b6eafd14d4bbd133c36e71ea99e",
       "version_major": 2,
       "version_minor": 0
      },
      "text/plain": [
       "  0%|          | 0/32 [00:00<?, ?it/s]"
      ]
     },
     "metadata": {},
     "output_type": "display_data"
    },
    {
     "data": {
      "application/vnd.jupyter.widget-view+json": {
       "model_id": "b53949253982428fb092be9bb55a8b89",
       "version_major": 2,
       "version_minor": 0
      },
      "text/plain": [
       "  0%|          | 0/32 [00:00<?, ?it/s]"
      ]
     },
     "metadata": {},
     "output_type": "display_data"
    },
    {
     "data": {
      "application/vnd.jupyter.widget-view+json": {
       "model_id": "f31938c7618c43dbadcfe7b382e92c46",
       "version_major": 2,
       "version_minor": 0
      },
      "text/plain": [
       "  0%|          | 0/32 [00:00<?, ?it/s]"
      ]
     },
     "metadata": {},
     "output_type": "display_data"
    },
    {
     "name": "stdout",
     "output_type": "stream",
     "text": [
      "saved model at ./outputs/model_state-N1600\n",
      "Number of parameters for nn_model: 111048705\n",
      "---------------- num_image = 3200 ----------------\n",
      "run_name = 0702-1725\n",
      "Launching training on one GPU.\n",
      "dataset content: <KeysViewHDF5 ['brightness_temp', 'density', 'kwargs', 'params', 'redshifts_distances', 'seeds', 'xH_box']>\n",
      "51200 images can be loaded\n",
      "field.shape = (64, 64, 514)\n",
      "params keys = [b'ION_Tvir_MIN', b'HII_EFF_FACTOR']\n",
      "loading 3200 images randomly\n",
      "images loaded: (3200, 1, 64, 64)\n"
     ]
    },
    {
     "name": "stderr",
     "output_type": "stream",
     "text": [
      "Detected kernel version 3.10.0, which is below the recommended minimum of 5.5.0; this can cause the process to hang. It is recommended to upgrade the kernel to the minimum version or higher.\n"
     ]
    },
    {
     "name": "stdout",
     "output_type": "stream",
     "text": [
      "params loaded: (3200, 2)\n",
      "images rescaled to [-1.0, 1.1910929679870605]\n",
      "params rescaled to [0.0002077208516410245, 0.999968750248265]\n"
     ]
    },
    {
     "data": {
      "application/vnd.jupyter.widget-view+json": {
       "model_id": "356d54e499ff46548303ff8d0a0b9520",
       "version_major": 2,
       "version_minor": 0
      },
      "text/plain": [
       "  0%|          | 0/64 [00:00<?, ?it/s]"
      ]
     },
     "metadata": {},
     "output_type": "display_data"
    },
    {
     "data": {
      "application/vnd.jupyter.widget-view+json": {
       "model_id": "86370fad142545bbb095427ae255d9b2",
       "version_major": 2,
       "version_minor": 0
      },
      "text/plain": [
       "  0%|          | 0/64 [00:00<?, ?it/s]"
      ]
     },
     "metadata": {},
     "output_type": "display_data"
    },
    {
     "data": {
      "application/vnd.jupyter.widget-view+json": {
       "model_id": "a57710f5d32f4f1e8b29a7f5f86ee765",
       "version_major": 2,
       "version_minor": 0
      },
      "text/plain": [
       "  0%|          | 0/64 [00:00<?, ?it/s]"
      ]
     },
     "metadata": {},
     "output_type": "display_data"
    },
    {
     "data": {
      "application/vnd.jupyter.widget-view+json": {
       "model_id": "6c0df4be123e478b90e2b72e4ee9861a",
       "version_major": 2,
       "version_minor": 0
      },
      "text/plain": [
       "  0%|          | 0/64 [00:00<?, ?it/s]"
      ]
     },
     "metadata": {},
     "output_type": "display_data"
    },
    {
     "data": {
      "application/vnd.jupyter.widget-view+json": {
       "model_id": "81f42c0247644f5692c588d0f1449b89",
       "version_major": 2,
       "version_minor": 0
      },
      "text/plain": [
       "  0%|          | 0/64 [00:00<?, ?it/s]"
      ]
     },
     "metadata": {},
     "output_type": "display_data"
    },
    {
     "data": {
      "application/vnd.jupyter.widget-view+json": {
       "model_id": "fc91ff958e59444fac853802648e434b",
       "version_major": 2,
       "version_minor": 0
      },
      "text/plain": [
       "  0%|          | 0/64 [00:00<?, ?it/s]"
      ]
     },
     "metadata": {},
     "output_type": "display_data"
    },
    {
     "data": {
      "application/vnd.jupyter.widget-view+json": {
       "model_id": "291e28e5410f4fcc83b2b94e7b9f0183",
       "version_major": 2,
       "version_minor": 0
      },
      "text/plain": [
       "  0%|          | 0/64 [00:00<?, ?it/s]"
      ]
     },
     "metadata": {},
     "output_type": "display_data"
    },
    {
     "data": {
      "application/vnd.jupyter.widget-view+json": {
       "model_id": "540e85cd21484ec5bcdfd189af680414",
       "version_major": 2,
       "version_minor": 0
      },
      "text/plain": [
       "  0%|          | 0/64 [00:00<?, ?it/s]"
      ]
     },
     "metadata": {},
     "output_type": "display_data"
    },
    {
     "data": {
      "application/vnd.jupyter.widget-view+json": {
       "model_id": "56d6a74be233405cbd6c1c815775edf9",
       "version_major": 2,
       "version_minor": 0
      },
      "text/plain": [
       "  0%|          | 0/64 [00:00<?, ?it/s]"
      ]
     },
     "metadata": {},
     "output_type": "display_data"
    },
    {
     "data": {
      "application/vnd.jupyter.widget-view+json": {
       "model_id": "40d3fcf4469941c58c314989390a8037",
       "version_major": 2,
       "version_minor": 0
      },
      "text/plain": [
       "  0%|          | 0/64 [00:00<?, ?it/s]"
      ]
     },
     "metadata": {},
     "output_type": "display_data"
    },
    {
     "data": {
      "application/vnd.jupyter.widget-view+json": {
       "model_id": "6e47ab612cc6440881f69245c985dbe5",
       "version_major": 2,
       "version_minor": 0
      },
      "text/plain": [
       "  0%|          | 0/64 [00:00<?, ?it/s]"
      ]
     },
     "metadata": {},
     "output_type": "display_data"
    },
    {
     "data": {
      "application/vnd.jupyter.widget-view+json": {
       "model_id": "6b0771ada35043ed903f8535a0614ecd",
       "version_major": 2,
       "version_minor": 0
      },
      "text/plain": [
       "  0%|          | 0/64 [00:00<?, ?it/s]"
      ]
     },
     "metadata": {},
     "output_type": "display_data"
    },
    {
     "data": {
      "application/vnd.jupyter.widget-view+json": {
       "model_id": "a8b074d6e0734261b044f3420f14fc21",
       "version_major": 2,
       "version_minor": 0
      },
      "text/plain": [
       "  0%|          | 0/64 [00:00<?, ?it/s]"
      ]
     },
     "metadata": {},
     "output_type": "display_data"
    },
    {
     "data": {
      "application/vnd.jupyter.widget-view+json": {
       "model_id": "d0c0253596c643ed90ce22c5699312ed",
       "version_major": 2,
       "version_minor": 0
      },
      "text/plain": [
       "  0%|          | 0/64 [00:00<?, ?it/s]"
      ]
     },
     "metadata": {},
     "output_type": "display_data"
    },
    {
     "data": {
      "application/vnd.jupyter.widget-view+json": {
       "model_id": "93ce72e5832241e480a21b58f8d9aba9",
       "version_major": 2,
       "version_minor": 0
      },
      "text/plain": [
       "  0%|          | 0/64 [00:00<?, ?it/s]"
      ]
     },
     "metadata": {},
     "output_type": "display_data"
    },
    {
     "data": {
      "application/vnd.jupyter.widget-view+json": {
       "model_id": "3500835f1f94425e8ee1eecfb2587934",
       "version_major": 2,
       "version_minor": 0
      },
      "text/plain": [
       "  0%|          | 0/64 [00:00<?, ?it/s]"
      ]
     },
     "metadata": {},
     "output_type": "display_data"
    },
    {
     "data": {
      "application/vnd.jupyter.widget-view+json": {
       "model_id": "da8089a140354180bef9132ed583938d",
       "version_major": 2,
       "version_minor": 0
      },
      "text/plain": [
       "  0%|          | 0/64 [00:00<?, ?it/s]"
      ]
     },
     "metadata": {},
     "output_type": "display_data"
    },
    {
     "data": {
      "application/vnd.jupyter.widget-view+json": {
       "model_id": "f4b9471044a34ccd8ea3894bc21e1b2f",
       "version_major": 2,
       "version_minor": 0
      },
      "text/plain": [
       "  0%|          | 0/64 [00:00<?, ?it/s]"
      ]
     },
     "metadata": {},
     "output_type": "display_data"
    },
    {
     "data": {
      "application/vnd.jupyter.widget-view+json": {
       "model_id": "3f771c1822f34d848da17e797eedfd71",
       "version_major": 2,
       "version_minor": 0
      },
      "text/plain": [
       "  0%|          | 0/64 [00:00<?, ?it/s]"
      ]
     },
     "metadata": {},
     "output_type": "display_data"
    },
    {
     "data": {
      "application/vnd.jupyter.widget-view+json": {
       "model_id": "89f214290fcf470b9d50dad8d943cf68",
       "version_major": 2,
       "version_minor": 0
      },
      "text/plain": [
       "  0%|          | 0/64 [00:00<?, ?it/s]"
      ]
     },
     "metadata": {},
     "output_type": "display_data"
    },
    {
     "data": {
      "application/vnd.jupyter.widget-view+json": {
       "model_id": "73f71bfcbb504de8a84d9308c2811bdb",
       "version_major": 2,
       "version_minor": 0
      },
      "text/plain": [
       "  0%|          | 0/64 [00:00<?, ?it/s]"
      ]
     },
     "metadata": {},
     "output_type": "display_data"
    },
    {
     "data": {
      "application/vnd.jupyter.widget-view+json": {
       "model_id": "08ae268e1da244e0af842e70128ae154",
       "version_major": 2,
       "version_minor": 0
      },
      "text/plain": [
       "  0%|          | 0/64 [00:00<?, ?it/s]"
      ]
     },
     "metadata": {},
     "output_type": "display_data"
    },
    {
     "data": {
      "application/vnd.jupyter.widget-view+json": {
       "model_id": "d2768d60e25b43f9b3307c55d10982d9",
       "version_major": 2,
       "version_minor": 0
      },
      "text/plain": [
       "  0%|          | 0/64 [00:00<?, ?it/s]"
      ]
     },
     "metadata": {},
     "output_type": "display_data"
    },
    {
     "data": {
      "application/vnd.jupyter.widget-view+json": {
       "model_id": "77e3b9b7097142e2bd29e9004e774a9e",
       "version_major": 2,
       "version_minor": 0
      },
      "text/plain": [
       "  0%|          | 0/64 [00:00<?, ?it/s]"
      ]
     },
     "metadata": {},
     "output_type": "display_data"
    },
    {
     "data": {
      "application/vnd.jupyter.widget-view+json": {
       "model_id": "aea446f4f98948e894b0cf42b66334c9",
       "version_major": 2,
       "version_minor": 0
      },
      "text/plain": [
       "  0%|          | 0/64 [00:00<?, ?it/s]"
      ]
     },
     "metadata": {},
     "output_type": "display_data"
    },
    {
     "data": {
      "application/vnd.jupyter.widget-view+json": {
       "model_id": "12317786c96049cea7e590cdcf6a504f",
       "version_major": 2,
       "version_minor": 0
      },
      "text/plain": [
       "  0%|          | 0/64 [00:00<?, ?it/s]"
      ]
     },
     "metadata": {},
     "output_type": "display_data"
    },
    {
     "data": {
      "application/vnd.jupyter.widget-view+json": {
       "model_id": "89d95608fc7a4dc1b4130f25a77a0562",
       "version_major": 2,
       "version_minor": 0
      },
      "text/plain": [
       "  0%|          | 0/64 [00:00<?, ?it/s]"
      ]
     },
     "metadata": {},
     "output_type": "display_data"
    },
    {
     "data": {
      "application/vnd.jupyter.widget-view+json": {
       "model_id": "f1db17ea59134aa58a1386388905a674",
       "version_major": 2,
       "version_minor": 0
      },
      "text/plain": [
       "  0%|          | 0/64 [00:00<?, ?it/s]"
      ]
     },
     "metadata": {},
     "output_type": "display_data"
    },
    {
     "data": {
      "application/vnd.jupyter.widget-view+json": {
       "model_id": "649a0196def7425c98657a0f0f7cf331",
       "version_major": 2,
       "version_minor": 0
      },
      "text/plain": [
       "  0%|          | 0/64 [00:00<?, ?it/s]"
      ]
     },
     "metadata": {},
     "output_type": "display_data"
    },
    {
     "data": {
      "application/vnd.jupyter.widget-view+json": {
       "model_id": "851b430a32e64399aafd472bf8d5db20",
       "version_major": 2,
       "version_minor": 0
      },
      "text/plain": [
       "  0%|          | 0/64 [00:00<?, ?it/s]"
      ]
     },
     "metadata": {},
     "output_type": "display_data"
    },
    {
     "data": {
      "application/vnd.jupyter.widget-view+json": {
       "model_id": "080379d2e3804d71a063f4dbeb29adbf",
       "version_major": 2,
       "version_minor": 0
      },
      "text/plain": [
       "  0%|          | 0/64 [00:00<?, ?it/s]"
      ]
     },
     "metadata": {},
     "output_type": "display_data"
    },
    {
     "data": {
      "application/vnd.jupyter.widget-view+json": {
       "model_id": "7083e05978cc427e8f8a6d7af7e40124",
       "version_major": 2,
       "version_minor": 0
      },
      "text/plain": [
       "  0%|          | 0/64 [00:00<?, ?it/s]"
      ]
     },
     "metadata": {},
     "output_type": "display_data"
    },
    {
     "data": {
      "application/vnd.jupyter.widget-view+json": {
       "model_id": "7424d068a41b4331ba77a3296b719403",
       "version_major": 2,
       "version_minor": 0
      },
      "text/plain": [
       "  0%|          | 0/64 [00:00<?, ?it/s]"
      ]
     },
     "metadata": {},
     "output_type": "display_data"
    },
    {
     "data": {
      "application/vnd.jupyter.widget-view+json": {
       "model_id": "ac141a1cc1ad4cb19f245c1409b9ea55",
       "version_major": 2,
       "version_minor": 0
      },
      "text/plain": [
       "  0%|          | 0/64 [00:00<?, ?it/s]"
      ]
     },
     "metadata": {},
     "output_type": "display_data"
    },
    {
     "data": {
      "application/vnd.jupyter.widget-view+json": {
       "model_id": "fd456c7b00064808a9a710b921110492",
       "version_major": 2,
       "version_minor": 0
      },
      "text/plain": [
       "  0%|          | 0/64 [00:00<?, ?it/s]"
      ]
     },
     "metadata": {},
     "output_type": "display_data"
    },
    {
     "data": {
      "application/vnd.jupyter.widget-view+json": {
       "model_id": "2f2cb8b2c64d437b9be754fdcac1f2c8",
       "version_major": 2,
       "version_minor": 0
      },
      "text/plain": [
       "  0%|          | 0/64 [00:00<?, ?it/s]"
      ]
     },
     "metadata": {},
     "output_type": "display_data"
    },
    {
     "data": {
      "application/vnd.jupyter.widget-view+json": {
       "model_id": "14a78d1597214b03aa09d947853673bb",
       "version_major": 2,
       "version_minor": 0
      },
      "text/plain": [
       "  0%|          | 0/64 [00:00<?, ?it/s]"
      ]
     },
     "metadata": {},
     "output_type": "display_data"
    },
    {
     "data": {
      "application/vnd.jupyter.widget-view+json": {
       "model_id": "c05038e3d751431d940d04c9f886c6b6",
       "version_major": 2,
       "version_minor": 0
      },
      "text/plain": [
       "  0%|          | 0/64 [00:00<?, ?it/s]"
      ]
     },
     "metadata": {},
     "output_type": "display_data"
    },
    {
     "data": {
      "application/vnd.jupyter.widget-view+json": {
       "model_id": "abe0bceafda84155b8637721e2d97fcc",
       "version_major": 2,
       "version_minor": 0
      },
      "text/plain": [
       "  0%|          | 0/64 [00:00<?, ?it/s]"
      ]
     },
     "metadata": {},
     "output_type": "display_data"
    },
    {
     "data": {
      "application/vnd.jupyter.widget-view+json": {
       "model_id": "1852a512bc684aacb47d66b95bcd229b",
       "version_major": 2,
       "version_minor": 0
      },
      "text/plain": [
       "  0%|          | 0/64 [00:00<?, ?it/s]"
      ]
     },
     "metadata": {},
     "output_type": "display_data"
    },
    {
     "data": {
      "application/vnd.jupyter.widget-view+json": {
       "model_id": "09d9c8b9e18e4475b69b258262c58976",
       "version_major": 2,
       "version_minor": 0
      },
      "text/plain": [
       "  0%|          | 0/64 [00:00<?, ?it/s]"
      ]
     },
     "metadata": {},
     "output_type": "display_data"
    },
    {
     "data": {
      "application/vnd.jupyter.widget-view+json": {
       "model_id": "65598ff9820a42c691816ba532a81cdb",
       "version_major": 2,
       "version_minor": 0
      },
      "text/plain": [
       "  0%|          | 0/64 [00:00<?, ?it/s]"
      ]
     },
     "metadata": {},
     "output_type": "display_data"
    },
    {
     "data": {
      "application/vnd.jupyter.widget-view+json": {
       "model_id": "f3205176ebd745b3813e218acfedb77d",
       "version_major": 2,
       "version_minor": 0
      },
      "text/plain": [
       "  0%|          | 0/64 [00:00<?, ?it/s]"
      ]
     },
     "metadata": {},
     "output_type": "display_data"
    },
    {
     "data": {
      "application/vnd.jupyter.widget-view+json": {
       "model_id": "30332b0311d24babb5874067a6f9b699",
       "version_major": 2,
       "version_minor": 0
      },
      "text/plain": [
       "  0%|          | 0/64 [00:00<?, ?it/s]"
      ]
     },
     "metadata": {},
     "output_type": "display_data"
    },
    {
     "data": {
      "application/vnd.jupyter.widget-view+json": {
       "model_id": "95eda7879d1d4e6bb1c6085085cf41c0",
       "version_major": 2,
       "version_minor": 0
      },
      "text/plain": [
       "  0%|          | 0/64 [00:00<?, ?it/s]"
      ]
     },
     "metadata": {},
     "output_type": "display_data"
    },
    {
     "data": {
      "application/vnd.jupyter.widget-view+json": {
       "model_id": "9b1abdfb85b64b688e0d20963a5a021d",
       "version_major": 2,
       "version_minor": 0
      },
      "text/plain": [
       "  0%|          | 0/64 [00:00<?, ?it/s]"
      ]
     },
     "metadata": {},
     "output_type": "display_data"
    },
    {
     "data": {
      "application/vnd.jupyter.widget-view+json": {
       "model_id": "e559649999b34ac6911b4377c20cec44",
       "version_major": 2,
       "version_minor": 0
      },
      "text/plain": [
       "  0%|          | 0/64 [00:00<?, ?it/s]"
      ]
     },
     "metadata": {},
     "output_type": "display_data"
    },
    {
     "data": {
      "application/vnd.jupyter.widget-view+json": {
       "model_id": "414df27d9b4e4b08962c15f8156f2199",
       "version_major": 2,
       "version_minor": 0
      },
      "text/plain": [
       "  0%|          | 0/64 [00:00<?, ?it/s]"
      ]
     },
     "metadata": {},
     "output_type": "display_data"
    },
    {
     "data": {
      "application/vnd.jupyter.widget-view+json": {
       "model_id": "a029bc6c3fe74c009143efed7ab79134",
       "version_major": 2,
       "version_minor": 0
      },
      "text/plain": [
       "  0%|          | 0/64 [00:00<?, ?it/s]"
      ]
     },
     "metadata": {},
     "output_type": "display_data"
    },
    {
     "data": {
      "application/vnd.jupyter.widget-view+json": {
       "model_id": "754b5dbd719f4d66aaab63d6160fa40f",
       "version_major": 2,
       "version_minor": 0
      },
      "text/plain": [
       "  0%|          | 0/64 [00:00<?, ?it/s]"
      ]
     },
     "metadata": {},
     "output_type": "display_data"
    },
    {
     "name": "stdout",
     "output_type": "stream",
     "text": [
      "saved model at ./outputs/model_state-N3200\n",
      "Number of parameters for nn_model: 111048705\n",
      "---------------- num_image = 6400 ----------------\n",
      "run_name = 0702-1737\n",
      "Launching training on one GPU.\n",
      "dataset content: <KeysViewHDF5 ['brightness_temp', 'density', 'kwargs', 'params', 'redshifts_distances', 'seeds', 'xH_box']>\n",
      "51200 images can be loaded\n",
      "field.shape = (64, 64, 514)\n",
      "params keys = [b'ION_Tvir_MIN', b'HII_EFF_FACTOR']\n",
      "loading 6400 images randomly\n",
      "images loaded: (6400, 1, 64, 64)\n"
     ]
    },
    {
     "name": "stderr",
     "output_type": "stream",
     "text": [
      "Detected kernel version 3.10.0, which is below the recommended minimum of 5.5.0; this can cause the process to hang. It is recommended to upgrade the kernel to the minimum version or higher.\n"
     ]
    },
    {
     "name": "stdout",
     "output_type": "stream",
     "text": [
      "params loaded: (6400, 2)\n",
      "images rescaled to [-1.0, 1.1910929679870605]\n",
      "params rescaled to [0.0001702067256199591, 0.9998461462686923]\n"
     ]
    },
    {
     "data": {
      "application/vnd.jupyter.widget-view+json": {
       "model_id": "7dcbe3c1221443a0910da2952ba6b58d",
       "version_major": 2,
       "version_minor": 0
      },
      "text/plain": [
       "  0%|          | 0/128 [00:00<?, ?it/s]"
      ]
     },
     "metadata": {},
     "output_type": "display_data"
    },
    {
     "data": {
      "application/vnd.jupyter.widget-view+json": {
       "model_id": "5f092d9c36bc4e9ebe8fb91255c477cf",
       "version_major": 2,
       "version_minor": 0
      },
      "text/plain": [
       "  0%|          | 0/128 [00:00<?, ?it/s]"
      ]
     },
     "metadata": {},
     "output_type": "display_data"
    },
    {
     "data": {
      "application/vnd.jupyter.widget-view+json": {
       "model_id": "6928d46e65b94dcb9ba1b52d919b438b",
       "version_major": 2,
       "version_minor": 0
      },
      "text/plain": [
       "  0%|          | 0/128 [00:00<?, ?it/s]"
      ]
     },
     "metadata": {},
     "output_type": "display_data"
    },
    {
     "data": {
      "application/vnd.jupyter.widget-view+json": {
       "model_id": "5a6bea10bb534ebbb3308a3feba3d2f5",
       "version_major": 2,
       "version_minor": 0
      },
      "text/plain": [
       "  0%|          | 0/128 [00:00<?, ?it/s]"
      ]
     },
     "metadata": {},
     "output_type": "display_data"
    },
    {
     "data": {
      "application/vnd.jupyter.widget-view+json": {
       "model_id": "38d144c4047841e4b151ceba3ea04e69",
       "version_major": 2,
       "version_minor": 0
      },
      "text/plain": [
       "  0%|          | 0/128 [00:00<?, ?it/s]"
      ]
     },
     "metadata": {},
     "output_type": "display_data"
    },
    {
     "data": {
      "application/vnd.jupyter.widget-view+json": {
       "model_id": "b66572a96d874696bb5019f6c3c943b0",
       "version_major": 2,
       "version_minor": 0
      },
      "text/plain": [
       "  0%|          | 0/128 [00:00<?, ?it/s]"
      ]
     },
     "metadata": {},
     "output_type": "display_data"
    },
    {
     "data": {
      "application/vnd.jupyter.widget-view+json": {
       "model_id": "4ff636158a724298ba77fe9de939cbb1",
       "version_major": 2,
       "version_minor": 0
      },
      "text/plain": [
       "  0%|          | 0/128 [00:00<?, ?it/s]"
      ]
     },
     "metadata": {},
     "output_type": "display_data"
    },
    {
     "data": {
      "application/vnd.jupyter.widget-view+json": {
       "model_id": "4d64ae27ef0546f581270fabc1ce1bb5",
       "version_major": 2,
       "version_minor": 0
      },
      "text/plain": [
       "  0%|          | 0/128 [00:00<?, ?it/s]"
      ]
     },
     "metadata": {},
     "output_type": "display_data"
    },
    {
     "data": {
      "application/vnd.jupyter.widget-view+json": {
       "model_id": "a38cfc5df2c245b6b7039ce0f1e7377e",
       "version_major": 2,
       "version_minor": 0
      },
      "text/plain": [
       "  0%|          | 0/128 [00:00<?, ?it/s]"
      ]
     },
     "metadata": {},
     "output_type": "display_data"
    },
    {
     "data": {
      "application/vnd.jupyter.widget-view+json": {
       "model_id": "fa6228cdfed14eb29d354fefe892b9a7",
       "version_major": 2,
       "version_minor": 0
      },
      "text/plain": [
       "  0%|          | 0/128 [00:00<?, ?it/s]"
      ]
     },
     "metadata": {},
     "output_type": "display_data"
    },
    {
     "data": {
      "application/vnd.jupyter.widget-view+json": {
       "model_id": "835f54dfb7d746f1ab7a215568dbcd6b",
       "version_major": 2,
       "version_minor": 0
      },
      "text/plain": [
       "  0%|          | 0/128 [00:00<?, ?it/s]"
      ]
     },
     "metadata": {},
     "output_type": "display_data"
    },
    {
     "data": {
      "application/vnd.jupyter.widget-view+json": {
       "model_id": "30a4aef103d945b0bbf2bd2b442d8c92",
       "version_major": 2,
       "version_minor": 0
      },
      "text/plain": [
       "  0%|          | 0/128 [00:00<?, ?it/s]"
      ]
     },
     "metadata": {},
     "output_type": "display_data"
    },
    {
     "data": {
      "application/vnd.jupyter.widget-view+json": {
       "model_id": "c15ff3f29f0e41edb871ded32b6e21e2",
       "version_major": 2,
       "version_minor": 0
      },
      "text/plain": [
       "  0%|          | 0/128 [00:00<?, ?it/s]"
      ]
     },
     "metadata": {},
     "output_type": "display_data"
    },
    {
     "data": {
      "application/vnd.jupyter.widget-view+json": {
       "model_id": "a34ba7e833194118a39af751a56c13f8",
       "version_major": 2,
       "version_minor": 0
      },
      "text/plain": [
       "  0%|          | 0/128 [00:00<?, ?it/s]"
      ]
     },
     "metadata": {},
     "output_type": "display_data"
    },
    {
     "data": {
      "application/vnd.jupyter.widget-view+json": {
       "model_id": "ca66fa6562544d3b977138955e555278",
       "version_major": 2,
       "version_minor": 0
      },
      "text/plain": [
       "  0%|          | 0/128 [00:00<?, ?it/s]"
      ]
     },
     "metadata": {},
     "output_type": "display_data"
    },
    {
     "data": {
      "application/vnd.jupyter.widget-view+json": {
       "model_id": "a76d013ffe314ac1af6ef055f392415d",
       "version_major": 2,
       "version_minor": 0
      },
      "text/plain": [
       "  0%|          | 0/128 [00:00<?, ?it/s]"
      ]
     },
     "metadata": {},
     "output_type": "display_data"
    },
    {
     "data": {
      "application/vnd.jupyter.widget-view+json": {
       "model_id": "e43c637e27fa46919a4ea48aed02a1d0",
       "version_major": 2,
       "version_minor": 0
      },
      "text/plain": [
       "  0%|          | 0/128 [00:00<?, ?it/s]"
      ]
     },
     "metadata": {},
     "output_type": "display_data"
    },
    {
     "data": {
      "application/vnd.jupyter.widget-view+json": {
       "model_id": "2508f4acc53840559da06118764964c2",
       "version_major": 2,
       "version_minor": 0
      },
      "text/plain": [
       "  0%|          | 0/128 [00:00<?, ?it/s]"
      ]
     },
     "metadata": {},
     "output_type": "display_data"
    },
    {
     "data": {
      "application/vnd.jupyter.widget-view+json": {
       "model_id": "52e7c4532c4a4025bb1d9b20c0d9f45b",
       "version_major": 2,
       "version_minor": 0
      },
      "text/plain": [
       "  0%|          | 0/128 [00:00<?, ?it/s]"
      ]
     },
     "metadata": {},
     "output_type": "display_data"
    },
    {
     "data": {
      "application/vnd.jupyter.widget-view+json": {
       "model_id": "4cf2e1ac6418485cade29e15f4514684",
       "version_major": 2,
       "version_minor": 0
      },
      "text/plain": [
       "  0%|          | 0/128 [00:00<?, ?it/s]"
      ]
     },
     "metadata": {},
     "output_type": "display_data"
    },
    {
     "data": {
      "application/vnd.jupyter.widget-view+json": {
       "model_id": "00111e2eb38c4d0ca54c20345feff058",
       "version_major": 2,
       "version_minor": 0
      },
      "text/plain": [
       "  0%|          | 0/128 [00:00<?, ?it/s]"
      ]
     },
     "metadata": {},
     "output_type": "display_data"
    },
    {
     "data": {
      "application/vnd.jupyter.widget-view+json": {
       "model_id": "0ac2eda548164d93b45827112252a16a",
       "version_major": 2,
       "version_minor": 0
      },
      "text/plain": [
       "  0%|          | 0/128 [00:00<?, ?it/s]"
      ]
     },
     "metadata": {},
     "output_type": "display_data"
    },
    {
     "data": {
      "application/vnd.jupyter.widget-view+json": {
       "model_id": "521967e01f6042bfbeb284518198cc2b",
       "version_major": 2,
       "version_minor": 0
      },
      "text/plain": [
       "  0%|          | 0/128 [00:00<?, ?it/s]"
      ]
     },
     "metadata": {},
     "output_type": "display_data"
    },
    {
     "data": {
      "application/vnd.jupyter.widget-view+json": {
       "model_id": "4bc1af553d4e4ae188620d4eda8d9721",
       "version_major": 2,
       "version_minor": 0
      },
      "text/plain": [
       "  0%|          | 0/128 [00:00<?, ?it/s]"
      ]
     },
     "metadata": {},
     "output_type": "display_data"
    },
    {
     "data": {
      "application/vnd.jupyter.widget-view+json": {
       "model_id": "c63a5f2eeef64e08997b05cb4343ca60",
       "version_major": 2,
       "version_minor": 0
      },
      "text/plain": [
       "  0%|          | 0/128 [00:00<?, ?it/s]"
      ]
     },
     "metadata": {},
     "output_type": "display_data"
    },
    {
     "data": {
      "application/vnd.jupyter.widget-view+json": {
       "model_id": "c765aaa74ac048cf8f30d266c35dbd08",
       "version_major": 2,
       "version_minor": 0
      },
      "text/plain": [
       "  0%|          | 0/128 [00:00<?, ?it/s]"
      ]
     },
     "metadata": {},
     "output_type": "display_data"
    },
    {
     "data": {
      "application/vnd.jupyter.widget-view+json": {
       "model_id": "147fd29ff61647478642470c449b0bd0",
       "version_major": 2,
       "version_minor": 0
      },
      "text/plain": [
       "  0%|          | 0/128 [00:00<?, ?it/s]"
      ]
     },
     "metadata": {},
     "output_type": "display_data"
    },
    {
     "data": {
      "application/vnd.jupyter.widget-view+json": {
       "model_id": "548617e45b924dc99b0294858eda91f1",
       "version_major": 2,
       "version_minor": 0
      },
      "text/plain": [
       "  0%|          | 0/128 [00:00<?, ?it/s]"
      ]
     },
     "metadata": {},
     "output_type": "display_data"
    },
    {
     "data": {
      "application/vnd.jupyter.widget-view+json": {
       "model_id": "29a200c7fe2d46cdb790f0481c10b652",
       "version_major": 2,
       "version_minor": 0
      },
      "text/plain": [
       "  0%|          | 0/128 [00:00<?, ?it/s]"
      ]
     },
     "metadata": {},
     "output_type": "display_data"
    },
    {
     "data": {
      "application/vnd.jupyter.widget-view+json": {
       "model_id": "eaa1e415c8794b99be33795756e51696",
       "version_major": 2,
       "version_minor": 0
      },
      "text/plain": [
       "  0%|          | 0/128 [00:00<?, ?it/s]"
      ]
     },
     "metadata": {},
     "output_type": "display_data"
    },
    {
     "data": {
      "application/vnd.jupyter.widget-view+json": {
       "model_id": "ab3111ab9dcc44209ed83acd718bb833",
       "version_major": 2,
       "version_minor": 0
      },
      "text/plain": [
       "  0%|          | 0/128 [00:00<?, ?it/s]"
      ]
     },
     "metadata": {},
     "output_type": "display_data"
    },
    {
     "data": {
      "application/vnd.jupyter.widget-view+json": {
       "model_id": "e9d385fea7014bdfb1273f5b582ee675",
       "version_major": 2,
       "version_minor": 0
      },
      "text/plain": [
       "  0%|          | 0/128 [00:00<?, ?it/s]"
      ]
     },
     "metadata": {},
     "output_type": "display_data"
    },
    {
     "data": {
      "application/vnd.jupyter.widget-view+json": {
       "model_id": "83f012b3b2644fa3a587c09993bf64ab",
       "version_major": 2,
       "version_minor": 0
      },
      "text/plain": [
       "  0%|          | 0/128 [00:00<?, ?it/s]"
      ]
     },
     "metadata": {},
     "output_type": "display_data"
    },
    {
     "data": {
      "application/vnd.jupyter.widget-view+json": {
       "model_id": "ef0be31575214e7091bdc6d9db69d012",
       "version_major": 2,
       "version_minor": 0
      },
      "text/plain": [
       "  0%|          | 0/128 [00:00<?, ?it/s]"
      ]
     },
     "metadata": {},
     "output_type": "display_data"
    },
    {
     "data": {
      "application/vnd.jupyter.widget-view+json": {
       "model_id": "518509bc011e4d4e8dbdab22416b4077",
       "version_major": 2,
       "version_minor": 0
      },
      "text/plain": [
       "  0%|          | 0/128 [00:00<?, ?it/s]"
      ]
     },
     "metadata": {},
     "output_type": "display_data"
    },
    {
     "data": {
      "application/vnd.jupyter.widget-view+json": {
       "model_id": "58e281c972d14d9eb1227c3c29347804",
       "version_major": 2,
       "version_minor": 0
      },
      "text/plain": [
       "  0%|          | 0/128 [00:00<?, ?it/s]"
      ]
     },
     "metadata": {},
     "output_type": "display_data"
    },
    {
     "data": {
      "application/vnd.jupyter.widget-view+json": {
       "model_id": "48922d19888b45e39e421c23a7271ed2",
       "version_major": 2,
       "version_minor": 0
      },
      "text/plain": [
       "  0%|          | 0/128 [00:00<?, ?it/s]"
      ]
     },
     "metadata": {},
     "output_type": "display_data"
    },
    {
     "data": {
      "application/vnd.jupyter.widget-view+json": {
       "model_id": "e4920eb2e56842eeafe7d5e687179811",
       "version_major": 2,
       "version_minor": 0
      },
      "text/plain": [
       "  0%|          | 0/128 [00:00<?, ?it/s]"
      ]
     },
     "metadata": {},
     "output_type": "display_data"
    },
    {
     "data": {
      "application/vnd.jupyter.widget-view+json": {
       "model_id": "df660d2b843a44dd82b8b3c02c928a12",
       "version_major": 2,
       "version_minor": 0
      },
      "text/plain": [
       "  0%|          | 0/128 [00:00<?, ?it/s]"
      ]
     },
     "metadata": {},
     "output_type": "display_data"
    },
    {
     "data": {
      "application/vnd.jupyter.widget-view+json": {
       "model_id": "1de90798d93b42ccb09e48fb9e78abc5",
       "version_major": 2,
       "version_minor": 0
      },
      "text/plain": [
       "  0%|          | 0/128 [00:00<?, ?it/s]"
      ]
     },
     "metadata": {},
     "output_type": "display_data"
    },
    {
     "data": {
      "application/vnd.jupyter.widget-view+json": {
       "model_id": "c92a406b0fa644d5b4cf010db1dcb7e3",
       "version_major": 2,
       "version_minor": 0
      },
      "text/plain": [
       "  0%|          | 0/128 [00:00<?, ?it/s]"
      ]
     },
     "metadata": {},
     "output_type": "display_data"
    },
    {
     "data": {
      "application/vnd.jupyter.widget-view+json": {
       "model_id": "34b25fe26b4646efb0efbeaf01bd4eaf",
       "version_major": 2,
       "version_minor": 0
      },
      "text/plain": [
       "  0%|          | 0/128 [00:00<?, ?it/s]"
      ]
     },
     "metadata": {},
     "output_type": "display_data"
    },
    {
     "data": {
      "application/vnd.jupyter.widget-view+json": {
       "model_id": "45c9a02919ec4fb2abf2cf70ba36a815",
       "version_major": 2,
       "version_minor": 0
      },
      "text/plain": [
       "  0%|          | 0/128 [00:00<?, ?it/s]"
      ]
     },
     "metadata": {},
     "output_type": "display_data"
    },
    {
     "data": {
      "application/vnd.jupyter.widget-view+json": {
       "model_id": "1d17bde3d2db4aee8608a907e8e891d8",
       "version_major": 2,
       "version_minor": 0
      },
      "text/plain": [
       "  0%|          | 0/128 [00:00<?, ?it/s]"
      ]
     },
     "metadata": {},
     "output_type": "display_data"
    },
    {
     "data": {
      "application/vnd.jupyter.widget-view+json": {
       "model_id": "94e48fce50434a698720af7cd694d429",
       "version_major": 2,
       "version_minor": 0
      },
      "text/plain": [
       "  0%|          | 0/128 [00:00<?, ?it/s]"
      ]
     },
     "metadata": {},
     "output_type": "display_data"
    },
    {
     "data": {
      "application/vnd.jupyter.widget-view+json": {
       "model_id": "cac6913acbf74365be12d902846e9894",
       "version_major": 2,
       "version_minor": 0
      },
      "text/plain": [
       "  0%|          | 0/128 [00:00<?, ?it/s]"
      ]
     },
     "metadata": {},
     "output_type": "display_data"
    },
    {
     "data": {
      "application/vnd.jupyter.widget-view+json": {
       "model_id": "aa8f2c48117849e2a8d146b1397cfedb",
       "version_major": 2,
       "version_minor": 0
      },
      "text/plain": [
       "  0%|          | 0/128 [00:00<?, ?it/s]"
      ]
     },
     "metadata": {},
     "output_type": "display_data"
    },
    {
     "data": {
      "application/vnd.jupyter.widget-view+json": {
       "model_id": "8ebe2d4e22a345af97973e20af55f876",
       "version_major": 2,
       "version_minor": 0
      },
      "text/plain": [
       "  0%|          | 0/128 [00:00<?, ?it/s]"
      ]
     },
     "metadata": {},
     "output_type": "display_data"
    },
    {
     "data": {
      "application/vnd.jupyter.widget-view+json": {
       "model_id": "b72a5693076a405bbbb63020c51dfec9",
       "version_major": 2,
       "version_minor": 0
      },
      "text/plain": [
       "  0%|          | 0/128 [00:00<?, ?it/s]"
      ]
     },
     "metadata": {},
     "output_type": "display_data"
    },
    {
     "data": {
      "application/vnd.jupyter.widget-view+json": {
       "model_id": "91b2c17142df40bcac99e8933052f2e5",
       "version_major": 2,
       "version_minor": 0
      },
      "text/plain": [
       "  0%|          | 0/128 [00:00<?, ?it/s]"
      ]
     },
     "metadata": {},
     "output_type": "display_data"
    },
    {
     "name": "stdout",
     "output_type": "stream",
     "text": [
      "saved model at ./outputs/model_state-N6400\n",
      "Number of parameters for nn_model: 111048705\n",
      "--------------- num_image = 12800 ----------------\n",
      "run_name = 0702-1801\n",
      "Launching training on one GPU.\n",
      "dataset content: <KeysViewHDF5 ['brightness_temp', 'density', 'kwargs', 'params', 'redshifts_distances', 'seeds', 'xH_box']>\n",
      "51200 images can be loaded\n",
      "field.shape = (64, 64, 514)\n",
      "params keys = [b'ION_Tvir_MIN', b'HII_EFF_FACTOR']\n",
      "loading 12800 images randomly\n",
      "images loaded: (12800, 1, 64, 64)\n"
     ]
    },
    {
     "name": "stderr",
     "output_type": "stream",
     "text": [
      "Detected kernel version 3.10.0, which is below the recommended minimum of 5.5.0; this can cause the process to hang. It is recommended to upgrade the kernel to the minimum version or higher.\n"
     ]
    },
    {
     "name": "stdout",
     "output_type": "stream",
     "text": [
      "params loaded: (12800, 2)\n",
      "images rescaled to [-1.0, 1.2380504608154297]\n",
      "params rescaled to [3.8339325512049e-05, 0.9999958400767995]\n"
     ]
    },
    {
     "data": {
      "application/vnd.jupyter.widget-view+json": {
       "model_id": "7a44e73529d34fcdbc790b622ce0af6a",
       "version_major": 2,
       "version_minor": 0
      },
      "text/plain": [
       "  0%|          | 0/256 [00:00<?, ?it/s]"
      ]
     },
     "metadata": {},
     "output_type": "display_data"
    },
    {
     "data": {
      "application/vnd.jupyter.widget-view+json": {
       "model_id": "c04f1c7c5ba04e4388bccba5e2996d6b",
       "version_major": 2,
       "version_minor": 0
      },
      "text/plain": [
       "  0%|          | 0/256 [00:00<?, ?it/s]"
      ]
     },
     "metadata": {},
     "output_type": "display_data"
    },
    {
     "data": {
      "application/vnd.jupyter.widget-view+json": {
       "model_id": "24c1aab784f74750a4484bff59df2a3f",
       "version_major": 2,
       "version_minor": 0
      },
      "text/plain": [
       "  0%|          | 0/256 [00:00<?, ?it/s]"
      ]
     },
     "metadata": {},
     "output_type": "display_data"
    },
    {
     "data": {
      "application/vnd.jupyter.widget-view+json": {
       "model_id": "de7bde4f1e0c4fb89f29b3fd4ec45be7",
       "version_major": 2,
       "version_minor": 0
      },
      "text/plain": [
       "  0%|          | 0/256 [00:00<?, ?it/s]"
      ]
     },
     "metadata": {},
     "output_type": "display_data"
    },
    {
     "data": {
      "application/vnd.jupyter.widget-view+json": {
       "model_id": "a89dbe6280ab46e4a2e59eaabb214cbe",
       "version_major": 2,
       "version_minor": 0
      },
      "text/plain": [
       "  0%|          | 0/256 [00:00<?, ?it/s]"
      ]
     },
     "metadata": {},
     "output_type": "display_data"
    },
    {
     "data": {
      "application/vnd.jupyter.widget-view+json": {
       "model_id": "6c70e9de3be3499ea65973ebadb68dbb",
       "version_major": 2,
       "version_minor": 0
      },
      "text/plain": [
       "  0%|          | 0/256 [00:00<?, ?it/s]"
      ]
     },
     "metadata": {},
     "output_type": "display_data"
    },
    {
     "data": {
      "application/vnd.jupyter.widget-view+json": {
       "model_id": "bf561aefab6b4247a25aa1801d0d73c9",
       "version_major": 2,
       "version_minor": 0
      },
      "text/plain": [
       "  0%|          | 0/256 [00:00<?, ?it/s]"
      ]
     },
     "metadata": {},
     "output_type": "display_data"
    },
    {
     "data": {
      "application/vnd.jupyter.widget-view+json": {
       "model_id": "fbd31dfa0e384639ac6662fc937df56c",
       "version_major": 2,
       "version_minor": 0
      },
      "text/plain": [
       "  0%|          | 0/256 [00:00<?, ?it/s]"
      ]
     },
     "metadata": {},
     "output_type": "display_data"
    },
    {
     "data": {
      "application/vnd.jupyter.widget-view+json": {
       "model_id": "8e144dd4e2c240dc829e1f6c319cd9ac",
       "version_major": 2,
       "version_minor": 0
      },
      "text/plain": [
       "  0%|          | 0/256 [00:00<?, ?it/s]"
      ]
     },
     "metadata": {},
     "output_type": "display_data"
    },
    {
     "data": {
      "application/vnd.jupyter.widget-view+json": {
       "model_id": "733e8a15f5154eb8999cb567c401df77",
       "version_major": 2,
       "version_minor": 0
      },
      "text/plain": [
       "  0%|          | 0/256 [00:00<?, ?it/s]"
      ]
     },
     "metadata": {},
     "output_type": "display_data"
    },
    {
     "data": {
      "application/vnd.jupyter.widget-view+json": {
       "model_id": "701d2720e78b48658bec374f8b600a96",
       "version_major": 2,
       "version_minor": 0
      },
      "text/plain": [
       "  0%|          | 0/256 [00:00<?, ?it/s]"
      ]
     },
     "metadata": {},
     "output_type": "display_data"
    },
    {
     "data": {
      "application/vnd.jupyter.widget-view+json": {
       "model_id": "cfac805267624d2f850a6bc85bbd565e",
       "version_major": 2,
       "version_minor": 0
      },
      "text/plain": [
       "  0%|          | 0/256 [00:00<?, ?it/s]"
      ]
     },
     "metadata": {},
     "output_type": "display_data"
    },
    {
     "data": {
      "application/vnd.jupyter.widget-view+json": {
       "model_id": "ccbd833ee5ac4e7e9ea689f75a559999",
       "version_major": 2,
       "version_minor": 0
      },
      "text/plain": [
       "  0%|          | 0/256 [00:00<?, ?it/s]"
      ]
     },
     "metadata": {},
     "output_type": "display_data"
    },
    {
     "data": {
      "application/vnd.jupyter.widget-view+json": {
       "model_id": "492bb0481fd54207a54881b4cf963ab7",
       "version_major": 2,
       "version_minor": 0
      },
      "text/plain": [
       "  0%|          | 0/256 [00:00<?, ?it/s]"
      ]
     },
     "metadata": {},
     "output_type": "display_data"
    },
    {
     "data": {
      "application/vnd.jupyter.widget-view+json": {
       "model_id": "1c10e32bce134ad7a374576e0a912a4d",
       "version_major": 2,
       "version_minor": 0
      },
      "text/plain": [
       "  0%|          | 0/256 [00:00<?, ?it/s]"
      ]
     },
     "metadata": {},
     "output_type": "display_data"
    },
    {
     "data": {
      "application/vnd.jupyter.widget-view+json": {
       "model_id": "7255a31d029c477aa780ab8146152d33",
       "version_major": 2,
       "version_minor": 0
      },
      "text/plain": [
       "  0%|          | 0/256 [00:00<?, ?it/s]"
      ]
     },
     "metadata": {},
     "output_type": "display_data"
    },
    {
     "data": {
      "application/vnd.jupyter.widget-view+json": {
       "model_id": "044db3abab9d4842ab706bedd228dec9",
       "version_major": 2,
       "version_minor": 0
      },
      "text/plain": [
       "  0%|          | 0/256 [00:00<?, ?it/s]"
      ]
     },
     "metadata": {},
     "output_type": "display_data"
    },
    {
     "data": {
      "application/vnd.jupyter.widget-view+json": {
       "model_id": "733e11e6b81148419dc48bc7933a1b30",
       "version_major": 2,
       "version_minor": 0
      },
      "text/plain": [
       "  0%|          | 0/256 [00:00<?, ?it/s]"
      ]
     },
     "metadata": {},
     "output_type": "display_data"
    },
    {
     "data": {
      "application/vnd.jupyter.widget-view+json": {
       "model_id": "7952f16d57b94846be703767116e05f3",
       "version_major": 2,
       "version_minor": 0
      },
      "text/plain": [
       "  0%|          | 0/256 [00:00<?, ?it/s]"
      ]
     },
     "metadata": {},
     "output_type": "display_data"
    },
    {
     "data": {
      "application/vnd.jupyter.widget-view+json": {
       "model_id": "a38997af95174caf893abb93dcdbad6a",
       "version_major": 2,
       "version_minor": 0
      },
      "text/plain": [
       "  0%|          | 0/256 [00:00<?, ?it/s]"
      ]
     },
     "metadata": {},
     "output_type": "display_data"
    },
    {
     "data": {
      "application/vnd.jupyter.widget-view+json": {
       "model_id": "62123abb03c54098b46c3d5a5d43284e",
       "version_major": 2,
       "version_minor": 0
      },
      "text/plain": [
       "  0%|          | 0/256 [00:00<?, ?it/s]"
      ]
     },
     "metadata": {},
     "output_type": "display_data"
    },
    {
     "data": {
      "application/vnd.jupyter.widget-view+json": {
       "model_id": "8c0838ab3635462d992a9d630700130e",
       "version_major": 2,
       "version_minor": 0
      },
      "text/plain": [
       "  0%|          | 0/256 [00:00<?, ?it/s]"
      ]
     },
     "metadata": {},
     "output_type": "display_data"
    },
    {
     "data": {
      "application/vnd.jupyter.widget-view+json": {
       "model_id": "afeddb3d0a7a42b69a1cfa2ada68ea5f",
       "version_major": 2,
       "version_minor": 0
      },
      "text/plain": [
       "  0%|          | 0/256 [00:00<?, ?it/s]"
      ]
     },
     "metadata": {},
     "output_type": "display_data"
    },
    {
     "data": {
      "application/vnd.jupyter.widget-view+json": {
       "model_id": "1fc0135674e84e7eafea406c737f43f3",
       "version_major": 2,
       "version_minor": 0
      },
      "text/plain": [
       "  0%|          | 0/256 [00:00<?, ?it/s]"
      ]
     },
     "metadata": {},
     "output_type": "display_data"
    },
    {
     "data": {
      "application/vnd.jupyter.widget-view+json": {
       "model_id": "d6228335f2d54c06804583a2caf44a57",
       "version_major": 2,
       "version_minor": 0
      },
      "text/plain": [
       "  0%|          | 0/256 [00:00<?, ?it/s]"
      ]
     },
     "metadata": {},
     "output_type": "display_data"
    },
    {
     "data": {
      "application/vnd.jupyter.widget-view+json": {
       "model_id": "f040934616984913b01328d419291b31",
       "version_major": 2,
       "version_minor": 0
      },
      "text/plain": [
       "  0%|          | 0/256 [00:00<?, ?it/s]"
      ]
     },
     "metadata": {},
     "output_type": "display_data"
    },
    {
     "data": {
      "application/vnd.jupyter.widget-view+json": {
       "model_id": "12c2e4009ec94c20a7bc7401a11d344a",
       "version_major": 2,
       "version_minor": 0
      },
      "text/plain": [
       "  0%|          | 0/256 [00:00<?, ?it/s]"
      ]
     },
     "metadata": {},
     "output_type": "display_data"
    },
    {
     "data": {
      "application/vnd.jupyter.widget-view+json": {
       "model_id": "f50c74d91d4047e6995c18948cd77c38",
       "version_major": 2,
       "version_minor": 0
      },
      "text/plain": [
       "  0%|          | 0/256 [00:00<?, ?it/s]"
      ]
     },
     "metadata": {},
     "output_type": "display_data"
    },
    {
     "data": {
      "application/vnd.jupyter.widget-view+json": {
       "model_id": "65562fe29dc544678bd5825f681f2066",
       "version_major": 2,
       "version_minor": 0
      },
      "text/plain": [
       "  0%|          | 0/256 [00:00<?, ?it/s]"
      ]
     },
     "metadata": {},
     "output_type": "display_data"
    },
    {
     "data": {
      "application/vnd.jupyter.widget-view+json": {
       "model_id": "9b55fbb6c10247c5a5cde74a88ba39d1",
       "version_major": 2,
       "version_minor": 0
      },
      "text/plain": [
       "  0%|          | 0/256 [00:00<?, ?it/s]"
      ]
     },
     "metadata": {},
     "output_type": "display_data"
    },
    {
     "data": {
      "application/vnd.jupyter.widget-view+json": {
       "model_id": "c093b9c1819c4541a0dcbd92787ceef3",
       "version_major": 2,
       "version_minor": 0
      },
      "text/plain": [
       "  0%|          | 0/256 [00:00<?, ?it/s]"
      ]
     },
     "metadata": {},
     "output_type": "display_data"
    },
    {
     "data": {
      "application/vnd.jupyter.widget-view+json": {
       "model_id": "1778af8b0e7e43e5b8f702b53b4526e6",
       "version_major": 2,
       "version_minor": 0
      },
      "text/plain": [
       "  0%|          | 0/256 [00:00<?, ?it/s]"
      ]
     },
     "metadata": {},
     "output_type": "display_data"
    },
    {
     "data": {
      "application/vnd.jupyter.widget-view+json": {
       "model_id": "34589991352a4bf3891ba33ebfcd521b",
       "version_major": 2,
       "version_minor": 0
      },
      "text/plain": [
       "  0%|          | 0/256 [00:00<?, ?it/s]"
      ]
     },
     "metadata": {},
     "output_type": "display_data"
    },
    {
     "data": {
      "application/vnd.jupyter.widget-view+json": {
       "model_id": "3acb4d18d1c94cc4930804fd1501589d",
       "version_major": 2,
       "version_minor": 0
      },
      "text/plain": [
       "  0%|          | 0/256 [00:00<?, ?it/s]"
      ]
     },
     "metadata": {},
     "output_type": "display_data"
    },
    {
     "data": {
      "application/vnd.jupyter.widget-view+json": {
       "model_id": "f0a6fcb3493c4f00a5ba4bf9205fdd83",
       "version_major": 2,
       "version_minor": 0
      },
      "text/plain": [
       "  0%|          | 0/256 [00:00<?, ?it/s]"
      ]
     },
     "metadata": {},
     "output_type": "display_data"
    },
    {
     "data": {
      "application/vnd.jupyter.widget-view+json": {
       "model_id": "dd59413239e74b2fa0b2ebe7b9eb0e50",
       "version_major": 2,
       "version_minor": 0
      },
      "text/plain": [
       "  0%|          | 0/256 [00:00<?, ?it/s]"
      ]
     },
     "metadata": {},
     "output_type": "display_data"
    },
    {
     "data": {
      "application/vnd.jupyter.widget-view+json": {
       "model_id": "8ffa4b42bea149e3a940c1fb492ebf1c",
       "version_major": 2,
       "version_minor": 0
      },
      "text/plain": [
       "  0%|          | 0/256 [00:00<?, ?it/s]"
      ]
     },
     "metadata": {},
     "output_type": "display_data"
    },
    {
     "data": {
      "application/vnd.jupyter.widget-view+json": {
       "model_id": "42091af8488e4004a9078590e48db390",
       "version_major": 2,
       "version_minor": 0
      },
      "text/plain": [
       "  0%|          | 0/256 [00:00<?, ?it/s]"
      ]
     },
     "metadata": {},
     "output_type": "display_data"
    },
    {
     "data": {
      "application/vnd.jupyter.widget-view+json": {
       "model_id": "00b4ab56b15f408d81796a9d143867cd",
       "version_major": 2,
       "version_minor": 0
      },
      "text/plain": [
       "  0%|          | 0/256 [00:00<?, ?it/s]"
      ]
     },
     "metadata": {},
     "output_type": "display_data"
    },
    {
     "data": {
      "application/vnd.jupyter.widget-view+json": {
       "model_id": "355be85a9a3a490c8eebe7e4bf97ae51",
       "version_major": 2,
       "version_minor": 0
      },
      "text/plain": [
       "  0%|          | 0/256 [00:00<?, ?it/s]"
      ]
     },
     "metadata": {},
     "output_type": "display_data"
    },
    {
     "data": {
      "application/vnd.jupyter.widget-view+json": {
       "model_id": "6d6d22b44e774a4b9af42a469b6e33c0",
       "version_major": 2,
       "version_minor": 0
      },
      "text/plain": [
       "  0%|          | 0/256 [00:00<?, ?it/s]"
      ]
     },
     "metadata": {},
     "output_type": "display_data"
    },
    {
     "data": {
      "application/vnd.jupyter.widget-view+json": {
       "model_id": "53c981f957504a2999c8677e9dd26775",
       "version_major": 2,
       "version_minor": 0
      },
      "text/plain": [
       "  0%|          | 0/256 [00:00<?, ?it/s]"
      ]
     },
     "metadata": {},
     "output_type": "display_data"
    },
    {
     "data": {
      "application/vnd.jupyter.widget-view+json": {
       "model_id": "17eb6a178bda4e52b4257e75de4d388d",
       "version_major": 2,
       "version_minor": 0
      },
      "text/plain": [
       "  0%|          | 0/256 [00:00<?, ?it/s]"
      ]
     },
     "metadata": {},
     "output_type": "display_data"
    },
    {
     "data": {
      "application/vnd.jupyter.widget-view+json": {
       "model_id": "c121efbc28ec4ae894bc220ba12c4cd3",
       "version_major": 2,
       "version_minor": 0
      },
      "text/plain": [
       "  0%|          | 0/256 [00:00<?, ?it/s]"
      ]
     },
     "metadata": {},
     "output_type": "display_data"
    },
    {
     "data": {
      "application/vnd.jupyter.widget-view+json": {
       "model_id": "8a1f2197cea8456992b7b9df83a108ba",
       "version_major": 2,
       "version_minor": 0
      },
      "text/plain": [
       "  0%|          | 0/256 [00:00<?, ?it/s]"
      ]
     },
     "metadata": {},
     "output_type": "display_data"
    },
    {
     "data": {
      "application/vnd.jupyter.widget-view+json": {
       "model_id": "71af44b6a67d41de949b8675734c85b8",
       "version_major": 2,
       "version_minor": 0
      },
      "text/plain": [
       "  0%|          | 0/256 [00:00<?, ?it/s]"
      ]
     },
     "metadata": {},
     "output_type": "display_data"
    },
    {
     "data": {
      "application/vnd.jupyter.widget-view+json": {
       "model_id": "396dbc8bfb684400bfa23708ac610e30",
       "version_major": 2,
       "version_minor": 0
      },
      "text/plain": [
       "  0%|          | 0/256 [00:00<?, ?it/s]"
      ]
     },
     "metadata": {},
     "output_type": "display_data"
    },
    {
     "data": {
      "application/vnd.jupyter.widget-view+json": {
       "model_id": "1212909241094340bd81240b1565fa50",
       "version_major": 2,
       "version_minor": 0
      },
      "text/plain": [
       "  0%|          | 0/256 [00:00<?, ?it/s]"
      ]
     },
     "metadata": {},
     "output_type": "display_data"
    },
    {
     "data": {
      "application/vnd.jupyter.widget-view+json": {
       "model_id": "d3fbfded55e44462be7ebdcd1850b3ad",
       "version_major": 2,
       "version_minor": 0
      },
      "text/plain": [
       "  0%|          | 0/256 [00:00<?, ?it/s]"
      ]
     },
     "metadata": {},
     "output_type": "display_data"
    },
    {
     "data": {
      "application/vnd.jupyter.widget-view+json": {
       "model_id": "d27e62debe9f496bbed45cf4f803cda8",
       "version_major": 2,
       "version_minor": 0
      },
      "text/plain": [
       "  0%|          | 0/256 [00:00<?, ?it/s]"
      ]
     },
     "metadata": {},
     "output_type": "display_data"
    },
    {
     "name": "stdout",
     "output_type": "stream",
     "text": [
      "saved model at ./outputs/model_state-N12800\n",
      "Number of parameters for nn_model: 111048705\n",
      "--------------- num_image = 25600 ----------------\n",
      "run_name = 0702-1845\n",
      "Launching training on one GPU.\n",
      "dataset content: <KeysViewHDF5 ['brightness_temp', 'density', 'kwargs', 'params', 'redshifts_distances', 'seeds', 'xH_box']>\n",
      "51200 images can be loaded\n",
      "field.shape = (64, 64, 514)\n",
      "params keys = [b'ION_Tvir_MIN', b'HII_EFF_FACTOR']\n",
      "loading 25600 images randomly\n",
      "images loaded: (25600, 1, 64, 64)\n",
      "params loaded: (25600, 2)\n"
     ]
    },
    {
     "name": "stderr",
     "output_type": "stream",
     "text": [
      "Detected kernel version 3.10.0, which is below the recommended minimum of 5.5.0; this can cause the process to hang. It is recommended to upgrade the kernel to the minimum version or higher.\n"
     ]
    },
    {
     "name": "stdout",
     "output_type": "stream",
     "text": [
      "images rescaled to [-1.0, 1.2380504608154297]\n",
      "params rescaled to [3.349517406547875e-06, 0.9999922179553216]\n"
     ]
    },
    {
     "data": {
      "application/vnd.jupyter.widget-view+json": {
       "model_id": "488a6a64228f4ca487199a34fe14f334",
       "version_major": 2,
       "version_minor": 0
      },
      "text/plain": [
       "  0%|          | 0/512 [00:00<?, ?it/s]"
      ]
     },
     "metadata": {},
     "output_type": "display_data"
    },
    {
     "data": {
      "application/vnd.jupyter.widget-view+json": {
       "model_id": "dd65d00b70b548138c47ac135d34d885",
       "version_major": 2,
       "version_minor": 0
      },
      "text/plain": [
       "  0%|          | 0/512 [00:00<?, ?it/s]"
      ]
     },
     "metadata": {},
     "output_type": "display_data"
    },
    {
     "data": {
      "application/vnd.jupyter.widget-view+json": {
       "model_id": "fc04006857674f30b1cd269474ec2951",
       "version_major": 2,
       "version_minor": 0
      },
      "text/plain": [
       "  0%|          | 0/512 [00:00<?, ?it/s]"
      ]
     },
     "metadata": {},
     "output_type": "display_data"
    },
    {
     "data": {
      "application/vnd.jupyter.widget-view+json": {
       "model_id": "f6489109774c44cd9028f5f3e2a43c78",
       "version_major": 2,
       "version_minor": 0
      },
      "text/plain": [
       "  0%|          | 0/512 [00:00<?, ?it/s]"
      ]
     },
     "metadata": {},
     "output_type": "display_data"
    },
    {
     "data": {
      "application/vnd.jupyter.widget-view+json": {
       "model_id": "1b740f503d21482bb328e6008f36309f",
       "version_major": 2,
       "version_minor": 0
      },
      "text/plain": [
       "  0%|          | 0/512 [00:00<?, ?it/s]"
      ]
     },
     "metadata": {},
     "output_type": "display_data"
    },
    {
     "data": {
      "application/vnd.jupyter.widget-view+json": {
       "model_id": "49c3a028867b46399556d72c87ab4b91",
       "version_major": 2,
       "version_minor": 0
      },
      "text/plain": [
       "  0%|          | 0/512 [00:00<?, ?it/s]"
      ]
     },
     "metadata": {},
     "output_type": "display_data"
    },
    {
     "data": {
      "application/vnd.jupyter.widget-view+json": {
       "model_id": "be6bdf8c976d424fb2b7b84cb4a3126e",
       "version_major": 2,
       "version_minor": 0
      },
      "text/plain": [
       "  0%|          | 0/512 [00:00<?, ?it/s]"
      ]
     },
     "metadata": {},
     "output_type": "display_data"
    },
    {
     "data": {
      "application/vnd.jupyter.widget-view+json": {
       "model_id": "414889f7a16344fead807080574c135f",
       "version_major": 2,
       "version_minor": 0
      },
      "text/plain": [
       "  0%|          | 0/512 [00:00<?, ?it/s]"
      ]
     },
     "metadata": {},
     "output_type": "display_data"
    },
    {
     "data": {
      "application/vnd.jupyter.widget-view+json": {
       "model_id": "ce71461129bc494d998d20ea698d0c6d",
       "version_major": 2,
       "version_minor": 0
      },
      "text/plain": [
       "  0%|          | 0/512 [00:00<?, ?it/s]"
      ]
     },
     "metadata": {},
     "output_type": "display_data"
    },
    {
     "data": {
      "application/vnd.jupyter.widget-view+json": {
       "model_id": "0f3e74076ea54a03b65a3a22d00a7e39",
       "version_major": 2,
       "version_minor": 0
      },
      "text/plain": [
       "  0%|          | 0/512 [00:00<?, ?it/s]"
      ]
     },
     "metadata": {},
     "output_type": "display_data"
    },
    {
     "data": {
      "application/vnd.jupyter.widget-view+json": {
       "model_id": "0cb0360d7c864b6abe628c19f7f767f1",
       "version_major": 2,
       "version_minor": 0
      },
      "text/plain": [
       "  0%|          | 0/512 [00:00<?, ?it/s]"
      ]
     },
     "metadata": {},
     "output_type": "display_data"
    },
    {
     "data": {
      "application/vnd.jupyter.widget-view+json": {
       "model_id": "b601b32a3845432f9cef4957fb1f2409",
       "version_major": 2,
       "version_minor": 0
      },
      "text/plain": [
       "  0%|          | 0/512 [00:00<?, ?it/s]"
      ]
     },
     "metadata": {},
     "output_type": "display_data"
    },
    {
     "data": {
      "application/vnd.jupyter.widget-view+json": {
       "model_id": "55f3c7ef38c942aaab603a0672c2b119",
       "version_major": 2,
       "version_minor": 0
      },
      "text/plain": [
       "  0%|          | 0/512 [00:00<?, ?it/s]"
      ]
     },
     "metadata": {},
     "output_type": "display_data"
    },
    {
     "data": {
      "application/vnd.jupyter.widget-view+json": {
       "model_id": "6cbf0716b386442fbf605817fd69bc42",
       "version_major": 2,
       "version_minor": 0
      },
      "text/plain": [
       "  0%|          | 0/512 [00:00<?, ?it/s]"
      ]
     },
     "metadata": {},
     "output_type": "display_data"
    },
    {
     "data": {
      "application/vnd.jupyter.widget-view+json": {
       "model_id": "752a28c480314f33bfdb140fd20b1fac",
       "version_major": 2,
       "version_minor": 0
      },
      "text/plain": [
       "  0%|          | 0/512 [00:00<?, ?it/s]"
      ]
     },
     "metadata": {},
     "output_type": "display_data"
    },
    {
     "data": {
      "application/vnd.jupyter.widget-view+json": {
       "model_id": "35c111a90566421fb8b84d2111bd1b02",
       "version_major": 2,
       "version_minor": 0
      },
      "text/plain": [
       "  0%|          | 0/512 [00:00<?, ?it/s]"
      ]
     },
     "metadata": {},
     "output_type": "display_data"
    },
    {
     "data": {
      "application/vnd.jupyter.widget-view+json": {
       "model_id": "3def96bb7d9c4536b83cffd259d7dcd3",
       "version_major": 2,
       "version_minor": 0
      },
      "text/plain": [
       "  0%|          | 0/512 [00:00<?, ?it/s]"
      ]
     },
     "metadata": {},
     "output_type": "display_data"
    },
    {
     "data": {
      "application/vnd.jupyter.widget-view+json": {
       "model_id": "fb0f3e6442d146489219914f1eef83b5",
       "version_major": 2,
       "version_minor": 0
      },
      "text/plain": [
       "  0%|          | 0/512 [00:00<?, ?it/s]"
      ]
     },
     "metadata": {},
     "output_type": "display_data"
    },
    {
     "data": {
      "application/vnd.jupyter.widget-view+json": {
       "model_id": "97a889bf4a5b48ccbc608d4c3cca9271",
       "version_major": 2,
       "version_minor": 0
      },
      "text/plain": [
       "  0%|          | 0/512 [00:00<?, ?it/s]"
      ]
     },
     "metadata": {},
     "output_type": "display_data"
    },
    {
     "data": {
      "application/vnd.jupyter.widget-view+json": {
       "model_id": "4f9405081dae4e1293ab3d2759cfb7e7",
       "version_major": 2,
       "version_minor": 0
      },
      "text/plain": [
       "  0%|          | 0/512 [00:00<?, ?it/s]"
      ]
     },
     "metadata": {},
     "output_type": "display_data"
    },
    {
     "data": {
      "application/vnd.jupyter.widget-view+json": {
       "model_id": "665e98865f764ca68daaf450b1be5298",
       "version_major": 2,
       "version_minor": 0
      },
      "text/plain": [
       "  0%|          | 0/512 [00:00<?, ?it/s]"
      ]
     },
     "metadata": {},
     "output_type": "display_data"
    },
    {
     "data": {
      "application/vnd.jupyter.widget-view+json": {
       "model_id": "26311c1f6dc24236b41a4f39a216fa77",
       "version_major": 2,
       "version_minor": 0
      },
      "text/plain": [
       "  0%|          | 0/512 [00:00<?, ?it/s]"
      ]
     },
     "metadata": {},
     "output_type": "display_data"
    },
    {
     "data": {
      "application/vnd.jupyter.widget-view+json": {
       "model_id": "67c142764fd044ed94b072daaa3c8c4e",
       "version_major": 2,
       "version_minor": 0
      },
      "text/plain": [
       "  0%|          | 0/512 [00:00<?, ?it/s]"
      ]
     },
     "metadata": {},
     "output_type": "display_data"
    },
    {
     "data": {
      "application/vnd.jupyter.widget-view+json": {
       "model_id": "41ecea15ccbb44a9967905aad3942436",
       "version_major": 2,
       "version_minor": 0
      },
      "text/plain": [
       "  0%|          | 0/512 [00:00<?, ?it/s]"
      ]
     },
     "metadata": {},
     "output_type": "display_data"
    },
    {
     "data": {
      "application/vnd.jupyter.widget-view+json": {
       "model_id": "14f4a12e186144309e9cc0acb5a4f129",
       "version_major": 2,
       "version_minor": 0
      },
      "text/plain": [
       "  0%|          | 0/512 [00:00<?, ?it/s]"
      ]
     },
     "metadata": {},
     "output_type": "display_data"
    },
    {
     "data": {
      "application/vnd.jupyter.widget-view+json": {
       "model_id": "d1ea77df2a754fff9d9757fa03a9f7e0",
       "version_major": 2,
       "version_minor": 0
      },
      "text/plain": [
       "  0%|          | 0/512 [00:00<?, ?it/s]"
      ]
     },
     "metadata": {},
     "output_type": "display_data"
    },
    {
     "data": {
      "application/vnd.jupyter.widget-view+json": {
       "model_id": "8a317145dc034be38138af1a01a9d934",
       "version_major": 2,
       "version_minor": 0
      },
      "text/plain": [
       "  0%|          | 0/512 [00:00<?, ?it/s]"
      ]
     },
     "metadata": {},
     "output_type": "display_data"
    },
    {
     "data": {
      "application/vnd.jupyter.widget-view+json": {
       "model_id": "550ef8709fa14a6ba4ecdaf8f3d216d9",
       "version_major": 2,
       "version_minor": 0
      },
      "text/plain": [
       "  0%|          | 0/512 [00:00<?, ?it/s]"
      ]
     },
     "metadata": {},
     "output_type": "display_data"
    },
    {
     "data": {
      "application/vnd.jupyter.widget-view+json": {
       "model_id": "790532f8da474ec3a5c79b998e31afce",
       "version_major": 2,
       "version_minor": 0
      },
      "text/plain": [
       "  0%|          | 0/512 [00:00<?, ?it/s]"
      ]
     },
     "metadata": {},
     "output_type": "display_data"
    },
    {
     "data": {
      "application/vnd.jupyter.widget-view+json": {
       "model_id": "2c8c5887cd604cf89793125301208673",
       "version_major": 2,
       "version_minor": 0
      },
      "text/plain": [
       "  0%|          | 0/512 [00:00<?, ?it/s]"
      ]
     },
     "metadata": {},
     "output_type": "display_data"
    },
    {
     "data": {
      "application/vnd.jupyter.widget-view+json": {
       "model_id": "2b801564cef740828b6c7c42a514d1a5",
       "version_major": 2,
       "version_minor": 0
      },
      "text/plain": [
       "  0%|          | 0/512 [00:00<?, ?it/s]"
      ]
     },
     "metadata": {},
     "output_type": "display_data"
    },
    {
     "data": {
      "application/vnd.jupyter.widget-view+json": {
       "model_id": "1761b1f1968f4fa3a7f62973c4098523",
       "version_major": 2,
       "version_minor": 0
      },
      "text/plain": [
       "  0%|          | 0/512 [00:00<?, ?it/s]"
      ]
     },
     "metadata": {},
     "output_type": "display_data"
    },
    {
     "data": {
      "application/vnd.jupyter.widget-view+json": {
       "model_id": "19bde9c1086f4133abbe4209a81a7c07",
       "version_major": 2,
       "version_minor": 0
      },
      "text/plain": [
       "  0%|          | 0/512 [00:00<?, ?it/s]"
      ]
     },
     "metadata": {},
     "output_type": "display_data"
    },
    {
     "data": {
      "application/vnd.jupyter.widget-view+json": {
       "model_id": "98c328ca977847b6a017515563657c5e",
       "version_major": 2,
       "version_minor": 0
      },
      "text/plain": [
       "  0%|          | 0/512 [00:00<?, ?it/s]"
      ]
     },
     "metadata": {},
     "output_type": "display_data"
    },
    {
     "data": {
      "application/vnd.jupyter.widget-view+json": {
       "model_id": "55a1e6800b4d49b28a2a10ffcf61c7cb",
       "version_major": 2,
       "version_minor": 0
      },
      "text/plain": [
       "  0%|          | 0/512 [00:00<?, ?it/s]"
      ]
     },
     "metadata": {},
     "output_type": "display_data"
    },
    {
     "data": {
      "application/vnd.jupyter.widget-view+json": {
       "model_id": "9a8ea0ee7296474aa4a3c872c9195906",
       "version_major": 2,
       "version_minor": 0
      },
      "text/plain": [
       "  0%|          | 0/512 [00:00<?, ?it/s]"
      ]
     },
     "metadata": {},
     "output_type": "display_data"
    },
    {
     "data": {
      "application/vnd.jupyter.widget-view+json": {
       "model_id": "713c51e58a9842f680e24f4b8c0ed3e2",
       "version_major": 2,
       "version_minor": 0
      },
      "text/plain": [
       "  0%|          | 0/512 [00:00<?, ?it/s]"
      ]
     },
     "metadata": {},
     "output_type": "display_data"
    },
    {
     "data": {
      "application/vnd.jupyter.widget-view+json": {
       "model_id": "98ced291ac0a4c9db980de88e3a60052",
       "version_major": 2,
       "version_minor": 0
      },
      "text/plain": [
       "  0%|          | 0/512 [00:00<?, ?it/s]"
      ]
     },
     "metadata": {},
     "output_type": "display_data"
    },
    {
     "data": {
      "application/vnd.jupyter.widget-view+json": {
       "model_id": "d74c67acd7cb4e589a3a0c2c131e56e4",
       "version_major": 2,
       "version_minor": 0
      },
      "text/plain": [
       "  0%|          | 0/512 [00:00<?, ?it/s]"
      ]
     },
     "metadata": {},
     "output_type": "display_data"
    },
    {
     "data": {
      "application/vnd.jupyter.widget-view+json": {
       "model_id": "fcd50d883806450db2dd6423f2515898",
       "version_major": 2,
       "version_minor": 0
      },
      "text/plain": [
       "  0%|          | 0/512 [00:00<?, ?it/s]"
      ]
     },
     "metadata": {},
     "output_type": "display_data"
    },
    {
     "data": {
      "application/vnd.jupyter.widget-view+json": {
       "model_id": "bac9b4a14afb4abe948f27222d93f475",
       "version_major": 2,
       "version_minor": 0
      },
      "text/plain": [
       "  0%|          | 0/512 [00:00<?, ?it/s]"
      ]
     },
     "metadata": {},
     "output_type": "display_data"
    },
    {
     "data": {
      "application/vnd.jupyter.widget-view+json": {
       "model_id": "83fcb65fc5ac46788b2b7a10e5b2f93c",
       "version_major": 2,
       "version_minor": 0
      },
      "text/plain": [
       "  0%|          | 0/512 [00:00<?, ?it/s]"
      ]
     },
     "metadata": {},
     "output_type": "display_data"
    },
    {
     "data": {
      "application/vnd.jupyter.widget-view+json": {
       "model_id": "6e231e56299f4b0db7cb374ef6a9fe24",
       "version_major": 2,
       "version_minor": 0
      },
      "text/plain": [
       "  0%|          | 0/512 [00:00<?, ?it/s]"
      ]
     },
     "metadata": {},
     "output_type": "display_data"
    },
    {
     "data": {
      "application/vnd.jupyter.widget-view+json": {
       "model_id": "53194afa16ea46fdbf1762dc80d7b311",
       "version_major": 2,
       "version_minor": 0
      },
      "text/plain": [
       "  0%|          | 0/512 [00:00<?, ?it/s]"
      ]
     },
     "metadata": {},
     "output_type": "display_data"
    },
    {
     "data": {
      "application/vnd.jupyter.widget-view+json": {
       "model_id": "3e43bde8d11c499aa6a4bd359838fac5",
       "version_major": 2,
       "version_minor": 0
      },
      "text/plain": [
       "  0%|          | 0/512 [00:00<?, ?it/s]"
      ]
     },
     "metadata": {},
     "output_type": "display_data"
    },
    {
     "data": {
      "application/vnd.jupyter.widget-view+json": {
       "model_id": "1fc41813946b41da92945fae500ca478",
       "version_major": 2,
       "version_minor": 0
      },
      "text/plain": [
       "  0%|          | 0/512 [00:00<?, ?it/s]"
      ]
     },
     "metadata": {},
     "output_type": "display_data"
    },
    {
     "data": {
      "application/vnd.jupyter.widget-view+json": {
       "model_id": "176c57c2d1d24c59b65c850e47b40c2f",
       "version_major": 2,
       "version_minor": 0
      },
      "text/plain": [
       "  0%|          | 0/512 [00:00<?, ?it/s]"
      ]
     },
     "metadata": {},
     "output_type": "display_data"
    },
    {
     "data": {
      "application/vnd.jupyter.widget-view+json": {
       "model_id": "04424a5f8e7d4e97ae32ce3f8eec89d9",
       "version_major": 2,
       "version_minor": 0
      },
      "text/plain": [
       "  0%|          | 0/512 [00:00<?, ?it/s]"
      ]
     },
     "metadata": {},
     "output_type": "display_data"
    },
    {
     "data": {
      "application/vnd.jupyter.widget-view+json": {
       "model_id": "03f41af225f642e88c00d805d8bcef20",
       "version_major": 2,
       "version_minor": 0
      },
      "text/plain": [
       "  0%|          | 0/512 [00:00<?, ?it/s]"
      ]
     },
     "metadata": {},
     "output_type": "display_data"
    },
    {
     "data": {
      "application/vnd.jupyter.widget-view+json": {
       "model_id": "a9c200264c294211b0435fad26c474fe",
       "version_major": 2,
       "version_minor": 0
      },
      "text/plain": [
       "  0%|          | 0/512 [00:00<?, ?it/s]"
      ]
     },
     "metadata": {},
     "output_type": "display_data"
    },
    {
     "name": "stdout",
     "output_type": "stream",
     "text": [
      "saved model at ./outputs/model_state-N25600\n"
     ]
    }
   ],
   "source": [
    "if __name__ == \"__main__\":\n",
    "    # args = (config, nn_model, ddpm, optimizer, dataloader, lr_scheduler)\n",
    "    config = TrainConfig()\n",
    "    for i, num_image in enumerate(num_image_list):\n",
    "        config.num_image = num_image\n",
    "        ddpm21cm = DDPM21CM(config)\n",
    "        print(f\" num_image = {ddpm21cm.config.num_image} \".center(50, '-'))\n",
    "        print(f\"run_name = {ddpm21cm.config.run_name}\")\n",
    "        notebook_launcher(ddpm21cm.train, num_processes=1)"
   ]
  },
  {
   "cell_type": "code",
   "execution_count": 8,
   "metadata": {},
   "outputs": [
    {
     "name": "stdout",
     "output_type": "stream",
     "text": [
      "total 4.4G\n",
      "-rw-r--r--  1 bxia34  13M Jul  2 21:45 Tvir4.800000190734863-zeta131.34100341796875-N1600.npy\n",
      "-rw-r--r--  1 bxia34  13M Jul  2 21:26 Tvir5.4770002365112305-zeta200.0-N1600.npy\n",
      "-rw-r--r--  1 bxia34  13M Jul  2 21:08 Tvir4.698999881744385-zeta30.0-N1600.npy\n",
      "-rw-r--r--  1 bxia34  13M Jul  2 20:49 Tvir5.599999904632568-zeta19.03700065612793-N1600.npy\n",
      "-rw-r--r--  1 bxia34  13M Jul  2 20:31 Tvir4.400000095367432-zeta131.34100341796875-N1600.npy\n",
      "-rw-r--r--  1 bxia34 848M Jul  2 20:13 model_state-N25600\n",
      "drwxr-xr-x 15 bxia34 4.0K Jul  2 19:09 \u001b[0m\u001b[01;34mlogs\u001b[0m/\n",
      "-rw-r--r--  1 bxia34 848M Jul  2 18:45 model_state-N12800\n",
      "-rw-r--r--  1 bxia34 848M Jul  2 18:01 model_state-N6400\n",
      "-rw-r--r--  1 bxia34 848M Jul  2 17:37 model_state-N3200\n",
      "-rw-r--r--  1 bxia34 848M Jul  2 17:25 model_state-N1600\n",
      "-rw-r--r--  1 bxia34 3.1M Jul  1 12:31 Tvir4.800000190734863-zeta131.34100341796875-N2000.npy\n",
      "-rw-r--r--  1 bxia34 3.1M Jul  1 12:12 Tvir5.4770002365112305-zeta200.0-N2000.npy\n",
      "-rw-r--r--  1 bxia34 3.1M Jul  1 11:54 Tvir4.698999881744385-zeta30.0-N2000.npy\n",
      "-rw-r--r--  1 bxia34 3.1M Jul  1 11:35 Tvir5.599999904632568-zeta19.03700065612793-N2000.npy\n",
      "-rw-r--r--  1 bxia34 3.1M Jul  1 11:17 Tvir4.400000095367432-zeta131.34100341796875-N2000.npy\n",
      "-rw-r--r--  1 bxia34 3.1M Jul  1 10:37 Tvir4.800000190734863-zeta131.34100341796875-N32000.npy\n",
      "-rw-r--r--  1 bxia34 3.1M Jul  1 04:47 Tvir5.4770002365112305-zeta200.0-N32000.npy\n",
      "-rw-r--r--  1 bxia34 3.1M Jul  1 04:29 Tvir4.698999881744385-zeta30.0-N32000.npy\n",
      "-rw-r--r--  1 bxia34 3.1M Jul  1 04:11 Tvir5.599999904632568-zeta19.03700065612793-N32000.npy\n",
      "-rw-r--r--  1 bxia34 3.1M Jul  1 03:53 Tvir4.400000095367432-zeta131.34100341796875-N32000.npy\n",
      "-rw-r--r--  1 bxia34 3.1M Jul  1 00:23 Tvir4.800000190734863-zeta131.34100341796875-N20000.npy\n",
      "-rw-r--r--  1 bxia34 3.1M Jul  1 00:05 Tvir5.4770002365112305-zeta200.0-N20000.npy\n",
      "-rw-r--r--  1 bxia34 3.1M Jun 30 23:47 Tvir4.698999881744385-zeta30.0-N20000.npy\n",
      "-rw-r--r--  1 bxia34 3.1M Jun 30 23:29 Tvir5.599999904632568-zeta19.03700065612793-N20000.npy\n",
      "-rw-r--r--  1 bxia34 3.1M Jun 30 23:11 Tvir4.400000095367432-zeta131.34100341796875-N20000.npy\n",
      "-rw-r--r--  1 bxia34 3.1M Jun 30 20:08 Tvir4.800000190734863-zeta131.34100341796875-N15000.npy\n",
      "-rw-r--r--  1 bxia34 3.1M Jun 30 19:50 Tvir5.4770002365112305-zeta200.0-N15000.npy\n",
      "-rw-r--r--  1 bxia34 3.1M Jun 30 19:32 Tvir4.698999881744385-zeta30.0-N15000.npy\n",
      "-rw-r--r--  1 bxia34 3.1M Jun 30 19:14 Tvir5.599999904632568-zeta19.03700065612793-N15000.npy\n",
      "-rw-r--r--  1 bxia34 3.1M Jun 30 18:57 Tvir4.400000095367432-zeta131.34100341796875-N15000.npy\n",
      "-rw-r--r--  1 bxia34 3.1M Jun 29 12:41 Tvir4.800000190734863-zeta131.34100341796875-N7000.npy\n",
      "-rw-r--r--  1 bxia34 3.1M Jun 29 12:23 Tvir5.4770002365112305-zeta200.0-N7000.npy\n",
      "-rw-r--r--  1 bxia34 3.1M Jun 29 12:06 Tvir4.698999881744385-zeta30.0-N7000.npy\n",
      "-rw-r--r--  1 bxia34 3.1M Jun 29 11:48 Tvir5.599999904632568-zeta19.03700065612793-N7000.npy\n",
      "-rw-r--r--  1 bxia34 3.1M Jun 29 11:30 Tvir4.400000095367432-zeta131.34100341796875-N7000.npy\n",
      "-rw-r--r--  1 bxia34 3.1M Jun 29 04:56 Tvir4.800000190734863-zeta131.34100341796875-N25600.npy\n",
      "-rw-r--r--  1 bxia34 3.1M Jun 29 04:38 Tvir5.4770002365112305-zeta200.0-N25600.npy\n",
      "-rw-r--r--  1 bxia34 3.1M Jun 29 04:21 Tvir4.698999881744385-zeta30.0-N25600.npy\n",
      "-rw-r--r--  1 bxia34 3.1M Jun 29 04:03 Tvir5.599999904632568-zeta19.03700065612793-N25600.npy\n",
      "-rw-r--r--  1 bxia34 3.1M Jun 29 03:45 Tvir4.400000095367432-zeta131.34100341796875-N25600.npy\n",
      "-rw-r--r--  1 bxia34 3.1M Jun 29 00:35 Tvir4.800000190734863-zeta131.34100341796875-N3000.npy\n",
      "-rw-r--r--  1 bxia34 3.1M Jun 29 00:17 Tvir5.4770002365112305-zeta200.0-N3000.npy\n",
      "-rw-r--r--  1 bxia34 3.1M Jun 28 23:59 Tvir4.698999881744385-zeta30.0-N3000.npy\n",
      "-rw-r--r--  1 bxia34 3.1M Jun 28 23:42 Tvir5.599999904632568-zeta19.03700065612793-N3000.npy\n",
      "-rw-r--r--  1 bxia34 3.1M Jun 28 23:20 Tvir4.400000095367432-zeta131.34100341796875-N3000.npy\n",
      "-rw-r--r--  1 bxia34 3.1M Jun 28 21:06 Tvir4.800000190734863-zeta131.34100341796875-N10000.npy\n",
      "-rw-r--r--  1 bxia34 3.1M Jun 28 20:49 Tvir5.4770002365112305-zeta200.0-N10000.npy\n",
      "-rw-r--r--  1 bxia34 3.1M Jun 28 20:31 Tvir4.698999881744385-zeta30.0-N10000.npy\n",
      "-rw-r--r--  1 bxia34 3.1M Jun 28 20:13 Tvir5.599999904632568-zeta19.03700065612793-N10000.npy\n",
      "-rw-r--r--  1 bxia34 3.1M Jun 28 19:56 Tvir4.400000095367432-zeta131.34100341796875-N10000.npy\n",
      "-rw-r--r--  1 bxia34 3.1M Jun 28 18:30 Tvir4.800000190734863-zeta131.34100341796875-N1000.npy\n",
      "-rw-r--r--  1 bxia34 3.1M Jun 28 18:13 Tvir5.4770002365112305-zeta200.0-N1000.npy\n",
      "-rw-r--r--  1 bxia34 3.1M Jun 28 17:55 Tvir4.698999881744385-zeta30.0-N1000.npy\n",
      "-rw-r--r--  1 bxia34 3.1M Jun 28 17:37 Tvir5.599999904632568-zeta19.03700065612793-N1000.npy\n",
      "-rw-r--r--  1 bxia34 3.1M Jun 28 17:20 Tvir4.400000095367432-zeta131.34100341796875-N1000.npy\n",
      "-rw-r--r--  1 bxia34 3.1M Jun 28 14:03 Tvir4.400000095367432-zeta131.34100341796875-N5000.npy\n",
      "-rw-r--r--  1 bxia34 3.1M Jun 10 18:58 Tvir4.800000190734863-zeta131.34100341796875-N5000.npy\n",
      "-rw-r--r--  1 bxia34 3.1M Jun 10 18:40 Tvir5.4770002365112305-zeta200.0-N5000.npy\n",
      "-rw-r--r--  1 bxia34 3.1M Jun 10 18:22 Tvir4.698999881744385-zeta30.0-N5000.npy\n",
      "-rw-r--r--  1 bxia34 3.1M Jun 10 18:05 Tvir5.599999904632568-zeta19.03700065612793-N5000.npy\n"
     ]
    }
   ],
   "source": [
    "ll -lth outputs"
   ]
  },
  {
   "cell_type": "code",
   "execution_count": 9,
   "metadata": {},
   "outputs": [
    {
     "name": "stdout",
     "output_type": "stream",
     "text": [
      "Number of parameters for nn_model: 111048705\n",
      "sampling 800 images with normalized params = tensor([[0.2000, 0.5056]])\n",
      "nn_model resumed from ./outputs/model_state-N3200\n"
     ]
    },
    {
     "data": {
      "application/vnd.jupyter.widget-view+json": {
       "model_id": "2d3427d677774c9785ee081b3b3b5542",
       "version_major": 2,
       "version_minor": 0
      },
      "text/plain": [
       "  0%|          | 0/1000 [00:00<?, ?it/s]"
      ]
     },
     "metadata": {},
     "output_type": "display_data"
    },
    {
     "name": "stdout",
     "output_type": "stream",
     "text": [
      "sampling 800 images with normalized params = tensor([[0.8000, 0.0377]])\n",
      "nn_model resumed from ./outputs/model_state-N3200\n"
     ]
    },
    {
     "data": {
      "application/vnd.jupyter.widget-view+json": {
       "model_id": "8f30542543bf4d96ac6284da1d3e2d91",
       "version_major": 2,
       "version_minor": 0
      },
      "text/plain": [
       "  0%|          | 0/1000 [00:00<?, ?it/s]"
      ]
     },
     "metadata": {},
     "output_type": "display_data"
    },
    {
     "name": "stdout",
     "output_type": "stream",
     "text": [
      "sampling 800 images with normalized params = tensor([[0.3495, 0.0833]])\n",
      "nn_model resumed from ./outputs/model_state-N3200\n"
     ]
    },
    {
     "data": {
      "application/vnd.jupyter.widget-view+json": {
       "model_id": "8b55d00d4ec74b1995fabcb27152a20c",
       "version_major": 2,
       "version_minor": 0
      },
      "text/plain": [
       "  0%|          | 0/1000 [00:00<?, ?it/s]"
      ]
     },
     "metadata": {},
     "output_type": "display_data"
    },
    {
     "name": "stdout",
     "output_type": "stream",
     "text": [
      "sampling 800 images with normalized params = tensor([[0.7385, 0.7917]])\n",
      "nn_model resumed from ./outputs/model_state-N3200\n"
     ]
    },
    {
     "data": {
      "application/vnd.jupyter.widget-view+json": {
       "model_id": "3fbfb9641b7c4709ab24f843b9ef9a41",
       "version_major": 2,
       "version_minor": 0
      },
      "text/plain": [
       "  0%|          | 0/1000 [00:00<?, ?it/s]"
      ]
     },
     "metadata": {},
     "output_type": "display_data"
    },
    {
     "name": "stdout",
     "output_type": "stream",
     "text": [
      "sampling 800 images with normalized params = tensor([[0.4000, 0.5056]])\n",
      "nn_model resumed from ./outputs/model_state-N3200\n"
     ]
    },
    {
     "data": {
      "application/vnd.jupyter.widget-view+json": {
       "model_id": "f146207ea2af4e2fbbe19a7255fe13bd",
       "version_major": 2,
       "version_minor": 0
      },
      "text/plain": [
       "  0%|          | 0/1000 [00:00<?, ?it/s]"
      ]
     },
     "metadata": {},
     "output_type": "display_data"
    },
    {
     "name": "stdout",
     "output_type": "stream",
     "text": [
      "Number of parameters for nn_model: 111048705\n",
      "sampling 800 images with normalized params = tensor([[0.2000, 0.5056]])\n",
      "nn_model resumed from ./outputs/model_state-N6400\n"
     ]
    },
    {
     "data": {
      "application/vnd.jupyter.widget-view+json": {
       "model_id": "932fde5fc32e46719e809370a0145171",
       "version_major": 2,
       "version_minor": 0
      },
      "text/plain": [
       "  0%|          | 0/1000 [00:00<?, ?it/s]"
      ]
     },
     "metadata": {},
     "output_type": "display_data"
    },
    {
     "name": "stdout",
     "output_type": "stream",
     "text": [
      "sampling 800 images with normalized params = tensor([[0.8000, 0.0377]])\n",
      "nn_model resumed from ./outputs/model_state-N6400\n"
     ]
    },
    {
     "data": {
      "application/vnd.jupyter.widget-view+json": {
       "model_id": "ad63275c7ba7499aa34c7b7a1d600b01",
       "version_major": 2,
       "version_minor": 0
      },
      "text/plain": [
       "  0%|          | 0/1000 [00:00<?, ?it/s]"
      ]
     },
     "metadata": {},
     "output_type": "display_data"
    },
    {
     "name": "stdout",
     "output_type": "stream",
     "text": [
      "sampling 800 images with normalized params = tensor([[0.3495, 0.0833]])\n",
      "nn_model resumed from ./outputs/model_state-N6400\n"
     ]
    },
    {
     "data": {
      "application/vnd.jupyter.widget-view+json": {
       "model_id": "b92c97678a144c7db39e7504d9b51fdd",
       "version_major": 2,
       "version_minor": 0
      },
      "text/plain": [
       "  0%|          | 0/1000 [00:00<?, ?it/s]"
      ]
     },
     "metadata": {},
     "output_type": "display_data"
    },
    {
     "name": "stdout",
     "output_type": "stream",
     "text": [
      "sampling 800 images with normalized params = tensor([[0.7385, 0.7917]])\n",
      "nn_model resumed from ./outputs/model_state-N6400\n"
     ]
    },
    {
     "data": {
      "application/vnd.jupyter.widget-view+json": {
       "model_id": "ce95c55a33e94da39ad4761af0bca5da",
       "version_major": 2,
       "version_minor": 0
      },
      "text/plain": [
       "  0%|          | 0/1000 [00:00<?, ?it/s]"
      ]
     },
     "metadata": {},
     "output_type": "display_data"
    },
    {
     "name": "stdout",
     "output_type": "stream",
     "text": [
      "sampling 800 images with normalized params = tensor([[0.4000, 0.5056]])\n",
      "nn_model resumed from ./outputs/model_state-N6400\n"
     ]
    },
    {
     "data": {
      "application/vnd.jupyter.widget-view+json": {
       "model_id": "c7d30d6d4e9c46d6930da9b6d10e53c1",
       "version_major": 2,
       "version_minor": 0
      },
      "text/plain": [
       "  0%|          | 0/1000 [00:00<?, ?it/s]"
      ]
     },
     "metadata": {},
     "output_type": "display_data"
    },
    {
     "name": "stdout",
     "output_type": "stream",
     "text": [
      "Number of parameters for nn_model: 111048705\n",
      "sampling 800 images with normalized params = tensor([[0.2000, 0.5056]])\n",
      "nn_model resumed from ./outputs/model_state-N12800\n"
     ]
    },
    {
     "data": {
      "application/vnd.jupyter.widget-view+json": {
       "model_id": "205b299c574343fca3f0f7bcce9c0fda",
       "version_major": 2,
       "version_minor": 0
      },
      "text/plain": [
       "  0%|          | 0/1000 [00:00<?, ?it/s]"
      ]
     },
     "metadata": {},
     "output_type": "display_data"
    },
    {
     "name": "stdout",
     "output_type": "stream",
     "text": [
      "sampling 800 images with normalized params = tensor([[0.8000, 0.0377]])\n",
      "nn_model resumed from ./outputs/model_state-N12800\n"
     ]
    },
    {
     "data": {
      "application/vnd.jupyter.widget-view+json": {
       "model_id": "8e2fea1d73a54d87984bc430584ed7ee",
       "version_major": 2,
       "version_minor": 0
      },
      "text/plain": [
       "  0%|          | 0/1000 [00:00<?, ?it/s]"
      ]
     },
     "metadata": {},
     "output_type": "display_data"
    },
    {
     "name": "stdout",
     "output_type": "stream",
     "text": [
      "sampling 800 images with normalized params = tensor([[0.3495, 0.0833]])\n",
      "nn_model resumed from ./outputs/model_state-N12800\n"
     ]
    },
    {
     "data": {
      "application/vnd.jupyter.widget-view+json": {
       "model_id": "8a4762d957a04a81b6283e303a0c1aa3",
       "version_major": 2,
       "version_minor": 0
      },
      "text/plain": [
       "  0%|          | 0/1000 [00:00<?, ?it/s]"
      ]
     },
     "metadata": {},
     "output_type": "display_data"
    },
    {
     "name": "stdout",
     "output_type": "stream",
     "text": [
      "sampling 800 images with normalized params = tensor([[0.7385, 0.7917]])\n",
      "nn_model resumed from ./outputs/model_state-N12800\n"
     ]
    },
    {
     "data": {
      "application/vnd.jupyter.widget-view+json": {
       "model_id": "67dabb9f208d4977bdb8180afc4eec20",
       "version_major": 2,
       "version_minor": 0
      },
      "text/plain": [
       "  0%|          | 0/1000 [00:00<?, ?it/s]"
      ]
     },
     "metadata": {},
     "output_type": "display_data"
    },
    {
     "name": "stdout",
     "output_type": "stream",
     "text": [
      "sampling 800 images with normalized params = tensor([[0.4000, 0.5056]])\n",
      "nn_model resumed from ./outputs/model_state-N12800\n"
     ]
    },
    {
     "data": {
      "application/vnd.jupyter.widget-view+json": {
       "model_id": "950ba8b752444e1e9a2d817968f5c3a3",
       "version_major": 2,
       "version_minor": 0
      },
      "text/plain": [
       "  0%|          | 0/1000 [00:00<?, ?it/s]"
      ]
     },
     "metadata": {},
     "output_type": "display_data"
    },
    {
     "name": "stdout",
     "output_type": "stream",
     "text": [
      "Number of parameters for nn_model: 111048705\n",
      "sampling 800 images with normalized params = tensor([[0.2000, 0.5056]])\n",
      "nn_model resumed from ./outputs/model_state-N25600\n"
     ]
    },
    {
     "data": {
      "application/vnd.jupyter.widget-view+json": {
       "model_id": "fd753c01957447398ec61ff383616825",
       "version_major": 2,
       "version_minor": 0
      },
      "text/plain": [
       "  0%|          | 0/1000 [00:00<?, ?it/s]"
      ]
     },
     "metadata": {},
     "output_type": "display_data"
    },
    {
     "name": "stdout",
     "output_type": "stream",
     "text": [
      "sampling 800 images with normalized params = tensor([[0.8000, 0.0377]])\n",
      "nn_model resumed from ./outputs/model_state-N25600\n"
     ]
    },
    {
     "data": {
      "application/vnd.jupyter.widget-view+json": {
       "model_id": "a328cf05873a4370a645270ea917233d",
       "version_major": 2,
       "version_minor": 0
      },
      "text/plain": [
       "  0%|          | 0/1000 [00:00<?, ?it/s]"
      ]
     },
     "metadata": {},
     "output_type": "display_data"
    },
    {
     "name": "stdout",
     "output_type": "stream",
     "text": [
      "sampling 800 images with normalized params = tensor([[0.3495, 0.0833]])\n",
      "nn_model resumed from ./outputs/model_state-N25600\n"
     ]
    },
    {
     "data": {
      "application/vnd.jupyter.widget-view+json": {
       "model_id": "3838c0ba114c406caa3e39668feaea38",
       "version_major": 2,
       "version_minor": 0
      },
      "text/plain": [
       "  0%|          | 0/1000 [00:00<?, ?it/s]"
      ]
     },
     "metadata": {},
     "output_type": "display_data"
    },
    {
     "name": "stdout",
     "output_type": "stream",
     "text": [
      "sampling 800 images with normalized params = tensor([[0.7385, 0.7917]])\n",
      "nn_model resumed from ./outputs/model_state-N25600\n"
     ]
    },
    {
     "data": {
      "application/vnd.jupyter.widget-view+json": {
       "model_id": "a668e8fd474e4d659a8960e35598fb5f",
       "version_major": 2,
       "version_minor": 0
      },
      "text/plain": [
       "  0%|          | 0/1000 [00:00<?, ?it/s]"
      ]
     },
     "metadata": {},
     "output_type": "display_data"
    },
    {
     "name": "stdout",
     "output_type": "stream",
     "text": [
      "sampling 800 images with normalized params = tensor([[0.4000, 0.5056]])\n",
      "nn_model resumed from ./outputs/model_state-N25600\n"
     ]
    },
    {
     "data": {
      "application/vnd.jupyter.widget-view+json": {
       "model_id": "028b3cc2a3214999b6a76700579c4263",
       "version_major": 2,
       "version_minor": 0
      },
      "text/plain": [
       "  0%|          | 0/1000 [00:00<?, ?it/s]"
      ]
     },
     "metadata": {},
     "output_type": "display_data"
    }
   ],
   "source": [
    "if __name__ == \"__main__\":\n",
    "    num_image_list = [1600,3200,6400,12800,25600]\n",
    "    # num_image_list = [3200,6400,12800,25600]\n",
    "    # args = (config, nn_model, ddpm, optimizer, dataloader, lr_scheduler)\n",
    "    repeat = 800\n",
    "    config = TrainConfig()\n",
    "    for i, num_image in enumerate(num_image_list):\n",
    "        config.num_image = num_image\n",
    "        ddpm21cm = DDPM21CM(config)\n",
    "\n",
    "        ddpm21cm.sample(f\"./outputs/model_state-N{num_image}\", params=torch.tensor([4.4, 131.341]), repeat=repeat)\n",
    "\n",
    "        ddpm21cm.sample(f\"./outputs/model_state-N{num_image}\", params=torch.tensor((5.6, 19.037)), repeat=repeat)\n",
    "\n",
    "        ddpm21cm.sample(f\"./outputs/model_state-N{num_image}\", params=torch.tensor((4.699, 30)), repeat=repeat)\n",
    "\n",
    "        ddpm21cm.sample(f\"./outputs/model_state-N{num_image}\", params=torch.tensor((5.477, 200)), repeat=repeat)\n",
    "\n",
    "        ddpm21cm.sample(f\"./outputs/model_state-N{num_image}\", params=torch.tensor((4.8, 131.341)), repeat=repeat)"
   ]
  },
  {
   "cell_type": "code",
   "execution_count": null,
   "metadata": {},
   "outputs": [
    {
     "name": "stdout",
     "output_type": "stream",
     "text": [
      "total 995M\n",
      "-rw-r--r--  1 bxia34 pace-jw254 3.1M Jul  1 12:31 Tvir4.800000190734863-zeta131.34100341796875-N2000.npy\n",
      "-rw-r--r--  1 bxia34 pace-jw254 3.1M Jul  1 12:12 Tvir5.4770002365112305-zeta200.0-N2000.npy\n",
      "-rw-r--r--  1 bxia34 pace-jw254 3.1M Jul  1 11:54 Tvir4.698999881744385-zeta30.0-N2000.npy\n",
      "-rw-r--r--  1 bxia34 pace-jw254 3.1M Jul  1 11:35 Tvir5.599999904632568-zeta19.03700065612793-N2000.npy\n",
      "-rw-r--r--  1 bxia34 pace-jw254 3.1M Jul  1 11:17 Tvir4.400000095367432-zeta131.34100341796875-N2000.npy\n",
      "-rw-r--r--  1 bxia34 pace-jw254 848M Jul  1 10:59 model_state.pth\n",
      "drwxr-xr-x 12 bxia34 pace-jw254 4.0K Jul  1 10:50 \u001b[0m\u001b[01;34mlogs\u001b[0m/\n",
      "-rw-r--r--  1 bxia34 pace-jw254 3.1M Jul  1 10:37 Tvir4.800000190734863-zeta131.34100341796875-N32000.npy\n",
      "-rw-r--r--  1 bxia34 pace-jw254 3.1M Jul  1 04:47 Tvir5.4770002365112305-zeta200.0-N32000.npy\n",
      "-rw-r--r--  1 bxia34 pace-jw254 3.1M Jul  1 04:29 Tvir4.698999881744385-zeta30.0-N32000.npy\n",
      "-rw-r--r--  1 bxia34 pace-jw254 3.1M Jul  1 04:11 Tvir5.599999904632568-zeta19.03700065612793-N32000.npy\n",
      "-rw-r--r--  1 bxia34 pace-jw254 3.1M Jul  1 03:53 Tvir4.400000095367432-zeta131.34100341796875-N32000.npy\n",
      "-rw-r--r--  1 bxia34 pace-jw254 3.1M Jul  1 00:23 Tvir4.800000190734863-zeta131.34100341796875-N20000.npy\n",
      "-rw-r--r--  1 bxia34 pace-jw254 3.1M Jul  1 00:05 Tvir5.4770002365112305-zeta200.0-N20000.npy\n",
      "-rw-r--r--  1 bxia34 pace-jw254 3.1M Jun 30 23:47 Tvir4.698999881744385-zeta30.0-N20000.npy\n",
      "-rw-r--r--  1 bxia34 pace-jw254 3.1M Jun 30 23:29 Tvir5.599999904632568-zeta19.03700065612793-N20000.npy\n",
      "-rw-r--r--  1 bxia34 pace-jw254 3.1M Jun 30 23:11 Tvir4.400000095367432-zeta131.34100341796875-N20000.npy\n",
      "-rw-r--r--  1 bxia34 pace-jw254 3.1M Jun 30 20:08 Tvir4.800000190734863-zeta131.34100341796875-N15000.npy\n",
      "-rw-r--r--  1 bxia34 pace-jw254 3.1M Jun 30 19:50 Tvir5.4770002365112305-zeta200.0-N15000.npy\n",
      "-rw-r--r--  1 bxia34 pace-jw254 3.1M Jun 30 19:32 Tvir4.698999881744385-zeta30.0-N15000.npy\n",
      "-rw-r--r--  1 bxia34 pace-jw254 3.1M Jun 30 19:14 Tvir5.599999904632568-zeta19.03700065612793-N15000.npy\n",
      "-rw-r--r--  1 bxia34 pace-jw254 3.1M Jun 30 18:57 Tvir4.400000095367432-zeta131.34100341796875-N15000.npy\n",
      "-rw-r--r--  1 bxia34 pace-jw254 3.1M Jun 29 12:41 Tvir4.800000190734863-zeta131.34100341796875-N7000.npy\n",
      "-rw-r--r--  1 bxia34 pace-jw254 3.1M Jun 29 12:23 Tvir5.4770002365112305-zeta200.0-N7000.npy\n",
      "-rw-r--r--  1 bxia34 pace-jw254 3.1M Jun 29 12:06 Tvir4.698999881744385-zeta30.0-N7000.npy\n",
      "-rw-r--r--  1 bxia34 pace-jw254 3.1M Jun 29 11:48 Tvir5.599999904632568-zeta19.03700065612793-N7000.npy\n",
      "-rw-r--r--  1 bxia34 pace-jw254 3.1M Jun 29 11:30 Tvir4.400000095367432-zeta131.34100341796875-N7000.npy\n",
      "-rw-r--r--  1 bxia34 pace-jw254 3.1M Jun 29 04:56 Tvir4.800000190734863-zeta131.34100341796875-N25600.npy\n",
      "-rw-r--r--  1 bxia34 pace-jw254 3.1M Jun 29 04:38 Tvir5.4770002365112305-zeta200.0-N25600.npy\n",
      "-rw-r--r--  1 bxia34 pace-jw254 3.1M Jun 29 04:21 Tvir4.698999881744385-zeta30.0-N25600.npy\n",
      "-rw-r--r--  1 bxia34 pace-jw254 3.1M Jun 29 04:03 Tvir5.599999904632568-zeta19.03700065612793-N25600.npy\n",
      "-rw-r--r--  1 bxia34 pace-jw254 3.1M Jun 29 03:45 Tvir4.400000095367432-zeta131.34100341796875-N25600.npy\n",
      "-rw-r--r--  1 bxia34 pace-jw254 3.1M Jun 29 00:35 Tvir4.800000190734863-zeta131.34100341796875-N3000.npy\n",
      "-rw-r--r--  1 bxia34 pace-jw254 3.1M Jun 29 00:17 Tvir5.4770002365112305-zeta200.0-N3000.npy\n",
      "-rw-r--r--  1 bxia34 pace-jw254 3.1M Jun 28 23:59 Tvir4.698999881744385-zeta30.0-N3000.npy\n",
      "-rw-r--r--  1 bxia34 pace-jw254 3.1M Jun 28 23:42 Tvir5.599999904632568-zeta19.03700065612793-N3000.npy\n",
      "-rw-r--r--  1 bxia34 pace-jw254 3.1M Jun 28 23:20 Tvir4.400000095367432-zeta131.34100341796875-N3000.npy\n",
      "-rw-r--r--  1 bxia34 pace-jw254 3.1M Jun 28 21:06 Tvir4.800000190734863-zeta131.34100341796875-N10000.npy\n",
      "-rw-r--r--  1 bxia34 pace-jw254 3.1M Jun 28 20:49 Tvir5.4770002365112305-zeta200.0-N10000.npy\n",
      "-rw-r--r--  1 bxia34 pace-jw254 3.1M Jun 28 20:31 Tvir4.698999881744385-zeta30.0-N10000.npy\n",
      "-rw-r--r--  1 bxia34 pace-jw254 3.1M Jun 28 20:13 Tvir5.599999904632568-zeta19.03700065612793-N10000.npy\n",
      "-rw-r--r--  1 bxia34 pace-jw254 3.1M Jun 28 19:56 Tvir4.400000095367432-zeta131.34100341796875-N10000.npy\n",
      "-rw-r--r--  1 bxia34 pace-jw254 3.1M Jun 28 18:30 Tvir4.800000190734863-zeta131.34100341796875-N1000.npy\n",
      "-rw-r--r--  1 bxia34 pace-jw254 3.1M Jun 28 18:13 Tvir5.4770002365112305-zeta200.0-N1000.npy\n",
      "-rw-r--r--  1 bxia34 pace-jw254 3.1M Jun 28 17:55 Tvir4.698999881744385-zeta30.0-N1000.npy\n",
      "-rw-r--r--  1 bxia34 pace-jw254 3.1M Jun 28 17:37 Tvir5.599999904632568-zeta19.03700065612793-N1000.npy\n",
      "-rw-r--r--  1 bxia34 pace-jw254 3.1M Jun 28 17:20 Tvir4.400000095367432-zeta131.34100341796875-N1000.npy\n",
      "-rw-r--r--  1 bxia34 pace-jw254 3.1M Jun 28 14:03 Tvir4.400000095367432-zeta131.34100341796875-N5000.npy\n",
      "-rw-r--r--  1 bxia34 pace-jw254 3.1M Jun 10 18:58 Tvir4.800000190734863-zeta131.34100341796875-N5000.npy\n",
      "-rw-r--r--  1 bxia34 pace-jw254 3.1M Jun 10 18:40 Tvir5.4770002365112305-zeta200.0-N5000.npy\n",
      "-rw-r--r--  1 bxia34 pace-jw254 3.1M Jun 10 18:22 Tvir4.698999881744385-zeta30.0-N5000.npy\n",
      "-rw-r--r--  1 bxia34 pace-jw254 3.1M Jun 10 18:05 Tvir5.599999904632568-zeta19.03700065612793-N5000.npy\n"
     ]
    }
   ],
   "source": [
    "ls -lth outputs"
   ]
  },
  {
   "cell_type": "code",
   "execution_count": null,
   "metadata": {},
   "outputs": [],
   "source": [
    "# config = TrainConfig()\n",
    "# def plot(filename, row=4, col=6):\n",
    "#     samples = np.load(filename)\n",
    "#     params = filename.split('guide_w')[-1][:-4]\n",
    "#     print(\"plotting\", samples.shape, params)\n",
    "#     plt.figure(figsize = (8,8))\n",
    "#     for i in range(24):\n",
    "#         plt.subplot(row,col,i+1)\n",
    "#         plt.imshow(samples[i,0,:,:], cmap='gray')#, vmin=-1, vmax=1)\n",
    "#         plt.xticks([])\n",
    "#         plt.yticks([])\n",
    "#         # plt.show()\n",
    "#     plt.suptitle(params)\n",
    "#     plt.tight_layout()\n",
    "#     plt.subplots_adjust(wspace=0, hspace=0) \n",
    "#     plt.show()\n",
    "#     # plt.savefig('outputs/'+params+'.png')\n",
    "#     # plt.close()\n",
    "#     # plt.imshow(images[0,0])\n",
    "#     # plt.show()"
   ]
  },
  {
   "cell_type": "code",
   "execution_count": null,
   "metadata": {},
   "outputs": [],
   "source": [
    "# plot(\"outputs/0528-1433.npy\")\n",
    "# plot(\"outputs/0520-2323.npy\")\n",
    "# plot(\"outputs/0604-2353.npy\")"
   ]
  },
  {
   "cell_type": "code",
   "execution_count": null,
   "metadata": {},
   "outputs": [],
   "source": [
    "# x = np.load(\"outputs/0528-1433.npy\")\n",
    "# print(x.shape)"
   ]
  },
  {
   "cell_type": "code",
   "execution_count": null,
   "metadata": {},
   "outputs": [],
   "source": []
  }
 ],
 "metadata": {
  "kernelspec": {
   "display_name": "base",
   "language": "python",
   "name": "python3"
  },
  "language_info": {
   "codemirror_mode": {
    "name": "ipython",
    "version": 3
   },
   "file_extension": ".py",
   "mimetype": "text/x-python",
   "name": "python",
   "nbconvert_exporter": "python",
   "pygments_lexer": "ipython3",
   "version": "3.9.19"
  },
  "orig_nbformat": 4
 },
 "nbformat": 4,
 "nbformat_minor": 2
}
