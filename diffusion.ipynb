{
 "cells": [
  {
   "attachments": {},
   "cell_type": "markdown",
   "metadata": {},
   "source": [
    "## 改編ContextUnet及相關代碼，使其首先對二維的情況適用。並於diffusers.Unet2DModel作比較並加以優化。最後再改寫爲3維的情形。\n",
    "- 經試用diffusers的Unet2DModel，發現loss從0.3降到0.2但仍然很高，説明存在非Unet2DModel的問題可以優化\n",
    "- 改用diffusers的DDMPScheduler和DDPMPipeline后，loss降低至0.1以下，有時甚至可以低至0.004，可見我的代碼問題主要出在DDPM部分。DDPMScheduler部分比較簡短，似乎沒有問題，所以問題應該在DDPMPipeline裏某一部分代碼是我代碼欠缺的。\n",
    "- 我在DDPMScheduler部分有一個typo，導致beta_t一直很小，修正后loss從0.2能降低至0.02, 維持在0.1以下\n",
    "- 用diffusers的DDPMScheduler似乎效果要好一些，loss總是比我的DDPMScheduler要小一點。儅epoch為19時，前者的loss約0.02，後者loss約0.07。而且前者還支持3維圖像的加噪，不如直接用別人的輪子。但我想知道爲什麽我的loss會高一些。\n",
    "- 我意識到別人的DDPMScheduler在sample函數中沒有兼容輸入參數，所以歸根結底還是需要我的DDPMscheduler。不過我可以先用別人的來debug我的ContextUnet.\n",
    "- 我需要將我的ContextUnet擴展兼容不同維度的照片，畢竟我本身也需要和原文獻對比完了再拓展到三維的情形\n",
    "- 我已將我的ContextUnet轉成了2維的模式，與diffusers.Unet2DModel的loss=0.037相比，我的Unet的loss=0.07。同時我的Unet生成的圖像看上去很奇怪，説明我的Unet也有問題。我需要將代碼退回原Unet，並檢查問題所在。\n",
    "- 我將紅移方向的像素的數量限制在了64.以此比較兩個Unet的差別。經比較：\\\n",
    "Unet2DModel loss：0.03, 0.0655, 0.05, 0.02, 0.05\\\n",
    "ContextUnet loss: 0.1, 0.16, 0.1, 0.2186, 0.06\n",
    "- 我把ContextUnet退回到了原作者的版本，結果loss=0.05，輸出的照片也不錯。我主要的改動是改回了他原用的normalization函數，其中還有個參數swish。有時間我可以研究一下具體是哪裏影響了訓練的結果。另外我發現了要想tensorboard的圖綫獨立美觀，需要把他們放在不同的文件夾下\n",
    "- 經過驗證，GroupNorm比batchNorm效果要好\n",
    "- 已擴展爲接受不同維度的情形\n",
    "- 融合cond, guide_w, drop_out這些參數\n",
    "- 生成的21cm圖像該暗的地方不夠暗，似乎換成MNIST的數字圖像就沒問題\n",
    "- 我用diffusion模型生成MNIST的數字時發現，儘管生成的數據的範圍也存在負數數值，如-0.1,但畫出來的圖像卻是理想的黑色。數據的分佈與21cm的結果的分佈沒多大差別，我現在打算把代碼退回到21cm的情形\n",
    "- 我統一了ddpm21cm這個module，能統一實現訓練和生成樣本，但目前有個bug， sample時總是會cuda out of memory，然而單獨resume model並sample就不會。\n",
    "- 解決了，問題出在我忘了寫with torch.no_grad():\n",
    "- 接下來就是生成800個lightcones，與此同時研究如何計算global signal以及power spectrum\n",
    "- 儅訓練圖片的數量達到5000時，生成的圖片與檢測數據的相似程度很高\n",
    "- it takes 62 mins to generated 8 images with shape of (64,64,64), which is even slower than simulation, which takes ~5 mins for each image. Besides, the batch_size during training and num of images to be generated are limited to be 2 and 8, respectively.\n",
    "- the slowerness can be solved by using multi-GPUs, and the limited-num-of-images can be solved by multi-accuracy, multi-GPUs.\n",
    "- In addtion, the performance of DDPM can looks better compared to computation-intensive simulations. "
   ]
  },
  {
   "cell_type": "code",
   "execution_count": 1,
   "metadata": {},
   "outputs": [],
   "source": [
    "from dataclasses import dataclass\n",
    "import h5py\n",
    "import torch\n",
    "import torch.nn as nn\n",
    "from torch.utils.data import DataLoader, Dataset\n",
    "# from datasets import Dataset\n",
    "import matplotlib.pyplot as plt\n",
    "import numpy as np\n",
    "import random\n",
    "# from abc import ABC, abstractmethod\n",
    "import torch.nn.functional as F\n",
    "import math\n",
    "# from PIL import Image\n",
    "import os\n",
    "from torch.utils.tensorboard import SummaryWriter\n",
    "import copy\n",
    "from tqdm.auto import tqdm\n",
    "# from torchvision import transforms\n",
    "# from diffusers import UNet2DModel#, UNet3DConditionModel\n",
    "# from diffusers import DDPMScheduler\n",
    "from diffusers.utils import make_image_grid\n",
    "import datetime\n",
    "from pathlib import Path\n",
    "from diffusers.optimization import get_cosine_schedule_with_warmup\n",
    "from accelerate import notebook_launcher, Accelerator\n",
    "from huggingface_hub import create_repo, upload_folder\n",
    "\n",
    "from load_h5 import Dataset4h5\n",
    "from context_unet import ContextUnet\n",
    "\n",
    "from huggingface_hub import notebook_login"
   ]
  },
  {
   "cell_type": "code",
   "execution_count": 2,
   "metadata": {},
   "outputs": [
    {
     "data": {
      "application/vnd.jupyter.widget-view+json": {
       "model_id": "9d207dc0a7a24bccb2f419954b64ddc0",
       "version_major": 2,
       "version_minor": 0
      },
      "text/plain": [
       "VBox(children=(HTML(value='<center> <img\\nsrc=https://huggingface.co/front/assets/huggingface_logo-noborder.sv…"
      ]
     },
     "metadata": {},
     "output_type": "display_data"
    }
   ],
   "source": [
    "notebook_login()"
   ]
  },
  {
   "attachments": {},
   "cell_type": "markdown",
   "metadata": {},
   "source": [
    "# Add noise:\n",
    "\n",
    "\\begin{align*}\n",
    "x_t &\\sim \\mathcal N\\left(\\sqrt{1-\\beta_t}\\ x_{t-1},\\ \\beta_t \\right) \\\\\n",
    "x_t &\\equiv \\sqrt{1-\\beta_t}\\ x_{t-1} + \\sqrt{\\beta_t}\\ \\epsilon\\\\\n",
    "\\epsilon &\\sim \\mathcal N(0,1)\\\\\n",
    "\\alpha_t & \\equiv 1 - \\beta_t\\\\\n",
    "& ...\\\\\n",
    "x_t &= \\sqrt{\\bar {\\alpha_t}} x_0 + \\epsilon\\ \\sqrt{1 - \\bar{\\alpha_t}}\\\\\n",
    "\\bar {\\alpha_t} &\\equiv \\prod_{i=1}^t \\alpha_i\\\\\n",
    "&= \\exp\\left({\\ln{\\prod_{i=1}^t \\alpha_i}}\\right)\\\\\n",
    "&= \\exp\\left({\\sum_{i=1}^t\\ln{ \\alpha_i}}\\right)\n",
    "\\end{align*}"
   ]
  },
  {
   "cell_type": "code",
   "execution_count": 3,
   "metadata": {},
   "outputs": [],
   "source": [
    "class DDPMScheduler(nn.Module):\n",
    "    def __init__(self, betas: tuple, num_timesteps: int, img_shape: list, device='cpu'):\n",
    "        super().__init__()\n",
    "        \n",
    "        beta_1, beta_T = betas\n",
    "        assert 0 < beta_1 <= beta_T <= 1, \"ensure 0 < beta_1 <= beta_T <= 1\"\n",
    "        self.device = device\n",
    "        self.num_timesteps = num_timesteps\n",
    "        self.img_shape = img_shape\n",
    "        self.beta_t = torch.linspace(beta_1, beta_T, self.num_timesteps) #* (beta_T-beta_1) + beta_1\n",
    "        self.beta_t = self.beta_t.to(self.device)\n",
    "\n",
    "        # self.drop_prob = drop_prob\n",
    "        # self.cond = cond\n",
    "        self.alpha_t = 1 - self.beta_t\n",
    "        # self.bar_alpha_t = torch.exp(torch.cumsum(torch.log(self.alpha_t), dim=0))\n",
    "        self.bar_alpha_t = torch.cumprod(self.alpha_t, dim=0)\n",
    "\n",
    "    def add_noise(self, clean_images):\n",
    "        shape = clean_images.shape\n",
    "        expand = torch.ones(len(shape)-1, dtype=int)\n",
    "        # ts_expand = ts.view(ts.shape[0], *expand.tolist())\n",
    "        # expand = [1 for i in range(len(shape)-1)]\n",
    "\n",
    "        noise = torch.randn_like(clean_images).to(self.device)\n",
    "        ts = torch.randint(0, self.num_timesteps, (shape[0],)).to(self.device)\n",
    "                \n",
    "        # test_expand = test.view(test.shape[0],*expand)\n",
    "        # extend_dim = [None for i in range(shape.dim()-1)]\n",
    "        noisy_images = (\n",
    "            clean_images * torch.sqrt(self.bar_alpha_t[ts]).view(shape[0], *expand.tolist())\n",
    "            + noise * torch.sqrt(1-self.bar_alpha_t[ts]).view(shape[0], *expand.tolist())\n",
    "            )\n",
    "        # print(x_t.shape)\n",
    "\n",
    "        return noisy_images, noise, ts\n",
    "\n",
    "    def sample(self, nn_model, params, device, guide_w = 0):\n",
    "        n_sample = len(params) #params.shape[0]\n",
    "        # print(\"params.shape[0], len(params)\", params.shape[0], len(params))\n",
    "        x_i = torch.randn(n_sample, *self.img_shape).to(device)\n",
    "        # print(\"x_i.shape =\", x_i.shape)\n",
    "        # print(\"x_i.shape =\", x_i.shape)\n",
    "        if guide_w != -1:\n",
    "            c_i = params\n",
    "            uncond_tokens = torch.zeros(int(n_sample), params.shape[1]).to(device)\n",
    "            # uncond_tokens = torch.tensor(np.float32(np.array([0,0]))).to(device)\n",
    "            # uncond_tokens = uncond_tokens.repeat(int(n_sample),1)\n",
    "            c_i = torch.cat((c_i, uncond_tokens), 0)\n",
    "\n",
    "        x_i_entire = [] # keep track of generated steps in case want to plot something\n",
    "        # print(\"self.num_timesteps =\", self.num_timesteps)\n",
    "        # for i in range(self.num_timesteps, 0, -1):\n",
    "        # print(f'sampling!!!')\n",
    "        pbar_sample = tqdm(total=self.num_timesteps)\n",
    "        pbar_sample.set_description(\"Sampling\")\n",
    "        for i in reversed(range(0, self.num_timesteps)):\n",
    "            # print(f'sampling timestep {i:4d}',end='\\r')\n",
    "            t_is = torch.tensor([i]).to(device)\n",
    "            t_is = t_is.repeat(n_sample)\n",
    "\n",
    "            z = torch.randn(n_sample, *self.img_shape).to(device) if i > 0 else 0\n",
    "\n",
    "            if guide_w == -1:\n",
    "                # eps = nn_model(x_i, t_is, return_dict=False)[0]\n",
    "                eps = nn_model(x_i, t_is)\n",
    "                # x_i = 1/torch.sqrt(self.alpha_t[i])*(x_i-eps*self.beta_t[i]/torch.sqrt(1-self.bar_alpha_t[i])) + torch.sqrt(self.beta_t[i])*z\n",
    "            else:\n",
    "                # double batch\n",
    "                x_i = x_i.repeat(2, *torch.ones(len(self.img_shape), dtype=int).tolist())\n",
    "                t_is = t_is.repeat(2)\n",
    "\n",
    "                # split predictions and compute weighting\n",
    "                # print(\"nn_model input shape\", x_i.shape, t_is.shape, c_i.shape)\n",
    "                eps = nn_model(x_i, t_is, c_i)\n",
    "                eps1 = eps[:n_sample]\n",
    "                eps2 = eps[n_sample:]\n",
    "                eps = eps1 + guide_w*(eps1 - eps2)\n",
    "                # eps = (1+guide_w)*eps1 - guide_w*eps2\n",
    "                x_i = x_i[:n_sample]\n",
    "                # x_i = 1/torch.sqrt(self.alpha_t[i])*(x_i-eps*self.beta_t[i]/torch.sqrt(1-self.bar_alpha_t[i])) + torch.sqrt(self.beta_t[i])*z\n",
    "            \n",
    "            # print(\"x_i.shape =\", x_i.shape)\n",
    "            x_i = 1/torch.sqrt(self.alpha_t[i])*(x_i-eps*self.beta_t[i]/torch.sqrt(1-self.bar_alpha_t[i])) + torch.sqrt(self.beta_t[i])*z\n",
    "            \n",
    "            pbar_sample.update(1)\n",
    "            # pbar_sample.set_postfix(step=i)\n",
    "            \n",
    "            # print(\"x_i.shape =\", x_i.shape)\n",
    "            # store only part of the intermediate steps\n",
    "            if i%20==0:# or i==0:# or i<8:\n",
    "                x_i_entire.append(x_i.detach().cpu().numpy())\n",
    "        x_i = x_i.detach().cpu().numpy()\n",
    "        x_i_entire = np.array(x_i_entire)\n",
    "        return x_i, x_i_entire\n",
    "\n",
    "\n",
    "# ddpm_scheduler = DDPMScheduler((1e-4,0.02),10)\n",
    "# noisy_images, noise, ts = ddpm_scheduler.add_noise(images)"
   ]
  },
  {
   "cell_type": "code",
   "execution_count": 4,
   "metadata": {},
   "outputs": [],
   "source": [
    "class EMA:\n",
    "    def __init__(self, beta):\n",
    "        super().__init__()\n",
    "        self.beta = beta\n",
    "        self.step = 0\n",
    "\n",
    "    def update_model_average(self, ma_model, current_model):\n",
    "        for current_params, ma_params in zip(current_model.parameters(), ma_model.parameters()):\n",
    "            old_weight, up_weight = ma_params.data, current_params.data\n",
    "            ma_params.data = self.update_average(old_weight, up_weight)\n",
    "\n",
    "    def update_average(self, old, new):\n",
    "        if old is None:\n",
    "            return new\n",
    "        return old * self.beta + (1 - self.beta) * new\n",
    "\n",
    "    def step_ema(self, ema_model, model):\n",
    "        self.update_model_average(ema_model, model)\n",
    "        self.step += 1\n",
    "\n",
    "    def reset_parameters(self, ema_model, model):\n",
    "        ema_model.load_state_dict(model.state_dict())\n",
    "        "
   ]
  },
  {
   "cell_type": "code",
   "execution_count": 5,
   "metadata": {},
   "outputs": [],
   "source": [
    "@dataclass\n",
    "class TrainConfig:\n",
    "    ###########################\n",
    "    ## hardcoding these here ##\n",
    "    ###########################\n",
    "    push_to_hub = True\n",
    "    hub_model_id = \"Xsmos/ml21cm\"\n",
    "    hub_private_repo = False\n",
    "    dataset_name = \"/storage/home/hcoda1/3/bxia34/scratch/LEN128-DIM64-CUB8.h5\"\n",
    "    device = 'cuda' if torch.cuda.is_available() else 'cpu'\n",
    "    # repeat = 2\n",
    "\n",
    "    # dim = 2\n",
    "    dim = 3\n",
    "    stride = (2,2) if dim == 2 else (2,2,2)\n",
    "    num_image = 2000#32000#20000#15000#7000#25600#3000#10000#1000#10000#5000#2560#800#2560\n",
    "    batch_size = 2#2#50#20#2#100 # 10\n",
    "    n_epoch = 10#50#20#20#2#5#25 # 120\n",
    "    HII_DIM = 64\n",
    "    num_redshift = 128#64#512#256#256#64#512#128\n",
    "    channel = 1\n",
    "    img_shape = (channel, HII_DIM, num_redshift) if dim == 2 else (channel, HII_DIM, HII_DIM, num_redshift)\n",
    "\n",
    "    ranges_dict = dict(\n",
    "        params = {\n",
    "            0: [4, 6], # ION_Tvir_MIN\n",
    "            1: [10, 250], # HII_EFF_FACTOR\n",
    "            },\n",
    "        images = {\n",
    "            0: [0, 80], # brightness_temp\n",
    "            }\n",
    "        )\n",
    "\n",
    "    num_timesteps = 1000#1000 # 1000, 500; DDPM time steps\n",
    "    # n_sample = 24 # 64, the number of samples in sampling process\n",
    "    n_param = 2\n",
    "    guide_w = 0#-1#0#-1#0#-1#0.1#[0,0.1] #[0,0.5,2] strength of generative guidance\n",
    "    drop_prob = 0#0.28 # only takes effect when guide_w != -1\n",
    "    ema=True # whether to use ema\n",
    "    ema_rate=0.995\n",
    "\n",
    "    # seed = 0\n",
    "    # save_dir = './outputs/'\n",
    "\n",
    "    save_freq = 0#.1 # the period of sampling\n",
    "    # general parameters for the name and logger    \n",
    "    # device = \"cuda\" if torch.cuda.is_available() else \"cpu\"\n",
    "    lrate = 1e-4\n",
    "    lr_warmup_steps = 0#5#00\n",
    "    output_dir = \"./outputs/\"\n",
    "    save_name = os.path.join(output_dir, 'model_state')\n",
    "    # save_freq = 1 #10 # the period of saving model\n",
    "    # cond = True # if training using the conditional information\n",
    "    # lr_decay = False #True# if using the learning rate decay\n",
    "    resume = save_name # if resume from the trained checkpoints\n",
    "    # params_single = torch.tensor([0.2,0.80000023])\n",
    "    # params = torch.tile(params_single,(n_sample,1)).to(device)\n",
    "    # params =  params\n",
    "    # data_dir = './data' # data directory\n",
    "\n",
    "\n",
    "    mixed_precision = \"fp16\"\n",
    "    gradient_accumulation_steps = 1\n",
    "\n",
    "    # date = datetime.datetime.now().strftime(\"%m%d-%H%M\")\n",
    "    # run_name = f'{date}' # the unique name of each experiment\n",
    "\n",
    "# config = TrainConfig()\n",
    "# print(\"device =\", config.device)"
   ]
  },
  {
   "cell_type": "code",
   "execution_count": 6,
   "metadata": {},
   "outputs": [],
   "source": [
    "# import os\n",
    "# print(os.cpu_count())\n",
    "# print(len(os.sched_getaffinity(0)))\n",
    "# import torch\n",
    "# data = torch.randn((64,64))\n",
    "# print(data.dtype)"
   ]
  },
  {
   "cell_type": "code",
   "execution_count": 7,
   "metadata": {},
   "outputs": [],
   "source": [
    "# @dataclass\n",
    "class DDPM21CM:\n",
    "    def __init__(self, config):\n",
    "        # config = TrainConfig()\n",
    "        # date = datetime.datetime.now().strftime(\"%m%d-%H%M\")\n",
    "        config.run_name = datetime.datetime.now().strftime(\"%m%d-%H%M\") # the unique name of each experiment\n",
    "        self.config = config\n",
    "        # dataset = Dataset4h5(config.dataset_name, num_image=config.num_image, HII_DIM=config.HII_DIM, num_redshift=config.num_redshift, drop_prob=config.drop_prob, dim=config.dim)\n",
    "        # # self.shape_loaded = dataset.images.shape\n",
    "        # # print(\"shape_loaded =\", self.shape_loaded)\n",
    "        # self.dataloader = DataLoader(dataset, batch_size=config.batch_size, shuffle=True)\n",
    "        # del dataset\n",
    "        self.ddpm = DDPMScheduler(betas=(1e-4, 0.02), num_timesteps=config.num_timesteps, img_shape=config.img_shape, device=config.device)\n",
    "\n",
    "        # initialize the unet\n",
    "        self.nn_model = ContextUnet(n_param=config.n_param, image_size=config.HII_DIM, dim=config.dim, stride=config.stride)\n",
    "\n",
    "        if config.resume and os.path.exists(config.resume):\n",
    "            # resume_file = os.path.join(config.output_dir, f\"{config.resume}\")\n",
    "            self.nn_model.load_state_dict(torch.load(config.resume)['unet_state_dict'])\n",
    "            print(f\"resumed nn_model from {config.resume}\")\n",
    "        # nn_model = ContextUnet(n_param=1, image_size=28)\n",
    "        self.nn_model.train()\n",
    "        self.nn_model.to(self.ddpm.device)\n",
    "        # print(\"nn_model.device =\", ddpm.device)\n",
    "        # number of parameters to be trained\n",
    "        self.number_of_params = sum(x.numel() for x in self.nn_model.parameters())\n",
    "        print(f\"Number of parameters for nn_model: {self.number_of_params}\")\n",
    "\n",
    "        # whether to use ema\n",
    "        if config.ema:\n",
    "            self.ema = EMA(config.ema_rate)\n",
    "            if config.resume and os.path.exists(config.resume):\n",
    "                self.ema_model = ContextUnet(n_param=config.n_param, image_size=config.HII_DIM, dim=config.dim, stride=config.stride).to(config.device)\n",
    "                self.ema_model.load_state_dict(torch.load(config.resume)['ema_unet_state_dict'])\n",
    "                print(f\"resumed ema_model from {config.resume}\")\n",
    "            else:\n",
    "                self.ema_model = copy.deepcopy(self.nn_model).eval().requires_grad_(False)\n",
    "\n",
    "        self.optimizer = torch.optim.AdamW(self.nn_model.parameters(), lr=config.lrate)\n",
    "        self.lr_scheduler = get_cosine_schedule_with_warmup(\n",
    "            optimizer=self.optimizer,\n",
    "            num_warmup_steps=config.lr_warmup_steps,\n",
    "            num_training_steps=(int(config.num_image/config.batch_size) * config.n_epoch),\n",
    "            # num_training_steps=(len(self.dataloader) * config.n_epoch),\n",
    "        )\n",
    "\n",
    "        self.ranges_dict = config.ranges_dict\n",
    "\n",
    "    def load(self):\n",
    "        dataset = Dataset4h5(self.config.dataset_name, num_image=self.config.num_image, HII_DIM=self.config.HII_DIM, num_redshift=self.config.num_redshift, drop_prob=self.config.drop_prob, dim=self.config.dim, ranges_dict=self.ranges_dict)\n",
    "        # self.shape_loaded = dataset.images.shape\n",
    "        # print(\"shape_loaded =\", self.shape_loaded)\n",
    "        self.dataloader = DataLoader(dataset, batch_size=self.config.batch_size, shuffle=True, num_workers=len(os.sched_getaffinity(0)), pin_memory=True)\n",
    "        # del dataset\n",
    "        # self.accelerate(self.config)\n",
    "        del dataset\n",
    "\n",
    "    # def accelerate(self):\n",
    "\n",
    "    def train(self):\n",
    "        ###################      \n",
    "        ## training loop ##\n",
    "        ###################\n",
    "        # plot_unet = True\n",
    "        self.load()\n",
    "        self.accelerator = Accelerator(\n",
    "            mixed_precision=self.config.mixed_precision,\n",
    "            gradient_accumulation_steps=self.config.gradient_accumulation_steps,\n",
    "            log_with=\"tensorboard\",\n",
    "            project_dir=os.path.join(self.config.output_dir, \"logs\"),\n",
    "        )\n",
    "        if self.accelerator.is_main_process:\n",
    "            if self.config.output_dir is not None:\n",
    "                os.makedirs(self.config.output_dir, exist_ok=True)\n",
    "            if self.config.push_to_hub:\n",
    "                self.repo_id = create_repo(\n",
    "                    repo_id=self.config.hub_model_id or Path(self.config.output_dir).name, exist_ok=True\n",
    "                ).repo_id\n",
    "            self.accelerator.init_trackers(f\"{self.config.run_name}\")\n",
    "\n",
    "        self.nn_model, self.optimizer, self.dataloader, self.lr_scheduler = \\\n",
    "            self.accelerator.prepare(\n",
    "            self.nn_model, self.optimizer, self.dataloader, self.lr_scheduler\n",
    "            )\n",
    "            \n",
    "        global_step = 0\n",
    "        for ep in range(self.config.n_epoch):\n",
    "            self.ddpm.train()\n",
    "\n",
    "            pbar_train = tqdm(total=len(self.dataloader), disable=not self.accelerator.is_local_main_process)\n",
    "            pbar_train.set_description(f\"Epoch {ep}\")\n",
    "            for i, (x, c) in enumerate(self.dataloader):\n",
    "                with self.accelerator.accumulate(self.nn_model):\n",
    "                    x = x.to(self.config.device)\n",
    "                    xt, noise, ts = self.ddpm.add_noise(x)\n",
    "                    \n",
    "                    if self.config.guide_w == -1:\n",
    "                        noise_pred = self.nn_model(xt, ts)\n",
    "                    else:\n",
    "                        c = c.to(self.config.device)\n",
    "                        noise_pred = self.nn_model(xt, ts, c)\n",
    "                    \n",
    "                    loss = F.mse_loss(noise, noise_pred)\n",
    "                    self.accelerator.backward(loss)\n",
    "                    self.accelerator.clip_grad_norm_(self.nn_model.parameters(), 1)\n",
    "                    self.optimizer.step()\n",
    "                    self.lr_scheduler.step()\n",
    "                    self.optimizer.zero_grad()\n",
    "\n",
    "                # ema update\n",
    "                if self.config.ema:\n",
    "                    self.ema.step_ema(self.ema_model, self.nn_model)\n",
    "\n",
    "                pbar_train.update(1)\n",
    "                logs = dict(\n",
    "                    loss=loss.detach().item(),\n",
    "                    lr=self.optimizer.param_groups[0]['lr'],\n",
    "                    step=global_step\n",
    "                )\n",
    "                pbar_train.set_postfix(**logs)\n",
    "\n",
    "                self.accelerator.log(logs, step=global_step)\n",
    "                global_step += 1\n",
    "\n",
    "            # if ep == config.n_epoch-1 or (ep+1)*config.save_freq==1:\n",
    "            self.save(ep)\n",
    "\n",
    "        del self.nn_model\n",
    "        if self.config.ema:\n",
    "            del self.ema_model\n",
    "        torch.cuda.empty_cache()\n",
    "\n",
    "    def save(self, ep):\n",
    "        # save model\n",
    "        if self.accelerator.is_main_process:\n",
    "            if ep == self.config.n_epoch-1 or (ep+1)*self.config.save_freq==1:\n",
    "                self.nn_model.eval()\n",
    "                with torch.no_grad():\n",
    "                    if self.config.push_to_hub:\n",
    "                        upload_folder(\n",
    "                            repo_id = self.repo_id,\n",
    "                            folder_path = \".\",#config.output_dir,\n",
    "                            commit_message = f\"{self.config.run_name}\",\n",
    "                            ignore_patterns = [\"step_*\", \"epoch_*\", \"*.npy\", \"__pycache__\"],\n",
    "                            )\n",
    "                    if self.config.save_name:\n",
    "                        model_state = {\n",
    "                            'epoch': ep,\n",
    "                            'unet_state_dict': self.nn_model.state_dict(),\n",
    "                            'ema_unet_state_dict': self.ema_model.state_dict(),\n",
    "                            }\n",
    "                        torch.save(model_state, self.config.save_name+f\"-N{self.config.num_image}\")\n",
    "                        print('saved model at ' + self.config.save_name+f\"-N{self.config.num_image}\")\n",
    "                        # print('saved model at ' + config.save_dir + f\"model_epoch_{ep}_test_{config.run_name}.pth\")\n",
    "\n",
    "    # def rescale(self, value, type='params', to_ranges=[0,1]):\n",
    "    #     for i, from_ranges in self.ranges_dict[type].items():\n",
    "    #         value[i] = (value[i] - from_ranges[0])/(from_ranges[1]-from_ranges[0]) # normalize\n",
    "    #         value[i] = \n",
    "    def rescale(self, value, ranges, to: list):\n",
    "        if value.ndim == 1:\n",
    "            value = value.view(-1,len(value))\n",
    "            \n",
    "        for i in range(np.shape(value)[1]):\n",
    "            value[:,i] = (value[:,i] - ranges[i][0]) / (ranges[i][1]-ranges[i][0])\n",
    "            # print(f\"i = {i}, value.min = {value[:,i].min()}, value.max = {value[:,i].max()}\")\n",
    "        value = value * (to[1]-to[0]) + to[0]\n",
    "        return value \n",
    "\n",
    "    def sample(self, file, params:torch.tensor=None, repeat=192, ema=False, entire=False):\n",
    "        # n_sample = params.shape[0]\n",
    "        \n",
    "        if params is None:\n",
    "            params = torch.tensor([0.20000000000000018, 0.5055875000000001])\n",
    "            params_backup = params.numpy().copy()\n",
    "        else:\n",
    "            params_backup = params.numpy().copy()\n",
    "            params = self.rescale(params, self.ranges_dict['params'], to=[0,1])\n",
    "\n",
    "        print(f\"sampling {repeat} images with normalized params = {params}\")\n",
    "        params = params.repeat(repeat,1)\n",
    "        assert params.dim() == 2, \"params must be a 2D torch.tensor\"\n",
    "        # print(\"params =\", params)\n",
    "        # print(\"params =\", params)\n",
    "        # print(\"len(params) =\", len(params))\n",
    "        # model = self.ema_model if ema else self.nn_model\n",
    "        # del self.ema_model, self.nn\n",
    "        # params = torch.tile(params, (n_sample,1)).to(device)\n",
    "\n",
    "        nn_model = ContextUnet(n_param=self.config.n_param, image_size=self.config.HII_DIM, dim=self.config.dim, stride=self.config.stride).to(self.config.device)\n",
    "        if ema:\n",
    "            nn_model.load_state_dict(torch.load(file)['ema_unet_state_dict'])\n",
    "        else:\n",
    "            nn_model.load_state_dict(torch.load(file)['unet_state_dict'])\n",
    "        print(f\"nn_model resumed from {file}\")\n",
    "        # nn_model = ContextUnet(n_param=1, image_size=28)\n",
    "        # nn_model.train()\n",
    "        nn_model.to(self.ddpm.device)\n",
    "        nn_model.eval()\n",
    "\n",
    "        # self.ema_model = ContextUnet(n_param=config.n_param, image_size=config.HII_DIM, dim=config.dim, stride=config.stride).to(config.device)\n",
    "        # self.ema_model.load_state_dict(torch.load(os.path.join(config.output_dir, f\"{config.resume}\"))['ema_unet_state_dict'])\n",
    "        # print(f\"resumed ema_model from {config.resume}\")\n",
    "\n",
    "        with torch.no_grad():\n",
    "            x_last, x_entire = self.ddpm.sample(\n",
    "                nn_model=nn_model, \n",
    "                params=params.to(self.config.device), \n",
    "                device=self.config.device, \n",
    "                guide_w=self.config.guide_w\n",
    "                )\n",
    "\n",
    "        # np.save(os.path.join(self.config.output_dir, f\"{self.config.run_name}{'ema' if ema else ''}.npy\"), x_last)\n",
    "        np.save(os.path.join(self.config.output_dir, f\"Tvir{params_backup[0]}-zeta{params_backup[1]}-N{self.config.num_image}{'ema' if ema else ''}.npy\"), x_last)\n",
    "\n",
    "        if entire:\n",
    "            np.save(os.path.join(self.config.output_dir, f\"Tvir{params_backup[0]}-zeta{params_backup[1]}-N{self.config.num_image}{'ema' if ema else ''}_entire.npy\"), x_last)\n",
    "# print(\"device =\", config.device)"
   ]
  },
  {
   "cell_type": "code",
   "execution_count": 8,
   "metadata": {},
   "outputs": [
    {
     "name": "stdout",
     "output_type": "stream",
     "text": [
      "Number of parameters for nn_model: 306285057\n",
      "---------------- num_image = 1000 ----------------\n",
      "run_name = 0706-2157\n",
      "Launching training on one GPU.\n",
      "dataset content: <KeysViewHDF5 ['brightness_temp', 'density', 'kwargs', 'params', 'redshifts_distances', 'seeds', 'xH_box']>\n",
      "51200 images can be loaded\n",
      "field.shape = (64, 64, 514)\n",
      "params keys = [b'ION_Tvir_MIN', b'HII_EFF_FACTOR']\n",
      "loading 1000 images randomly\n",
      "images loaded: (1000, 1, 64, 64, 128)\n",
      "params loaded: (1000, 2)\n"
     ]
    },
    {
     "name": "stderr",
     "output_type": "stream",
     "text": [
      "Detected kernel version 3.10.0, which is below the recommended minimum of 5.5.0; this can cause the process to hang. It is recommended to upgrade the kernel to the minimum version or higher.\n"
     ]
    },
    {
     "name": "stdout",
     "output_type": "stream",
     "text": [
      "images rescaled to [-1.0, 1.2339041233062744]\n",
      "params rescaled to [0.0006788479393025145, 0.9997530171043563]\n"
     ]
    },
    {
     "data": {
      "application/vnd.jupyter.widget-view+json": {
       "model_id": "1d069efc366d480ba2515135ccb18f6c",
       "version_major": 2,
       "version_minor": 0
      },
      "text/plain": [
       "  0%|          | 0/500 [00:00<?, ?it/s]"
      ]
     },
     "metadata": {},
     "output_type": "display_data"
    },
    {
     "data": {
      "application/vnd.jupyter.widget-view+json": {
       "model_id": "93abe7efc5044d3796f67a0d243058b2",
       "version_major": 2,
       "version_minor": 0
      },
      "text/plain": [
       "  0%|          | 0/500 [00:00<?, ?it/s]"
      ]
     },
     "metadata": {},
     "output_type": "display_data"
    },
    {
     "data": {
      "application/vnd.jupyter.widget-view+json": {
       "model_id": "75e22a8998244becb916714cf4b8053e",
       "version_major": 2,
       "version_minor": 0
      },
      "text/plain": [
       "  0%|          | 0/500 [00:00<?, ?it/s]"
      ]
     },
     "metadata": {},
     "output_type": "display_data"
    },
    {
     "data": {
      "application/vnd.jupyter.widget-view+json": {
       "model_id": "7364f0924d2246e49fa02a596e0afde8",
       "version_major": 2,
       "version_minor": 0
      },
      "text/plain": [
       "  0%|          | 0/500 [00:00<?, ?it/s]"
      ]
     },
     "metadata": {},
     "output_type": "display_data"
    },
    {
     "data": {
      "application/vnd.jupyter.widget-view+json": {
       "model_id": "a5c57b0059154c2695e7fc0d426bb0d9",
       "version_major": 2,
       "version_minor": 0
      },
      "text/plain": [
       "  0%|          | 0/500 [00:00<?, ?it/s]"
      ]
     },
     "metadata": {},
     "output_type": "display_data"
    },
    {
     "data": {
      "application/vnd.jupyter.widget-view+json": {
       "model_id": "b0c9ee9c876144eab582e196e71ed83c",
       "version_major": 2,
       "version_minor": 0
      },
      "text/plain": [
       "  0%|          | 0/500 [00:00<?, ?it/s]"
      ]
     },
     "metadata": {},
     "output_type": "display_data"
    },
    {
     "data": {
      "application/vnd.jupyter.widget-view+json": {
       "model_id": "d2956adb8f4c45938f2d8f93baca2998",
       "version_major": 2,
       "version_minor": 0
      },
      "text/plain": [
       "  0%|          | 0/500 [00:00<?, ?it/s]"
      ]
     },
     "metadata": {},
     "output_type": "display_data"
    },
    {
     "data": {
      "application/vnd.jupyter.widget-view+json": {
       "model_id": "1f3031b4cd1040829ce3b457ee30e464",
       "version_major": 2,
       "version_minor": 0
      },
      "text/plain": [
       "  0%|          | 0/500 [00:00<?, ?it/s]"
      ]
     },
     "metadata": {},
     "output_type": "display_data"
    },
    {
     "data": {
      "application/vnd.jupyter.widget-view+json": {
       "model_id": "b4dcf375da4c4c4492d308e4bdc19358",
       "version_major": 2,
       "version_minor": 0
      },
      "text/plain": [
       "  0%|          | 0/500 [00:00<?, ?it/s]"
      ]
     },
     "metadata": {},
     "output_type": "display_data"
    },
    {
     "data": {
      "application/vnd.jupyter.widget-view+json": {
       "model_id": "50c6936f333a451394d6761fa9a085be",
       "version_major": 2,
       "version_minor": 0
      },
      "text/plain": [
       "  0%|          | 0/500 [00:00<?, ?it/s]"
      ]
     },
     "metadata": {},
     "output_type": "display_data"
    },
    {
     "name": "stdout",
     "output_type": "stream",
     "text": [
      "saved model at ./outputs/model_state-N1000\n"
     ]
    }
   ],
   "source": [
    "num_image_list = [1000]#[200]#[1600,3200,6400,12800,25600]\n",
    "if __name__ == \"__main__\":\n",
    "    # torch.multiprocessing.set_start_method(\"spawn\")\n",
    "    # args = (config, nn_model, ddpm, optimizer, dataloader, lr_scheduler)\n",
    "    config = TrainConfig()\n",
    "    for i, num_image in enumerate(num_image_list):\n",
    "        config.num_image = num_image\n",
    "        ddpm21cm = DDPM21CM(config)\n",
    "        print(f\" num_image = {ddpm21cm.config.num_image} \".center(50, '-'))\n",
    "        print(f\"run_name = {ddpm21cm.config.run_name}\")\n",
    "        notebook_launcher(ddpm21cm.train, num_processes=1, mixed_precision='fp16')"
   ]
  },
  {
   "cell_type": "code",
   "execution_count": 15,
   "metadata": {},
   "outputs": [
    {
     "name": "stdout",
     "output_type": "stream",
     "text": [
      "Number of parameters for nn_model: 306285057\n",
      "sampling 2 images with normalized params = tensor([[0.2000, 0.5056]])\n",
      "nn_model resumed from ./outputs/model_state-N1000\n"
     ]
    },
    {
     "data": {
      "application/vnd.jupyter.widget-view+json": {
       "model_id": "69eb2e5d3375414cab966a9c8db91901",
       "version_major": 2,
       "version_minor": 0
      },
      "text/plain": [
       "  0%|          | 0/1000 [00:00<?, ?it/s]"
      ]
     },
     "metadata": {},
     "output_type": "display_data"
    }
   ],
   "source": [
    "if __name__ == \"__main__\":\n",
    "    # num_image_list = [1600,3200,6400,12800,25600]\n",
    "    num_image_list = [1000]\n",
    "    # num_image_list = [3200,6400,12800,25600]\n",
    "    # args = (config, nn_model, ddpm, optimizer, dataloader, lr_scheduler)\n",
    "    repeat = 2\n",
    "    config = TrainConfig()\n",
    "    for i, num_image in enumerate(num_image_list):\n",
    "        config.num_image = num_image\n",
    "        ddpm21cm = DDPM21CM(config)\n",
    "\n",
    "        ddpm21cm.sample(f\"./outputs/model_state-N{num_image}\", params=torch.tensor([4.4, 131.341]), repeat=repeat)\n",
    "\n",
    "        # ddpm21cm.sample(f\"./outputs/model_state-N{num_image}\", params=torch.tensor((5.6, 19.037)), repeat=repeat)\n",
    "\n",
    "        # ddpm21cm.sample(f\"./outputs/model_state-N{num_image}\", params=torch.tensor((4.699, 30)), repeat=repeat)\n",
    "\n",
    "        # ddpm21cm.sample(f\"./outputs/model_state-N{num_image}\", params=torch.tensor((5.477, 200)), repeat=repeat)\n",
    "\n",
    "        # ddpm21cm.sample(f\"./outputs/model_state-N{num_image}\", params=torch.tensor((4.8, 131.341)), repeat=repeat)"
   ]
  },
  {
   "cell_type": "code",
   "execution_count": 19,
   "metadata": {},
   "outputs": [
    {
     "name": "stdout",
     "output_type": "stream",
     "text": [
      "total 13G\n",
      "-rw-r--r--  1 bxia34 pace-jw254 4.1M Jul  6 23:59 Tvir4.400000095367432-zeta131.34100341796875-N1000.npy\n",
      "-rw-r--r--  1 bxia34 pace-jw254 2.3G Jul  6 23:06 model_state-N1000\n",
      "drwxr-xr-x 56 bxia34 pace-jw254 4.0K Jul  6 22:09 \u001b[0m\u001b[01;34mlogs\u001b[0m/\n",
      "-rw-r--r--  1 bxia34 pace-jw254 4.1M Jul  6 21:39 Tvir4.400000095367432-zeta131.34100341796875-N50.npy\n",
      "-rw-r--r--  1 bxia34 pace-jw254 2.3G Jul  6 21:25 model_state-N50\n",
      "-rw-r--r--  1 bxia34 pace-jw254 193K Jul  6 20:46 Tvir4.400000095367432-zeta131.34100341796875-N20.npy\n",
      "-rw-r--r--  1 bxia34 pace-jw254 848M Jul  6 20:45 model_state-N20\n",
      "-rw-r--r--  1 bxia34 pace-jw254 6.1M Jul  5 14:44 Tvir4.400000095367432-zeta131.34100341796875-N200.npy\n",
      "-rw-r--r--  1 bxia34 pace-jw254 2.3G Jul  5 12:20 model_state-N200\n"
     ]
    }
   ],
   "source": [
    "ls -lth outputs | head"
   ]
  },
  {
   "cell_type": "code",
   "execution_count": 21,
   "metadata": {},
   "outputs": [
    {
     "name": "stdout",
     "output_type": "stream",
     "text": [
      "samples.shape = (2, 1, 64, 64, 128)\n"
     ]
    }
   ],
   "source": [
    "def plot_grid(samples, c=None, row=1, col=2):\n",
    "    print(\"samples.shape =\", samples.shape)\n",
    "    for j in range(samples.shape[4]):\n",
    "        plt.figure(figsize = (12,6), dpi=400)\n",
    "        for i in range(len(samples)):\n",
    "            plt.subplot(row,col,i+1)\n",
    "            plt.imshow(samples[i,0,:,:,j], cmap='gray')#, vmin=-1, vmax=1)\n",
    "            plt.xticks([])\n",
    "            plt.yticks([])\n",
    "        # plt.suptitle(f\"ION_Tvir_MIN = {c[0][0]}, HII_EFF_FACTOR = {c[0][1]}\")\n",
    "            # plt.show()\n",
    "        # plt.suptitle('simulations')\n",
    "        plt.tight_layout()\n",
    "        plt.subplots_adjust(wspace=0, hspace=0)\n",
    "        plt.savefig(f\"test3D-{j:03d}.png\")\n",
    "        plt.close()\n",
    "        # plt.show()\n",
    "    \n",
    "data = np.load(\"outputs/Tvir4.400000095367432-zeta131.34100341796875-N1000.npy\")\n",
    "# print(data.shape)\n",
    "plot_grid(data)\n",
    "# plt.imshow(data)"
   ]
  },
  {
   "cell_type": "code",
   "execution_count": null,
   "metadata": {},
   "outputs": [],
   "source": [
    "# config = TrainConfig()\n",
    "# def plot(filename, row=4, col=6):\n",
    "#     samples = np.load(filename)\n",
    "#     params = filename.split('guide_w')[-1][:-4]\n",
    "#     print(\"plotting\", samples.shape, params)\n",
    "#     plt.figure(figsize = (8,8))\n",
    "#     for i in range(24):\n",
    "#         plt.subplot(row,col,i+1)\n",
    "#         plt.imshow(samples[i,0,:,:], cmap='gray')#, vmin=-1, vmax=1)\n",
    "#         plt.xticks([])\n",
    "#         plt.yticks([])\n",
    "#         # plt.show()\n",
    "#     plt.suptitle(params)\n",
    "#     plt.tight_layout()\n",
    "#     plt.subplots_adjust(wspace=0, hspace=0) \n",
    "#     plt.show()\n",
    "#     # plt.savefig('outputs/'+params+'.png')\n",
    "#     # plt.close()\n",
    "#     # plt.imshow(images[0,0])\n",
    "#     # plt.show()"
   ]
  },
  {
   "cell_type": "code",
   "execution_count": null,
   "metadata": {},
   "outputs": [],
   "source": [
    "# plot(\"outputs/0528-1433.npy\")\n",
    "# plot(\"outputs/0520-2323.npy\")\n",
    "# plot(\"outputs/0604-2353.npy\")"
   ]
  },
  {
   "cell_type": "code",
   "execution_count": null,
   "metadata": {},
   "outputs": [],
   "source": [
    "# x = np.load(\"outputs/0528-1433.npy\")\n",
    "# print(x.shape)"
   ]
  },
  {
   "cell_type": "code",
   "execution_count": null,
   "metadata": {},
   "outputs": [],
   "source": [
    "import torch\n",
    "import torch.nn as nn\n",
    "import time\n",
    "\n",
    "class MyModel(nn.Module):\n",
    "    def __init__(self):\n",
    "        super().__init__()\n",
    "        self.fc = nn.Linear(100,50)\n",
    "\n",
    "    def forward(self, x):\n",
    "        return self.fc(x)\n",
    "\n",
    "model = MyModel()\n",
    "\n",
    "device_count = torch.cuda.device_count()\n",
    "print(\"device_count =\", device_count)\n",
    "\n",
    "if device_count > 1:\n",
    "    print(f\"using {device_count} GPUs!\")\n",
    "    model = nn.DataParallel(model)\n",
    "\n",
    "device = 'cuda' if torch.cuda.is_available() else 'cpu'\n",
    "model.to(device)\n",
    "\n",
    "start_time = time.time()\n",
    "for i in range(10):\n",
    "    myinput = torch.randn(10,10,32000,100).to(device)\n",
    "    output = model(myinput)\n",
    "    print(output.shape)\n",
    "# plt.imshow(myinput.cpu()[0])\n",
    "# plt.show()\n",
    "# plt.imshow(output.detach().cpu().numpy()[0])\n",
    "# plt.show()"
   ]
  },
  {
   "cell_type": "code",
   "execution_count": null,
   "metadata": {},
   "outputs": [],
   "source": [
    "# import torch.distributed as dist\n",
    "# dist.init_process_group(backend='nccl')"
   ]
  },
  {
   "cell_type": "code",
   "execution_count": null,
   "metadata": {},
   "outputs": [],
   "source": [
    "import numpy as np\n",
    "import torch\n",
    "device = 'cuda' if torch.cuda.is_available() else 'cpu'\n",
    "\n",
    "data = torch.randn((64,64,64))\n",
    "\n",
    "num_elements = data.numpy().size\n",
    "element_size = data.numpy().itemsize\n",
    "\n",
    "print(data.dtype)\n",
    "print(num_elements, element_size)\n",
    "print(f\"total size = {num_elements*element_size/1024/1024} MB\")\n",
    "\n",
    "print(\"---\"*30)\n",
    "data = data.to(torch.float64)\n",
    "\n",
    "num_elements = data.numpy().size\n",
    "element_size = data.numpy().itemsize\n",
    "\n",
    "print(data.dtype)\n",
    "print(num_elements, element_size)\n",
    "print(f\"total size = {num_elements*element_size/1024/1024} MB\")\n",
    "\n",
    "print(\"---\"*30)\n",
    "data = data.to(torch.float16)\n",
    "\n",
    "num_elements = data.numpy().size\n",
    "element_size = data.numpy().itemsize\n",
    "\n",
    "print(data.dtype)\n",
    "print(num_elements, element_size)\n",
    "print(f\"total size = {num_elements*element_size/1024/1024} MB\")"
   ]
  }
 ],
 "metadata": {
  "kernelspec": {
   "display_name": "base",
   "language": "python",
   "name": "python3"
  },
  "language_info": {
   "codemirror_mode": {
    "name": "ipython",
    "version": 3
   },
   "file_extension": ".py",
   "mimetype": "text/x-python",
   "name": "python",
   "nbconvert_exporter": "python",
   "pygments_lexer": "ipython3",
   "version": "3.9.19"
  },
  "orig_nbformat": 4
 },
 "nbformat": 4,
 "nbformat_minor": 2
}
